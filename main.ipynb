{
 "cells": [
  {
   "cell_type": "code",
   "execution_count": 2,
   "source": [
    "import torch\r\n",
    "\r\n",
    "torch.__version__\r\n",
    "\r\n",
    "# torch.cuda.set_device(0)\r\n",
    "torch.cuda.is_available()"
   ],
   "outputs": [
    {
     "output_type": "execute_result",
     "data": {
      "text/plain": [
       "False"
      ]
     },
     "metadata": {},
     "execution_count": 2
    }
   ],
   "metadata": {}
  },
  {
   "cell_type": "markdown",
   "source": [
    "## To check out all the arithmetic operations \r\n",
    " [see](https://pytorch.org/docs/stable/torch.html \"link here\")"
   ],
   "metadata": {}
  },
  {
   "cell_type": "code",
   "execution_count": 3,
   "source": [
    "# https://docs.microsoft.com/en-us/learn/modules/intro-machine-learning-pytorch/2-tensors\r\n",
    "\r\n",
    "%matplotlib inline"
   ],
   "outputs": [],
   "metadata": {}
  },
  {
   "cell_type": "code",
   "execution_count": 4,
   "source": [
    "import torch\r\n",
    "import numpy as np"
   ],
   "outputs": [],
   "metadata": {}
  },
  {
   "cell_type": "markdown",
   "source": [
    "### Initializing a Tensor"
   ],
   "metadata": {}
  },
  {
   "cell_type": "code",
   "execution_count": 5,
   "source": [
    "# from the data\r\n",
    "\r\n",
    "data = [[1, 2],[3, 4]]\r\n",
    "type(data)\r\n",
    "x_data = torch.tensor(data)\r\n",
    "(x_data)"
   ],
   "outputs": [
    {
     "output_type": "execute_result",
     "data": {
      "text/plain": [
       "tensor([[1, 2],\n",
       "        [3, 4]])"
      ]
     },
     "metadata": {},
     "execution_count": 5
    }
   ],
   "metadata": {}
  },
  {
   "cell_type": "code",
   "execution_count": 6,
   "source": [
    "# from numpy array\r\n",
    "\r\n",
    "np_array = np.array(data)\r\n",
    "np_array\r\n",
    "x_np = torch.from_numpy(np_array)\r\n",
    "x_np"
   ],
   "outputs": [
    {
     "output_type": "execute_result",
     "data": {
      "text/plain": [
       "tensor([[1, 2],\n",
       "        [3, 4]], dtype=torch.int32)"
      ]
     },
     "metadata": {},
     "execution_count": 6
    }
   ],
   "metadata": {}
  },
  {
   "cell_type": "code",
   "execution_count": 7,
   "source": [
    "# from another tensor\r\n",
    "\r\n",
    "x_ones = torch.ones_like(x_data) # retains the properties of x_data\r\n",
    "print(f\"Ones Tensor: \\n {x_ones} \\n\")\r\n",
    "\r\n",
    "x_rand = torch.rand_like(x_data, dtype=torch.float) # overrides the datatype of x_data\r\n",
    "print(f\"Random Tensor: \\n {x_rand} \\n\")\r\n"
   ],
   "outputs": [
    {
     "output_type": "stream",
     "name": "stdout",
     "text": [
      "Ones Tensor: \n",
      " tensor([[1, 1],\n",
      "        [1, 1]]) \n",
      "\n",
      "Random Tensor: \n",
      " tensor([[0.8670, 0.8321],\n",
      "        [0.4241, 0.5511]]) \n",
      "\n"
     ]
    }
   ],
   "metadata": {}
  },
  {
   "cell_type": "code",
   "execution_count": 8,
   "source": [
    "# With random or constant values\r\n",
    "\r\n",
    "shape = (2,3,)\r\n",
    "rand_tensor = torch.rand(shape)\r\n",
    "ones_tensor = torch.ones(shape)\r\n",
    "zeros_tensor = torch.zeros(shape)\r\n",
    "\r\n",
    "print(f\"Random Tensor: \\n {rand_tensor} \\n\")\r\n",
    "print(f\"Ones Tensor: \\n {ones_tensor} \\n\")\r\n",
    "print(f\"Zeros Tensor: \\n {zeros_tensor}\")"
   ],
   "outputs": [
    {
     "output_type": "stream",
     "name": "stdout",
     "text": [
      "Random Tensor: \n",
      " tensor([[0.8215, 0.7201, 0.2209],\n",
      "        [0.2028, 0.7058, 0.6338]]) \n",
      "\n",
      "Ones Tensor: \n",
      " tensor([[1., 1., 1.],\n",
      "        [1., 1., 1.]]) \n",
      "\n",
      "Zeros Tensor: \n",
      " tensor([[0., 0., 0.],\n",
      "        [0., 0., 0.]])\n"
     ]
    }
   ],
   "metadata": {}
  },
  {
   "cell_type": "code",
   "execution_count": 9,
   "source": [
    "# Tensor attributes\r\n",
    "tensor = torch.rand(3,4)\r\n",
    "# print(dir(tensor))"
   ],
   "outputs": [],
   "metadata": {}
  },
  {
   "cell_type": "code",
   "execution_count": 10,
   "source": [
    "torch.cuda.is_available()"
   ],
   "outputs": [
    {
     "output_type": "execute_result",
     "data": {
      "text/plain": [
       "False"
      ]
     },
     "metadata": {},
     "execution_count": 10
    }
   ],
   "metadata": {}
  },
  {
   "cell_type": "code",
   "execution_count": 11,
   "source": [
    "torch.cuda.is_initialized()"
   ],
   "outputs": [
    {
     "output_type": "execute_result",
     "data": {
      "text/plain": [
       "False"
      ]
     },
     "metadata": {},
     "execution_count": 11
    }
   ],
   "metadata": {}
  },
  {
   "cell_type": "code",
   "execution_count": 12,
   "source": [
    "torch.__version__\r\n",
    "torch.cuda.device_count()"
   ],
   "outputs": [
    {
     "output_type": "execute_result",
     "data": {
      "text/plain": [
       "0"
      ]
     },
     "metadata": {},
     "execution_count": 12
    }
   ],
   "metadata": {}
  },
  {
   "cell_type": "code",
   "execution_count": 13,
   "source": [
    "tensor = torch.ones(4, 4)\r\n",
    "print('First row: ',tensor[0])\r\n",
    "print('First column: ', tensor[:, 0])\r\n",
    "print('Last column:', tensor[..., -1])\r\n",
    "tensor[:,1] = 0\r\n",
    "print(tensor)"
   ],
   "outputs": [
    {
     "output_type": "stream",
     "name": "stdout",
     "text": [
      "First row:  tensor([1., 1., 1., 1.])\n",
      "First column:  tensor([1., 1., 1., 1.])\n",
      "Last column: tensor([1., 1., 1., 1.])\n",
      "tensor([[1., 0., 1., 1.],\n",
      "        [1., 0., 1., 1.],\n",
      "        [1., 0., 1., 1.],\n",
      "        [1., 0., 1., 1.]])\n"
     ]
    }
   ],
   "metadata": {}
  },
  {
   "cell_type": "code",
   "execution_count": 14,
   "source": [
    "# joining tensors\r\n",
    "\r\n",
    "t1 = torch.cat([tensor, tensor, tensor], dim=1)\r\n",
    "print(t1)"
   ],
   "outputs": [
    {
     "output_type": "stream",
     "name": "stdout",
     "text": [
      "tensor([[1., 0., 1., 1., 1., 0., 1., 1., 1., 0., 1., 1.],\n",
      "        [1., 0., 1., 1., 1., 0., 1., 1., 1., 0., 1., 1.],\n",
      "        [1., 0., 1., 1., 1., 0., 1., 1., 1., 0., 1., 1.],\n",
      "        [1., 0., 1., 1., 1., 0., 1., 1., 1., 0., 1., 1.]])\n"
     ]
    }
   ],
   "metadata": {}
  },
  {
   "cell_type": "code",
   "execution_count": null,
   "source": [],
   "outputs": [],
   "metadata": {}
  },
  {
   "cell_type": "code",
   "execution_count": 15,
   "source": [
    "# This computes the matrix multiplication between two tensors. y1, y2, y3 will have the same value\r\n",
    "y1 = tensor @ tensor.T\r\n",
    "y2 = tensor.matmul(tensor.T)\r\n",
    "\r\n",
    "y3 = torch.rand_like(tensor)\r\n",
    "torch.matmul(tensor, tensor.T, out=y3)\r\n",
    "\r\n",
    "\r\n",
    "# This computes the element-wise product. z1, z2, z3 will have the same value\r\n",
    "z1 = tensor * tensor\r\n",
    "z2 = tensor.mul(tensor)\r\n",
    "\r\n",
    "z3 = torch.rand_like(tensor)\r\n",
    "torch.mul(tensor, tensor, out=z3)"
   ],
   "outputs": [
    {
     "output_type": "execute_result",
     "data": {
      "text/plain": [
       "tensor([[1., 0., 1., 1.],\n",
       "        [1., 0., 1., 1.],\n",
       "        [1., 0., 1., 1.],\n",
       "        [1., 0., 1., 1.]])"
      ]
     },
     "metadata": {},
     "execution_count": 15
    }
   ],
   "metadata": {}
  },
  {
   "cell_type": "code",
   "execution_count": 16,
   "source": [
    "# Single-element tensors\r\n",
    "\r\n",
    "agg = tensor.sum()\r\n",
    "agg_item = agg.item()  \r\n",
    "print(agg_item, type(agg_item))\r\n"
   ],
   "outputs": [
    {
     "output_type": "stream",
     "name": "stdout",
     "text": [
      "12.0 <class 'float'>\n"
     ]
    }
   ],
   "metadata": {}
  },
  {
   "cell_type": "code",
   "execution_count": 17,
   "source": [
    "# not recommended use of in-place operation\r\n",
    "\r\n",
    "print(tensor, \"\\n\")\r\n",
    "tensor.add_(5)\r\n",
    "print(tensor)"
   ],
   "outputs": [
    {
     "output_type": "stream",
     "name": "stdout",
     "text": [
      "tensor([[1., 0., 1., 1.],\n",
      "        [1., 0., 1., 1.],\n",
      "        [1., 0., 1., 1.],\n",
      "        [1., 0., 1., 1.]]) \n",
      "\n",
      "tensor([[6., 5., 6., 6.],\n",
      "        [6., 5., 6., 6.],\n",
      "        [6., 5., 6., 6.],\n",
      "        [6., 5., 6., 6.]])\n"
     ]
    }
   ],
   "metadata": {}
  },
  {
   "cell_type": "code",
   "execution_count": 18,
   "source": [
    "# tensor to numpy\r\n",
    "\r\n",
    "t = torch.ones(5)\r\n",
    "print(f\"t: {t}\")\r\n",
    "n = t.numpy()\r\n",
    "print(f\"n: {n}\")\r\n",
    "\r\n",
    "print(\"A change in tensor will reflect in numpy.\")\r\n",
    "t.add_(1)\r\n",
    "print(f\"t: {t}\")\r\n",
    "print(f\"n: {n}\")"
   ],
   "outputs": [
    {
     "output_type": "stream",
     "name": "stdout",
     "text": [
      "t: tensor([1., 1., 1., 1., 1.])\n",
      "n: [1. 1. 1. 1. 1.]\n",
      "A change in tensor will reflect in numpy.\n",
      "t: tensor([2., 2., 2., 2., 2.])\n",
      "n: [2. 2. 2. 2. 2.]\n"
     ]
    }
   ],
   "metadata": {}
  },
  {
   "cell_type": "code",
   "execution_count": 19,
   "source": [
    "np.add(1,n, out=n)\r\n",
    "n"
   ],
   "outputs": [
    {
     "output_type": "execute_result",
     "data": {
      "text/plain": [
       "array([3., 3., 3., 3., 3.], dtype=float32)"
      ]
     },
     "metadata": {},
     "execution_count": 19
    }
   ],
   "metadata": {}
  },
  {
   "cell_type": "code",
   "execution_count": 20,
   "source": [
    "dtype = torch.float\r\n",
    "device = torch.device(\"cpu\")\r\n",
    "device = torch.device(\"cuda:0\")  # Uncomment this to run on GPU\r\n"
   ],
   "outputs": [],
   "metadata": {}
  },
  {
   "cell_type": "code",
   "execution_count": 21,
   "source": [
    "# Load data with pytorch datasets and Dataloaders\r\n",
    "# data source: https://pytorch.org/vision/stable/datasets.html#fashion-mnist\r\n",
    "\r\n",
    "import torch\r\n",
    "from torch.utils.data import Dataset\r\n",
    "from torchvision import datasets\r\n",
    "from torchvision.transforms import ToTensor, Lambda\r\n",
    "import matplotlib.pyplot as plt\r\n",
    "\r\n",
    "training_data = datasets.FashionMNIST(\r\n",
    "    root=\"data\",\r\n",
    "    train=True,\r\n",
    "    download=True,\r\n",
    "    transform=ToTensor()\r\n",
    ")\r\n",
    "\r\n",
    "test_data = datasets.FashionMNIST(\r\n",
    "    root=\"data\",\r\n",
    "    train=False,\r\n",
    "    download=True,\r\n",
    "    transform=ToTensor()\r\n",
    ")\r\n"
   ],
   "outputs": [
    {
     "output_type": "stream",
     "name": "stderr",
     "text": [
      "C:\\ProgramData\\Anaconda3\\lib\\site-packages\\torchvision\\datasets\\mnist.py:498: UserWarning: The given NumPy array is not writeable, and PyTorch does not support non-writeable tensors. This means you can write to the underlying (supposedly non-writeable) NumPy array using the tensor. You may want to copy the array to protect its data or make it writeable before converting it to a tensor. This type of warning will be suppressed for the rest of this program. (Triggered internally at  ..\\torch\\csrc\\utils\\tensor_numpy.cpp:180.)\n",
      "  return torch.from_numpy(parsed.astype(m[2], copy=False)).view(*s)\n"
     ]
    }
   ],
   "metadata": {}
  },
  {
   "cell_type": "code",
   "execution_count": 22,
   "source": [
    "# Iterating and visualizing the dataset\r\n",
    "\r\n",
    "labels_map = {\r\n",
    "    0: \"T-Shirt\",\r\n",
    "    1: \"Trouser\",\r\n",
    "    2: \"Pullover\",\r\n",
    "    3: \"Dress\",\r\n",
    "    4: \"Coat\",\r\n",
    "    5: \"Sandal\",\r\n",
    "    6: \"Shirt\",\r\n",
    "    7: \"Sneaker\",\r\n",
    "    8: \"Bag\",\r\n",
    "    9: \"Ankle Boot\",\r\n",
    "}\r\n",
    "figure = plt.figure(figsize=(8, 8))\r\n",
    "cols, rows = 3, 3\r\n",
    "for i in range(1, cols * rows + 1):\r\n",
    "    sample_idx = torch.randint(len(training_data), size=(1,)).item()\r\n",
    "    img, label = training_data[sample_idx]\r\n",
    "    figure.add_subplot(rows, cols, i)\r\n",
    "    plt.title(labels_map[label])\r\n",
    "    plt.axis(\"off\")\r\n",
    "    plt.imshow(img.squeeze(), cmap=\"gray\")\r\n",
    "plt.show()"
   ],
   "outputs": [
    {
     "output_type": "display_data",
     "data": {
      "text/plain": [
       "<Figure size 576x576 with 9 Axes>"
      ],
      "image/svg+xml": "<?xml version=\"1.0\" encoding=\"utf-8\" standalone=\"no\"?>\r\n<!DOCTYPE svg PUBLIC \"-//W3C//DTD SVG 1.1//EN\"\r\n  \"http://www.w3.org/Graphics/SVG/1.1/DTD/svg11.dtd\">\r\n<!-- Created with matplotlib (https://matplotlib.org/) -->\r\n<svg height=\"464.398125pt\" version=\"1.1\" viewBox=\"0 0 457.411765 464.398125\" width=\"457.411765pt\" xmlns=\"http://www.w3.org/2000/svg\" xmlns:xlink=\"http://www.w3.org/1999/xlink\">\r\n <metadata>\r\n  <rdf:RDF xmlns:cc=\"http://creativecommons.org/ns#\" xmlns:dc=\"http://purl.org/dc/elements/1.1/\" xmlns:rdf=\"http://www.w3.org/1999/02/22-rdf-syntax-ns#\">\r\n   <cc:Work>\r\n    <dc:type rdf:resource=\"http://purl.org/dc/dcmitype/StillImage\"/>\r\n    <dc:date>2021-08-29T09:48:30.395557</dc:date>\r\n    <dc:format>image/svg+xml</dc:format>\r\n    <dc:creator>\r\n     <cc:Agent>\r\n      <dc:title>Matplotlib v3.3.2, https://matplotlib.org/</dc:title>\r\n     </cc:Agent>\r\n    </dc:creator>\r\n   </cc:Work>\r\n  </rdf:RDF>\r\n </metadata>\r\n <defs>\r\n  <style type=\"text/css\">*{stroke-linecap:butt;stroke-linejoin:round;}</style>\r\n </defs>\r\n <g id=\"figure_1\">\r\n  <g id=\"patch_1\">\r\n   <path d=\"M 0 464.398125 \r\nL 457.411765 464.398125 \r\nL 457.411765 0 \r\nL 0 0 \r\nz\r\n\" style=\"fill:none;\"/>\r\n  </g>\r\n  <g id=\"axes_1\">\r\n   <g clip-path=\"url(#p46893cd8d5)\">\r\n    <image height=\"128\" id=\"imagec098da2a63\" transform=\"scale(1 -1)translate(0 -128)\" width=\"128\" x=\"7.2\" xlink:href=\"data:image/png;base64,\r\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\" y=\"-22.224007\"/>\r\n   </g>\r\n   <g id=\"text_1\">\r\n    <!-- Ankle Boot -->\r\n    <g transform=\"translate(38.694816 16.318125)scale(0.12 -0.12)\">\r\n     <defs>\r\n      <path d=\"M 34.1875 63.1875 \r\nL 20.796875 26.90625 \r\nL 47.609375 26.90625 \r\nz\r\nM 28.609375 72.90625 \r\nL 39.796875 72.90625 \r\nL 67.578125 0 \r\nL 57.328125 0 \r\nL 50.6875 18.703125 \r\nL 17.828125 18.703125 \r\nL 11.1875 0 \r\nL 0.78125 0 \r\nz\r\n\" id=\"DejaVuSans-65\"/>\r\n      <path d=\"M 54.890625 33.015625 \r\nL 54.890625 0 \r\nL 45.90625 0 \r\nL 45.90625 32.71875 \r\nQ 45.90625 40.484375 42.875 44.328125 \r\nQ 39.84375 48.1875 33.796875 48.1875 \r\nQ 26.515625 48.1875 22.3125 43.546875 \r\nQ 18.109375 38.921875 18.109375 30.90625 \r\nL 18.109375 0 \r\nL 9.078125 0 \r\nL 9.078125 54.6875 \r\nL 18.109375 54.6875 \r\nL 18.109375 46.1875 \r\nQ 21.34375 51.125 25.703125 53.5625 \r\nQ 30.078125 56 35.796875 56 \r\nQ 45.21875 56 50.046875 50.171875 \r\nQ 54.890625 44.34375 54.890625 33.015625 \r\nz\r\n\" id=\"DejaVuSans-110\"/>\r\n      <path d=\"M 9.078125 75.984375 \r\nL 18.109375 75.984375 \r\nL 18.109375 31.109375 \r\nL 44.921875 54.6875 \r\nL 56.390625 54.6875 \r\nL 27.390625 29.109375 \r\nL 57.625 0 \r\nL 45.90625 0 \r\nL 18.109375 26.703125 \r\nL 18.109375 0 \r\nL 9.078125 0 \r\nz\r\n\" id=\"DejaVuSans-107\"/>\r\n      <path d=\"M 9.421875 75.984375 \r\nL 18.40625 75.984375 \r\nL 18.40625 0 \r\nL 9.421875 0 \r\nz\r\n\" id=\"DejaVuSans-108\"/>\r\n      <path d=\"M 56.203125 29.59375 \r\nL 56.203125 25.203125 \r\nL 14.890625 25.203125 \r\nQ 15.484375 15.921875 20.484375 11.0625 \r\nQ 25.484375 6.203125 34.421875 6.203125 \r\nQ 39.59375 6.203125 44.453125 7.46875 \r\nQ 49.3125 8.734375 54.109375 11.28125 \r\nL 54.109375 2.78125 \r\nQ 49.265625 0.734375 44.1875 -0.34375 \r\nQ 39.109375 -1.421875 33.890625 -1.421875 \r\nQ 20.796875 -1.421875 13.15625 6.1875 \r\nQ 5.515625 13.8125 5.515625 26.8125 \r\nQ 5.515625 40.234375 12.765625 48.109375 \r\nQ 20.015625 56 32.328125 56 \r\nQ 43.359375 56 49.78125 48.890625 \r\nQ 56.203125 41.796875 56.203125 29.59375 \r\nz\r\nM 47.21875 32.234375 \r\nQ 47.125 39.59375 43.09375 43.984375 \r\nQ 39.0625 48.390625 32.421875 48.390625 \r\nQ 24.90625 48.390625 20.390625 44.140625 \r\nQ 15.875 39.890625 15.1875 32.171875 \r\nz\r\n\" id=\"DejaVuSans-101\"/>\r\n      <path id=\"DejaVuSans-32\"/>\r\n      <path d=\"M 19.671875 34.8125 \r\nL 19.671875 8.109375 \r\nL 35.5 8.109375 \r\nQ 43.453125 8.109375 47.28125 11.40625 \r\nQ 51.125 14.703125 51.125 21.484375 \r\nQ 51.125 28.328125 47.28125 31.5625 \r\nQ 43.453125 34.8125 35.5 34.8125 \r\nz\r\nM 19.671875 64.796875 \r\nL 19.671875 42.828125 \r\nL 34.28125 42.828125 \r\nQ 41.5 42.828125 45.03125 45.53125 \r\nQ 48.578125 48.25 48.578125 53.8125 \r\nQ 48.578125 59.328125 45.03125 62.0625 \r\nQ 41.5 64.796875 34.28125 64.796875 \r\nz\r\nM 9.8125 72.90625 \r\nL 35.015625 72.90625 \r\nQ 46.296875 72.90625 52.390625 68.21875 \r\nQ 58.5 63.53125 58.5 54.890625 \r\nQ 58.5 48.1875 55.375 44.234375 \r\nQ 52.25 40.28125 46.1875 39.3125 \r\nQ 53.46875 37.75 57.5 32.78125 \r\nQ 61.53125 27.828125 61.53125 20.40625 \r\nQ 61.53125 10.640625 54.890625 5.3125 \r\nQ 48.25 0 35.984375 0 \r\nL 9.8125 0 \r\nz\r\n\" id=\"DejaVuSans-66\"/>\r\n      <path d=\"M 30.609375 48.390625 \r\nQ 23.390625 48.390625 19.1875 42.75 \r\nQ 14.984375 37.109375 14.984375 27.296875 \r\nQ 14.984375 17.484375 19.15625 11.84375 \r\nQ 23.34375 6.203125 30.609375 6.203125 \r\nQ 37.796875 6.203125 41.984375 11.859375 \r\nQ 46.1875 17.53125 46.1875 27.296875 \r\nQ 46.1875 37.015625 41.984375 42.703125 \r\nQ 37.796875 48.390625 30.609375 48.390625 \r\nz\r\nM 30.609375 56 \r\nQ 42.328125 56 49.015625 48.375 \r\nQ 55.71875 40.765625 55.71875 27.296875 \r\nQ 55.71875 13.875 49.015625 6.21875 \r\nQ 42.328125 -1.421875 30.609375 -1.421875 \r\nQ 18.84375 -1.421875 12.171875 6.21875 \r\nQ 5.515625 13.875 5.515625 27.296875 \r\nQ 5.515625 40.765625 12.171875 48.375 \r\nQ 18.84375 56 30.609375 56 \r\nz\r\n\" id=\"DejaVuSans-111\"/>\r\n      <path d=\"M 18.3125 70.21875 \r\nL 18.3125 54.6875 \r\nL 36.8125 54.6875 \r\nL 36.8125 47.703125 \r\nL 18.3125 47.703125 \r\nL 18.3125 18.015625 \r\nQ 18.3125 11.328125 20.140625 9.421875 \r\nQ 21.96875 7.515625 27.59375 7.515625 \r\nL 36.8125 7.515625 \r\nL 36.8125 0 \r\nL 27.59375 0 \r\nQ 17.1875 0 13.234375 3.875 \r\nQ 9.28125 7.765625 9.28125 18.015625 \r\nL 9.28125 47.703125 \r\nL 2.6875 47.703125 \r\nL 2.6875 54.6875 \r\nL 9.28125 54.6875 \r\nL 9.28125 70.21875 \r\nz\r\n\" id=\"DejaVuSans-116\"/>\r\n     </defs>\r\n     <use xlink:href=\"#DejaVuSans-65\"/>\r\n     <use x=\"68.408203\" xlink:href=\"#DejaVuSans-110\"/>\r\n     <use x=\"131.787109\" xlink:href=\"#DejaVuSans-107\"/>\r\n     <use x=\"189.697266\" xlink:href=\"#DejaVuSans-108\"/>\r\n     <use x=\"217.480469\" xlink:href=\"#DejaVuSans-101\"/>\r\n     <use x=\"279.003906\" xlink:href=\"#DejaVuSans-32\"/>\r\n     <use x=\"310.791016\" xlink:href=\"#DejaVuSans-66\"/>\r\n     <use x=\"379.394531\" xlink:href=\"#DejaVuSans-111\"/>\r\n     <use x=\"440.576172\" xlink:href=\"#DejaVuSans-111\"/>\r\n     <use x=\"501.757812\" xlink:href=\"#DejaVuSans-116\"/>\r\n    </g>\r\n   </g>\r\n  </g>\r\n  <g id=\"axes_2\">\r\n   <g clip-path=\"url(#p773060df0a)\">\r\n    <image height=\"128\" id=\"image6e160d0e27\" transform=\"scale(1 -1)translate(0 -128)\" width=\"128\" x=\"164.752941\" xlink:href=\"data:image/png;base64,\r\niVBORw0KGgoAAAANSUhEUgAAAIAAAACACAYAAADDPmHLAAAFg0lEQVR4nO2duU4mMRCE+4fhvi8BCSKADEGAEAFPwJPyGKTwAGSIABAIEPd9b+zqYn9rtdJKW/VlbTUez/ylcantMa2I+A4jS8e/HoD5t1gA4lgA4lgA4lgA4lgA4lgA4lgA4lgA4lgA4lgA4lgA4lgA4lgA4lgA4lgA4lgA4lgA4lgA4lgA4lgA4lgA4lgA4lgA4lgA4lgA4lgA4lgA4lgA4lgA4lgA4jSscWVlpYhHR0dTTk9PTxH39/ennFar9UeDen5+/m0cEXF9fV3EDw8PKWdycrKI19fXU87+/n5qOzw8LOKpqamUMzg4mNra0dXVVZXX3d1dxOz+7+/vi/j9/T3lfHx8FPHOzk7K8RtAHAtAHAtAHAtAnAYNX0TE1tZWEX9+fqacjo5SO19fXykHTQ8zQd/f+YwqvN7i4mLbHBxPRMTBwUERo7mKiHh7e0ttCwsLqQ1Bo8gML94bu1f23HBMLy8vbXOaJvv5zs7OIt7Y2Eg5fgOIYwGIYwGI02CxJCLPHScnJylnfHy8iNn8/vr6WsSsoIE5EbmocXp6mnJwPmVzMBanent7Uw7zN7u7u78dTy3oOdh8j886IvsZ5m/wuV1dXaWcmZmZIl5aWsrXSi1GCgtAHAtAHAtAnGZ4eDg3QlFhYmIi5aDpury8TDloVHB1KqKugMSMEpo3ZkJHRkaKeHt7O+UsLy+ntoGBgSJmJvDm5qaIcXU0IhdragpqEfmZ9PX1pRw0tKwffG6zs7P5+qnFSGEBiGMBiNPgPBmR5w5WZMD5vWahgy3GMLAvttCBsHny6empiDc3N1PO8fFxaquZ33FHEFtUwvtAb/ET+GxZsQwXiNgYsRDGdnb5DSCOBSCOBSCOBSBOw1bR0CxcXFykHNwqzYocSO02ceyLGUwsfLAxYuHj8fEx5bAVQjS9rMiCppMVufA+mJljBhf7rlkxZUZ9dXW1iNnWfb8BxLEAxLEAxGnYjlMsoLDFGLaI0w42lzPYnNsO5i9w7mS7n2qKLMwn4NxdsyuY+QT2TLAv9vxx8YvttsLfkRXL/AYQxwIQxwIQxwIQp6n5XIqZMmyrKQQxmHnCvtiOHDRmzOCgmTs/P085zDy1Gw+D7UhC08eMc839s98Inz+7ftXvmFqMFBaAOBaAOBaAOHRbeEoiK1Y1xqi28oegMWL9YBszQdgPVsZ+ombrVk0lFHOY4ftbFUQ2Zuz77Ows5fgNII4FII4FIE7D5veauQtXqGpWtRhsLsUxsS3XuIo3NDTUdow1RZeIXDCpuT7LqTnHqOa5sb4Rti0cC0h7e3spx28AcSwAcSwAcSwAcRp2yjaumrEiS83W7ZptU2y7E7Yx84R9MROEBpONkRVZsKjCro+ndddsHWermsyE4nNjK534d8xM44nqzCj7DSCOBSCOBSBOw76Pxzm/5hwbNpfh/Mo+zWKFKJzPaxaeWN/oE9h9sHkZ+2Lz693dXREzD4L3VvOJF/s7VgjCnUzMX+H9+nwAk7AAxLEAxLEAxGnYN+N4EjgzQWNjY0XMjNrc3FwRsx05zODUGEw0qmzrNJpQVlBh28KxEMWKVTUnoeOYag68jMiGkhnlo6Oj1IbgM5qfn085fgOIYwGIYwGI02q1WmmFZG1trYjZJ1XT09NFTIsMUIhg39mzeRHnvJoFI+Ylbm9vi5gt/LA2vD7bOY3/jYMVmfDcHlb0wYJSRD6osuaQbXZGEN4H+ze5fgOIYwGIYwGIYwGI04qIP/t+y/wX+A0gjgUgjgUgjgUgjgUgjgUgjgUgjgUgjgUgjgUgjgUgjgUgjgUgjgUgjgUgjgUgjgUgjgUgjgUgjgUgjgUgjgUgjgUgjgUgjgUgjgUgjgUgjgUgjgUgjgUgjgUgzi+bZRe9ssFBxgAAAABJRU5ErkJggg==\" y=\"-22.224007\"/>\r\n   </g>\r\n   <g id=\"text_2\">\r\n    <!-- Bag -->\r\n    <g transform=\"translate(217.103382 16.318125)scale(0.12 -0.12)\">\r\n     <defs>\r\n      <path d=\"M 34.28125 27.484375 \r\nQ 23.390625 27.484375 19.1875 25 \r\nQ 14.984375 22.515625 14.984375 16.5 \r\nQ 14.984375 11.71875 18.140625 8.90625 \r\nQ 21.296875 6.109375 26.703125 6.109375 \r\nQ 34.1875 6.109375 38.703125 11.40625 \r\nQ 43.21875 16.703125 43.21875 25.484375 \r\nL 43.21875 27.484375 \r\nz\r\nM 52.203125 31.203125 \r\nL 52.203125 0 \r\nL 43.21875 0 \r\nL 43.21875 8.296875 \r\nQ 40.140625 3.328125 35.546875 0.953125 \r\nQ 30.953125 -1.421875 24.3125 -1.421875 \r\nQ 15.921875 -1.421875 10.953125 3.296875 \r\nQ 6 8.015625 6 15.921875 \r\nQ 6 25.140625 12.171875 29.828125 \r\nQ 18.359375 34.515625 30.609375 34.515625 \r\nL 43.21875 34.515625 \r\nL 43.21875 35.40625 \r\nQ 43.21875 41.609375 39.140625 45 \r\nQ 35.0625 48.390625 27.6875 48.390625 \r\nQ 23 48.390625 18.546875 47.265625 \r\nQ 14.109375 46.140625 10.015625 43.890625 \r\nL 10.015625 52.203125 \r\nQ 14.9375 54.109375 19.578125 55.046875 \r\nQ 24.21875 56 28.609375 56 \r\nQ 40.484375 56 46.34375 49.84375 \r\nQ 52.203125 43.703125 52.203125 31.203125 \r\nz\r\n\" id=\"DejaVuSans-97\"/>\r\n      <path d=\"M 45.40625 27.984375 \r\nQ 45.40625 37.75 41.375 43.109375 \r\nQ 37.359375 48.484375 30.078125 48.484375 \r\nQ 22.859375 48.484375 18.828125 43.109375 \r\nQ 14.796875 37.75 14.796875 27.984375 \r\nQ 14.796875 18.265625 18.828125 12.890625 \r\nQ 22.859375 7.515625 30.078125 7.515625 \r\nQ 37.359375 7.515625 41.375 12.890625 \r\nQ 45.40625 18.265625 45.40625 27.984375 \r\nz\r\nM 54.390625 6.78125 \r\nQ 54.390625 -7.171875 48.1875 -13.984375 \r\nQ 42 -20.796875 29.203125 -20.796875 \r\nQ 24.46875 -20.796875 20.265625 -20.09375 \r\nQ 16.0625 -19.390625 12.109375 -17.921875 \r\nL 12.109375 -9.1875 \r\nQ 16.0625 -11.328125 19.921875 -12.34375 \r\nQ 23.78125 -13.375 27.78125 -13.375 \r\nQ 36.625 -13.375 41.015625 -8.765625 \r\nQ 45.40625 -4.15625 45.40625 5.171875 \r\nL 45.40625 9.625 \r\nQ 42.625 4.78125 38.28125 2.390625 \r\nQ 33.9375 0 27.875 0 \r\nQ 17.828125 0 11.671875 7.65625 \r\nQ 5.515625 15.328125 5.515625 27.984375 \r\nQ 5.515625 40.671875 11.671875 48.328125 \r\nQ 17.828125 56 27.875 56 \r\nQ 33.9375 56 38.28125 53.609375 \r\nQ 42.625 51.21875 45.40625 46.390625 \r\nL 45.40625 54.6875 \r\nL 54.390625 54.6875 \r\nz\r\n\" id=\"DejaVuSans-103\"/>\r\n     </defs>\r\n     <use xlink:href=\"#DejaVuSans-66\"/>\r\n     <use x=\"68.603516\" xlink:href=\"#DejaVuSans-97\"/>\r\n     <use x=\"129.882812\" xlink:href=\"#DejaVuSans-103\"/>\r\n    </g>\r\n   </g>\r\n  </g>\r\n  <g id=\"axes_3\">\r\n   <g clip-path=\"url(#pf96de5dbdd)\">\r\n    <image height=\"128\" id=\"imageaac39e483a\" transform=\"scale(1 -1)translate(0 -128)\" width=\"128\" x=\"322.305882\" xlink:href=\"data:image/png;base64,\r\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\" y=\"-22.224007\"/>\r\n   </g>\r\n   <g id=\"text_3\">\r\n    <!-- Coat -->\r\n    <g transform=\"translate(372.368824 16.318125)scale(0.12 -0.12)\">\r\n     <defs>\r\n      <path d=\"M 64.40625 67.28125 \r\nL 64.40625 56.890625 \r\nQ 59.421875 61.53125 53.78125 63.8125 \r\nQ 48.140625 66.109375 41.796875 66.109375 \r\nQ 29.296875 66.109375 22.65625 58.46875 \r\nQ 16.015625 50.828125 16.015625 36.375 \r\nQ 16.015625 21.96875 22.65625 14.328125 \r\nQ 29.296875 6.6875 41.796875 6.6875 \r\nQ 48.140625 6.6875 53.78125 8.984375 \r\nQ 59.421875 11.28125 64.40625 15.921875 \r\nL 64.40625 5.609375 \r\nQ 59.234375 2.09375 53.4375 0.328125 \r\nQ 47.65625 -1.421875 41.21875 -1.421875 \r\nQ 24.65625 -1.421875 15.125 8.703125 \r\nQ 5.609375 18.84375 5.609375 36.375 \r\nQ 5.609375 53.953125 15.125 64.078125 \r\nQ 24.65625 74.21875 41.21875 74.21875 \r\nQ 47.75 74.21875 53.53125 72.484375 \r\nQ 59.328125 70.75 64.40625 67.28125 \r\nz\r\n\" id=\"DejaVuSans-67\"/>\r\n     </defs>\r\n     <use xlink:href=\"#DejaVuSans-67\"/>\r\n     <use x=\"69.824219\" xlink:href=\"#DejaVuSans-111\"/>\r\n     <use x=\"131.005859\" xlink:href=\"#DejaVuSans-97\"/>\r\n     <use x=\"192.285156\" xlink:href=\"#DejaVuSans-116\"/>\r\n    </g>\r\n   </g>\r\n  </g>\r\n  <g id=\"axes_4\">\r\n   <g clip-path=\"url(#p1e3ac66d0a)\">\r\n    <image height=\"128\" id=\"image287dd8ba2e\" transform=\"scale(1 -1)translate(0 -128)\" width=\"128\" x=\"7.2\" xlink:href=\"data:image/png;base64,\r\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\" y=\"-175.711066\"/>\r\n   </g>\r\n   <g id=\"text_4\">\r\n    <!-- Ankle Boot -->\r\n    <g transform=\"translate(38.694816 169.805184)scale(0.12 -0.12)\">\r\n     <use xlink:href=\"#DejaVuSans-65\"/>\r\n     <use x=\"68.408203\" xlink:href=\"#DejaVuSans-110\"/>\r\n     <use x=\"131.787109\" xlink:href=\"#DejaVuSans-107\"/>\r\n     <use x=\"189.697266\" xlink:href=\"#DejaVuSans-108\"/>\r\n     <use x=\"217.480469\" xlink:href=\"#DejaVuSans-101\"/>\r\n     <use x=\"279.003906\" xlink:href=\"#DejaVuSans-32\"/>\r\n     <use x=\"310.791016\" xlink:href=\"#DejaVuSans-66\"/>\r\n     <use x=\"379.394531\" xlink:href=\"#DejaVuSans-111\"/>\r\n     <use x=\"440.576172\" xlink:href=\"#DejaVuSans-111\"/>\r\n     <use x=\"501.757812\" xlink:href=\"#DejaVuSans-116\"/>\r\n    </g>\r\n   </g>\r\n  </g>\r\n  <g id=\"axes_5\">\r\n   <g clip-path=\"url(#p344ad9883d)\">\r\n    <image height=\"128\" id=\"image2b274f572d\" transform=\"scale(1 -1)translate(0 -128)\" width=\"128\" x=\"164.752941\" xlink:href=\"data:image/png;base64,\r\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\" y=\"-175.711066\"/>\r\n   </g>\r\n   <g id=\"text_5\">\r\n    <!-- Trouser -->\r\n    <g transform=\"translate(206.83682 169.805184)scale(0.12 -0.12)\">\r\n     <defs>\r\n      <path d=\"M -0.296875 72.90625 \r\nL 61.375 72.90625 \r\nL 61.375 64.59375 \r\nL 35.5 64.59375 \r\nL 35.5 0 \r\nL 25.59375 0 \r\nL 25.59375 64.59375 \r\nL -0.296875 64.59375 \r\nz\r\n\" id=\"DejaVuSans-84\"/>\r\n      <path d=\"M 41.109375 46.296875 \r\nQ 39.59375 47.171875 37.8125 47.578125 \r\nQ 36.03125 48 33.890625 48 \r\nQ 26.265625 48 22.1875 43.046875 \r\nQ 18.109375 38.09375 18.109375 28.8125 \r\nL 18.109375 0 \r\nL 9.078125 0 \r\nL 9.078125 54.6875 \r\nL 18.109375 54.6875 \r\nL 18.109375 46.1875 \r\nQ 20.953125 51.171875 25.484375 53.578125 \r\nQ 30.03125 56 36.53125 56 \r\nQ 37.453125 56 38.578125 55.875 \r\nQ 39.703125 55.765625 41.0625 55.515625 \r\nz\r\n\" id=\"DejaVuSans-114\"/>\r\n      <path d=\"M 8.5 21.578125 \r\nL 8.5 54.6875 \r\nL 17.484375 54.6875 \r\nL 17.484375 21.921875 \r\nQ 17.484375 14.15625 20.5 10.265625 \r\nQ 23.53125 6.390625 29.59375 6.390625 \r\nQ 36.859375 6.390625 41.078125 11.03125 \r\nQ 45.3125 15.671875 45.3125 23.6875 \r\nL 45.3125 54.6875 \r\nL 54.296875 54.6875 \r\nL 54.296875 0 \r\nL 45.3125 0 \r\nL 45.3125 8.40625 \r\nQ 42.046875 3.421875 37.71875 1 \r\nQ 33.40625 -1.421875 27.6875 -1.421875 \r\nQ 18.265625 -1.421875 13.375 4.4375 \r\nQ 8.5 10.296875 8.5 21.578125 \r\nz\r\nM 31.109375 56 \r\nz\r\n\" id=\"DejaVuSans-117\"/>\r\n      <path d=\"M 44.28125 53.078125 \r\nL 44.28125 44.578125 \r\nQ 40.484375 46.53125 36.375 47.5 \r\nQ 32.28125 48.484375 27.875 48.484375 \r\nQ 21.1875 48.484375 17.84375 46.4375 \r\nQ 14.5 44.390625 14.5 40.28125 \r\nQ 14.5 37.15625 16.890625 35.375 \r\nQ 19.28125 33.59375 26.515625 31.984375 \r\nL 29.59375 31.296875 \r\nQ 39.15625 29.25 43.1875 25.515625 \r\nQ 47.21875 21.78125 47.21875 15.09375 \r\nQ 47.21875 7.46875 41.1875 3.015625 \r\nQ 35.15625 -1.421875 24.609375 -1.421875 \r\nQ 20.21875 -1.421875 15.453125 -0.5625 \r\nQ 10.6875 0.296875 5.421875 2 \r\nL 5.421875 11.28125 \r\nQ 10.40625 8.6875 15.234375 7.390625 \r\nQ 20.0625 6.109375 24.8125 6.109375 \r\nQ 31.15625 6.109375 34.5625 8.28125 \r\nQ 37.984375 10.453125 37.984375 14.40625 \r\nQ 37.984375 18.0625 35.515625 20.015625 \r\nQ 33.0625 21.96875 24.703125 23.78125 \r\nL 21.578125 24.515625 \r\nQ 13.234375 26.265625 9.515625 29.90625 \r\nQ 5.8125 33.546875 5.8125 39.890625 \r\nQ 5.8125 47.609375 11.28125 51.796875 \r\nQ 16.75 56 26.8125 56 \r\nQ 31.78125 56 36.171875 55.265625 \r\nQ 40.578125 54.546875 44.28125 53.078125 \r\nz\r\n\" id=\"DejaVuSans-115\"/>\r\n     </defs>\r\n     <use xlink:href=\"#DejaVuSans-84\"/>\r\n     <use x=\"46.333984\" xlink:href=\"#DejaVuSans-114\"/>\r\n     <use x=\"85.197266\" xlink:href=\"#DejaVuSans-111\"/>\r\n     <use x=\"146.378906\" xlink:href=\"#DejaVuSans-117\"/>\r\n     <use x=\"209.757812\" xlink:href=\"#DejaVuSans-115\"/>\r\n     <use x=\"261.857422\" xlink:href=\"#DejaVuSans-101\"/>\r\n     <use x=\"323.380859\" xlink:href=\"#DejaVuSans-114\"/>\r\n    </g>\r\n   </g>\r\n  </g>\r\n  <g id=\"axes_6\">\r\n   <g clip-path=\"url(#pd3fd566c87)\">\r\n    <image height=\"128\" id=\"image825dcb6ac8\" transform=\"scale(1 -1)translate(0 -128)\" width=\"128\" x=\"322.305882\" xlink:href=\"data:image/png;base64,\r\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\" y=\"-175.711066\"/>\r\n   </g>\r\n   <g id=\"text_6\">\r\n    <!-- Pullover -->\r\n    <g transform=\"translate(362.228824 169.805184)scale(0.12 -0.12)\">\r\n     <defs>\r\n      <path d=\"M 19.671875 64.796875 \r\nL 19.671875 37.40625 \r\nL 32.078125 37.40625 \r\nQ 38.96875 37.40625 42.71875 40.96875 \r\nQ 46.484375 44.53125 46.484375 51.125 \r\nQ 46.484375 57.671875 42.71875 61.234375 \r\nQ 38.96875 64.796875 32.078125 64.796875 \r\nz\r\nM 9.8125 72.90625 \r\nL 32.078125 72.90625 \r\nQ 44.34375 72.90625 50.609375 67.359375 \r\nQ 56.890625 61.8125 56.890625 51.125 \r\nQ 56.890625 40.328125 50.609375 34.8125 \r\nQ 44.34375 29.296875 32.078125 29.296875 \r\nL 19.671875 29.296875 \r\nL 19.671875 0 \r\nL 9.8125 0 \r\nz\r\n\" id=\"DejaVuSans-80\"/>\r\n      <path d=\"M 2.984375 54.6875 \r\nL 12.5 54.6875 \r\nL 29.59375 8.796875 \r\nL 46.6875 54.6875 \r\nL 56.203125 54.6875 \r\nL 35.6875 0 \r\nL 23.484375 0 \r\nz\r\n\" id=\"DejaVuSans-118\"/>\r\n     </defs>\r\n     <use xlink:href=\"#DejaVuSans-80\"/>\r\n     <use x=\"58.552734\" xlink:href=\"#DejaVuSans-117\"/>\r\n     <use x=\"121.931641\" xlink:href=\"#DejaVuSans-108\"/>\r\n     <use x=\"149.714844\" xlink:href=\"#DejaVuSans-108\"/>\r\n     <use x=\"177.498047\" xlink:href=\"#DejaVuSans-111\"/>\r\n     <use x=\"238.679688\" xlink:href=\"#DejaVuSans-118\"/>\r\n     <use x=\"297.859375\" xlink:href=\"#DejaVuSans-101\"/>\r\n     <use x=\"359.382812\" xlink:href=\"#DejaVuSans-114\"/>\r\n    </g>\r\n   </g>\r\n  </g>\r\n  <g id=\"axes_7\">\r\n   <g clip-path=\"url(#pbc5ecb64a3)\">\r\n    <image height=\"128\" id=\"imagec68900b5f9\" transform=\"scale(1 -1)translate(0 -128)\" width=\"128\" x=\"7.2\" xlink:href=\"data:image/png;base64,\r\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\" y=\"-329.198125\"/>\r\n   </g>\r\n   <g id=\"text_7\">\r\n    <!-- Coat -->\r\n    <g transform=\"translate(57.262941 323.292243)scale(0.12 -0.12)\">\r\n     <use xlink:href=\"#DejaVuSans-67\"/>\r\n     <use x=\"69.824219\" xlink:href=\"#DejaVuSans-111\"/>\r\n     <use x=\"131.005859\" xlink:href=\"#DejaVuSans-97\"/>\r\n     <use x=\"192.285156\" xlink:href=\"#DejaVuSans-116\"/>\r\n    </g>\r\n   </g>\r\n  </g>\r\n  <g id=\"axes_8\">\r\n   <g clip-path=\"url(#p6bed283774)\">\r\n    <image height=\"128\" id=\"image4b42bc0c66\" transform=\"scale(1 -1)translate(0 -128)\" width=\"128\" x=\"164.752941\" xlink:href=\"data:image/png;base64,\r\niVBORw0KGgoAAAANSUhEUgAAAIAAAACACAYAAADDPmHLAAAFcklEQVR4nO2dSSuuYRjH79eUKZG5jGXKwhQLCyJlJxspH8bCx/AFZIONlRI7SqYMkSlDkYhkns5ZX0PH0+k9Ofn/f7vr7nqnc37dz9V1X88jFkL4FQgsCd/9Bcj3QgHAoQDgUABwKAA4FAAcCgAOBQCHAoBDAcChAOBQAHAoADgUABwKAA4FAIcCgEMBwKEA4FAAcCgAOBQAHAoADgUAhwKAQwHAoQDgUABwKAA4FAAcCgBOUrzeKCMjw6y9vr6KuLq62uR8fHyYtd3dXRFnZ2ebnKamJhEfHh6anPPzcxF3dnaanIKCArO2vr4u4qqqKpNTXFws4rOzM5Pz9vYm4rKyMpOTk5Nj1hYWFkRcWlpqco6OjkS8t7dncq6vr82ahjsAOBQAHAoADgUAJxYiPCQqNTXVrOniKSHBuvT+/i5ir5hKSUkxa7m5uSLOy8szObrovLm5MTm6CMzKyjI5+fn5Zu35+VnEra2tJiczM1PEXhF6cHAg4pOTE5PjFbj636S2ttbkNDQ0iPj4+NjknJ6einhpacnkcAcAhwKAQwHAiVQDeJSUlIi4paXF5Ozv74vYqyV6enrMWnt7u4g3NjZMztramoi9GkDXIB5ejv6e/f39Juf+/l7EXtNFN3l0YyyEaA0s7/c/PDyI2KuT9P+RjkPgDgAPBQCHAoBDAcBxi8CRkRERd3d3mxd2dHSIeGVlxeSMj4+LWBeFIYSwurpq1i4uLkTsnZjpRpRXBOmTRl24hWCbPt6aV6jqppJXhOrf631+XV2dWWtubhax1yza2dn58vO9xo+GOwA4FAAcCgBObHBw0NQAw8PDIvamTSYnJ0U8NjZmcvR12ZuI0VMzHl4NoCdyvCaTvpZ711J9qBOCPVjxDqx0s0YfYHmvS0xMNDlXV1dmTU9EeQ2c8vJyEXuTVXpNv28I3AHgoQDgUABwKAA4saGhIVME6mLBa/LoRog3beMVRhqvEfPy8vLH2Ps8XRSGEMLd3d2XOd5YeGFhoYgrKipMjld0abwCT+MVmFtbWyL2Gjq68VNTU2NykpLk1P/8/LzJ4Q4ADgUAhwKAE2kiyLt2arxpF319S05ONjmfn59mTV+70tPTTc7j46OIvckeXSd4jSjvMEbXLl6dohtIXpNHr+nvHIJfXy0uLoq4sbHR5Hz1fUKwv2N0dNTkcAcAhwKAQwHAoQDgRHo+gD75+lu828e84kUTpRHkvY9eS0tLMzmxWMys6SLUa9bo00evEaandrzxbu91AwMDIvamnXSzyCsm9YmhB3cAcCgAOBQAHAoAzl/fG/i/4Z3q6U6cHmUPwR9J0yd9fX19JkcXtNPT0yZHP8PAG23zCuynpycRe4Wifm99r2QItjD0uq7cAcChAOBQAHDi9qDI7+by8tKs6brAawR5zRL90MeJiQmTc3t7K2J9gufhnYZ6NUhXV5eIvUaQfp33+71rvoY7ADgUABwKAA4FAOfHFIEeepRtdnbW5BQVFZk1XeB54276wVFRisAo90GGEML29vYfPyuEEObm5kTsPYQyCtwBwKEA4FAAcH50DaD/8of3fAB9vQ/BTgB5zzbSt4v19vaanJmZGRF7E1Fes0Y3dfQtbvGEOwA4FAAcCgAOBQDnx0wExRM9ll1ZWWlydFPJO1WcmpqKy/fx7mnUk0RRm0wa7gDgUABwKAA4rAEiUF9fb9ba2tpEvLy8bHI2Nzf/2XeKF9wBwKEA4FAAcCgAOCwCweEOAA4FAIcCgEMBwKEA4FAAcCgAOBQAHAoADgUAhwKAQwHAoQDgUABwKAA4FAAcCgAOBQCHAoBDAcChAOBQAHAoADgUABwKAA4FAIcCgEMBwKEA4FAAcCgAOL8B5sOJWyRo58UAAAAASUVORK5CYII=\" y=\"-329.198125\"/>\r\n   </g>\r\n   <g id=\"text_8\">\r\n    <!-- Sneaker -->\r\n    <g transform=\"translate(204.310257 323.292243)scale(0.12 -0.12)\">\r\n     <defs>\r\n      <path d=\"M 53.515625 70.515625 \r\nL 53.515625 60.890625 \r\nQ 47.90625 63.578125 42.921875 64.890625 \r\nQ 37.9375 66.21875 33.296875 66.21875 \r\nQ 25.25 66.21875 20.875 63.09375 \r\nQ 16.5 59.96875 16.5 54.203125 \r\nQ 16.5 49.359375 19.40625 46.890625 \r\nQ 22.3125 44.4375 30.421875 42.921875 \r\nL 36.375 41.703125 \r\nQ 47.40625 39.59375 52.65625 34.296875 \r\nQ 57.90625 29 57.90625 20.125 \r\nQ 57.90625 9.515625 50.796875 4.046875 \r\nQ 43.703125 -1.421875 29.984375 -1.421875 \r\nQ 24.8125 -1.421875 18.96875 -0.25 \r\nQ 13.140625 0.921875 6.890625 3.21875 \r\nL 6.890625 13.375 \r\nQ 12.890625 10.015625 18.65625 8.296875 \r\nQ 24.421875 6.59375 29.984375 6.59375 \r\nQ 38.421875 6.59375 43.015625 9.90625 \r\nQ 47.609375 13.234375 47.609375 19.390625 \r\nQ 47.609375 24.75 44.3125 27.78125 \r\nQ 41.015625 30.8125 33.5 32.328125 \r\nL 27.484375 33.5 \r\nQ 16.453125 35.6875 11.515625 40.375 \r\nQ 6.59375 45.0625 6.59375 53.421875 \r\nQ 6.59375 63.09375 13.40625 68.65625 \r\nQ 20.21875 74.21875 32.171875 74.21875 \r\nQ 37.3125 74.21875 42.625 73.28125 \r\nQ 47.953125 72.359375 53.515625 70.515625 \r\nz\r\n\" id=\"DejaVuSans-83\"/>\r\n     </defs>\r\n     <use xlink:href=\"#DejaVuSans-83\"/>\r\n     <use x=\"63.476562\" xlink:href=\"#DejaVuSans-110\"/>\r\n     <use x=\"126.855469\" xlink:href=\"#DejaVuSans-101\"/>\r\n     <use x=\"188.378906\" xlink:href=\"#DejaVuSans-97\"/>\r\n     <use x=\"249.658203\" xlink:href=\"#DejaVuSans-107\"/>\r\n     <use x=\"303.943359\" xlink:href=\"#DejaVuSans-101\"/>\r\n     <use x=\"365.466797\" xlink:href=\"#DejaVuSans-114\"/>\r\n    </g>\r\n   </g>\r\n  </g>\r\n  <g id=\"axes_9\">\r\n   <g clip-path=\"url(#p07e6b5ae43)\">\r\n    <image height=\"128\" id=\"image2102fafb2a\" transform=\"scale(1 -1)translate(0 -128)\" width=\"128\" x=\"322.305882\" xlink:href=\"data:image/png;base64,\r\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\" y=\"-329.198125\"/>\r\n   </g>\r\n   <g id=\"text_9\">\r\n    <!-- Sneaker -->\r\n    <g transform=\"translate(361.863199 323.292243)scale(0.12 -0.12)\">\r\n     <use xlink:href=\"#DejaVuSans-83\"/>\r\n     <use x=\"63.476562\" xlink:href=\"#DejaVuSans-110\"/>\r\n     <use x=\"126.855469\" xlink:href=\"#DejaVuSans-101\"/>\r\n     <use x=\"188.378906\" xlink:href=\"#DejaVuSans-97\"/>\r\n     <use x=\"249.658203\" xlink:href=\"#DejaVuSans-107\"/>\r\n     <use x=\"303.943359\" xlink:href=\"#DejaVuSans-101\"/>\r\n     <use x=\"365.466797\" xlink:href=\"#DejaVuSans-114\"/>\r\n    </g>\r\n   </g>\r\n  </g>\r\n </g>\r\n <defs>\r\n  <clipPath id=\"p46893cd8d5\">\r\n   <rect height=\"127.905882\" width=\"127.905882\" x=\"7.2\" y=\"22.318125\"/>\r\n  </clipPath>\r\n  <clipPath id=\"p773060df0a\">\r\n   <rect height=\"127.905882\" width=\"127.905882\" x=\"164.752941\" y=\"22.318125\"/>\r\n  </clipPath>\r\n  <clipPath id=\"pf96de5dbdd\">\r\n   <rect height=\"127.905882\" width=\"127.905882\" x=\"322.305882\" y=\"22.318125\"/>\r\n  </clipPath>\r\n  <clipPath id=\"p1e3ac66d0a\">\r\n   <rect height=\"127.905882\" width=\"127.905882\" x=\"7.2\" y=\"175.805184\"/>\r\n  </clipPath>\r\n  <clipPath id=\"p344ad9883d\">\r\n   <rect height=\"127.905882\" width=\"127.905882\" x=\"164.752941\" y=\"175.805184\"/>\r\n  </clipPath>\r\n  <clipPath id=\"pd3fd566c87\">\r\n   <rect height=\"127.905882\" width=\"127.905882\" x=\"322.305882\" y=\"175.805184\"/>\r\n  </clipPath>\r\n  <clipPath id=\"pbc5ecb64a3\">\r\n   <rect height=\"127.905882\" width=\"127.905882\" x=\"7.2\" y=\"329.292243\"/>\r\n  </clipPath>\r\n  <clipPath id=\"p6bed283774\">\r\n   <rect height=\"127.905882\" width=\"127.905882\" x=\"164.752941\" y=\"329.292243\"/>\r\n  </clipPath>\r\n  <clipPath id=\"p07e6b5ae43\">\r\n   <rect height=\"127.905882\" width=\"127.905882\" x=\"322.305882\" y=\"329.292243\"/>\r\n  </clipPath>\r\n </defs>\r\n</svg>\r\n",
      "image/png": "[encoded data removed]"
     },
     "metadata": {
      "needs_background": "light"
     }
    }
   ],
   "metadata": {}
  },
  {
   "cell_type": "code",
   "execution_count": 23,
   "source": [
    "#\r\n",
    "\r\n",
    "import os\r\n",
    "import pandas as pd\r\n",
    "import torchvision.io as tvio\r\n",
    "\r\n",
    "class CustomImageDataset(Dataset):\r\n",
    "    def __init__(self, annotations_file, img_dir, transform=None, target_transform=None):\r\n",
    "        self.img_labels = pd.read_csv(annotations_file)\r\n",
    "        self.img_dir = img_dir\r\n",
    "        self.transform = transform\r\n",
    "        self.target_transform = target_transform\r\n",
    "\r\n",
    "    def __len__(self):\r\n",
    "        return len(self.img_labels)\r\n",
    "\r\n",
    "    def __getitem__(self, idx):\r\n",
    "        img_path = os.path.join(self.img_dir, self.img_labels.iloc[idx, 0])\r\n",
    "        image = tvio.read_image(img_path)\r\n",
    "        label = self.img_labels.iloc[idx, 1]\r\n",
    "        if self.transform:\r\n",
    "            image = self.transform(image)\r\n",
    "        if self.target_transform:\r\n",
    "            label = self.target_transform(label)\r\n",
    "        sample = {\"image\": image, \"label\": label}\r\n",
    "        return sample "
   ],
   "outputs": [],
   "metadata": {}
  },
  {
   "cell_type": "code",
   "execution_count": 24,
   "source": [
    "from torch.utils.data import DataLoader\r\n",
    "\r\n",
    "train_dataloader = DataLoader(training_data, batch_size=64, shuffle=True)\r\n",
    "test_dataloader = DataLoader(test_data, batch_size=64, shuffle=True)"
   ],
   "outputs": [],
   "metadata": {}
  },
  {
   "cell_type": "code",
   "execution_count": 25,
   "source": [
    "# Display image and label.\r\n",
    "train_features, train_labels = next(iter(train_dataloader))\r\n",
    "print(f\"Feature batch shape: {train_features.size()}\")\r\n",
    "print(f\"Labels batch shape: {train_labels.size()}\")\r\n",
    "img = train_features[0].squeeze()\r\n",
    "label = train_labels[0]\r\n",
    "plt.imshow(img, cmap=\"gray\")\r\n",
    "plt.show()\r\n",
    "print(f\"Label: {label}\")"
   ],
   "outputs": [
    {
     "output_type": "stream",
     "name": "stdout",
     "text": [
      "Feature batch shape: torch.Size([64, 1, 28, 28])\n",
      "Labels batch shape: torch.Size([64])\n"
     ]
    },
    {
     "output_type": "display_data",
     "data": {
      "text/plain": [
       "<Figure size 432x288 with 1 Axes>"
      ],
      "image/svg+xml": "<?xml version=\"1.0\" encoding=\"utf-8\" standalone=\"no\"?>\r\n<!DOCTYPE svg PUBLIC \"-//W3C//DTD SVG 1.1//EN\"\r\n  \"http://www.w3.org/Graphics/SVG/1.1/DTD/svg11.dtd\">\r\n<!-- Created with matplotlib (https://matplotlib.org/) -->\r\n<svg height=\"248.518125pt\" version=\"1.1\" viewBox=\"0 0 251.565 248.518125\" width=\"251.565pt\" xmlns=\"http://www.w3.org/2000/svg\" xmlns:xlink=\"http://www.w3.org/1999/xlink\">\r\n <metadata>\r\n  <rdf:RDF xmlns:cc=\"http://creativecommons.org/ns#\" xmlns:dc=\"http://purl.org/dc/elements/1.1/\" xmlns:rdf=\"http://www.w3.org/1999/02/22-rdf-syntax-ns#\">\r\n   <cc:Work>\r\n    <dc:type rdf:resource=\"http://purl.org/dc/dcmitype/StillImage\"/>\r\n    <dc:date>2021-08-29T09:48:32.145061</dc:date>\r\n    <dc:format>image/svg+xml</dc:format>\r\n    <dc:creator>\r\n     <cc:Agent>\r\n      <dc:title>Matplotlib v3.3.2, https://matplotlib.org/</dc:title>\r\n     </cc:Agent>\r\n    </dc:creator>\r\n   </cc:Work>\r\n  </rdf:RDF>\r\n </metadata>\r\n <defs>\r\n  <style type=\"text/css\">*{stroke-linecap:butt;stroke-linejoin:round;}</style>\r\n </defs>\r\n <g id=\"figure_1\">\r\n  <g id=\"patch_1\">\r\n   <path d=\"M 0 248.518125 \r\nL 251.565 248.518125 \r\nL 251.565 0 \r\nL 0 0 \r\nz\r\n\" style=\"fill:none;\"/>\r\n  </g>\r\n  <g id=\"axes_1\">\r\n   <g id=\"patch_2\">\r\n    <path d=\"M 26.925 224.64 \r\nL 244.365 224.64 \r\nL 244.365 7.2 \r\nL 26.925 7.2 \r\nz\r\n\" style=\"fill:#ffffff;\"/>\r\n   </g>\r\n   <g clip-path=\"url(#p9895f519d2)\">\r\n    <image height=\"218\" id=\"imagea3cbbd0ad0\" transform=\"scale(1 -1)translate(0 -218)\" width=\"218\" x=\"26.925\" xlink:href=\"data:image/png;base64,\r\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\" y=\"-6.64\"/>\r\n   </g>\r\n   <g id=\"matplotlib.axis_1\">\r\n    <g id=\"xtick_1\">\r\n     <g id=\"line2d_1\">\r\n      <defs>\r\n       <path d=\"M 0 0 \r\nL 0 3.5 \r\n\" id=\"m9967433c76\" style=\"stroke:#000000;stroke-width:0.8;\"/>\r\n      </defs>\r\n      <g>\r\n       <use style=\"stroke:#000000;stroke-width:0.8;\" x=\"30.807857\" xlink:href=\"#m9967433c76\" y=\"224.64\"/>\r\n      </g>\r\n     </g>\r\n     <g id=\"text_1\">\r\n      <!-- 0 -->\r\n      <g transform=\"translate(27.626607 239.238437)scale(0.1 -0.1)\">\r\n       <defs>\r\n        <path d=\"M 31.78125 66.40625 \r\nQ 24.171875 66.40625 20.328125 58.90625 \r\nQ 16.5 51.421875 16.5 36.375 \r\nQ 16.5 21.390625 20.328125 13.890625 \r\nQ 24.171875 6.390625 31.78125 6.390625 \r\nQ 39.453125 6.390625 43.28125 13.890625 \r\nQ 47.125 21.390625 47.125 36.375 \r\nQ 47.125 51.421875 43.28125 58.90625 \r\nQ 39.453125 66.40625 31.78125 66.40625 \r\nz\r\nM 31.78125 74.21875 \r\nQ 44.046875 74.21875 50.515625 64.515625 \r\nQ 56.984375 54.828125 56.984375 36.375 \r\nQ 56.984375 17.96875 50.515625 8.265625 \r\nQ 44.046875 -1.421875 31.78125 -1.421875 \r\nQ 19.53125 -1.421875 13.0625 8.265625 \r\nQ 6.59375 17.96875 6.59375 36.375 \r\nQ 6.59375 54.828125 13.0625 64.515625 \r\nQ 19.53125 74.21875 31.78125 74.21875 \r\nz\r\n\" id=\"DejaVuSans-48\"/>\r\n       </defs>\r\n       <use xlink:href=\"#DejaVuSans-48\"/>\r\n      </g>\r\n     </g>\r\n    </g>\r\n    <g id=\"xtick_2\">\r\n     <g id=\"line2d_2\">\r\n      <g>\r\n       <use style=\"stroke:#000000;stroke-width:0.8;\" x=\"69.636429\" xlink:href=\"#m9967433c76\" y=\"224.64\"/>\r\n      </g>\r\n     </g>\r\n     <g id=\"text_2\">\r\n      <!-- 5 -->\r\n      <g transform=\"translate(66.455179 239.238437)scale(0.1 -0.1)\">\r\n       <defs>\r\n        <path d=\"M 10.796875 72.90625 \r\nL 49.515625 72.90625 \r\nL 49.515625 64.59375 \r\nL 19.828125 64.59375 \r\nL 19.828125 46.734375 \r\nQ 21.96875 47.46875 24.109375 47.828125 \r\nQ 26.265625 48.1875 28.421875 48.1875 \r\nQ 40.625 48.1875 47.75 41.5 \r\nQ 54.890625 34.8125 54.890625 23.390625 \r\nQ 54.890625 11.625 47.5625 5.09375 \r\nQ 40.234375 -1.421875 26.90625 -1.421875 \r\nQ 22.3125 -1.421875 17.546875 -0.640625 \r\nQ 12.796875 0.140625 7.71875 1.703125 \r\nL 7.71875 11.625 \r\nQ 12.109375 9.234375 16.796875 8.0625 \r\nQ 21.484375 6.890625 26.703125 6.890625 \r\nQ 35.15625 6.890625 40.078125 11.328125 \r\nQ 45.015625 15.765625 45.015625 23.390625 \r\nQ 45.015625 31 40.078125 35.4375 \r\nQ 35.15625 39.890625 26.703125 39.890625 \r\nQ 22.75 39.890625 18.8125 39.015625 \r\nQ 14.890625 38.140625 10.796875 36.28125 \r\nz\r\n\" id=\"DejaVuSans-53\"/>\r\n       </defs>\r\n       <use xlink:href=\"#DejaVuSans-53\"/>\r\n      </g>\r\n     </g>\r\n    </g>\r\n    <g id=\"xtick_3\">\r\n     <g id=\"line2d_3\">\r\n      <g>\r\n       <use style=\"stroke:#000000;stroke-width:0.8;\" x=\"108.465\" xlink:href=\"#m9967433c76\" y=\"224.64\"/>\r\n      </g>\r\n     </g>\r\n     <g id=\"text_3\">\r\n      <!-- 10 -->\r\n      <g transform=\"translate(102.1025 239.238437)scale(0.1 -0.1)\">\r\n       <defs>\r\n        <path d=\"M 12.40625 8.296875 \r\nL 28.515625 8.296875 \r\nL 28.515625 63.921875 \r\nL 10.984375 60.40625 \r\nL 10.984375 69.390625 \r\nL 28.421875 72.90625 \r\nL 38.28125 72.90625 \r\nL 38.28125 8.296875 \r\nL 54.390625 8.296875 \r\nL 54.390625 0 \r\nL 12.40625 0 \r\nz\r\n\" id=\"DejaVuSans-49\"/>\r\n       </defs>\r\n       <use xlink:href=\"#DejaVuSans-49\"/>\r\n       <use x=\"63.623047\" xlink:href=\"#DejaVuSans-48\"/>\r\n      </g>\r\n     </g>\r\n    </g>\r\n    <g id=\"xtick_4\">\r\n     <g id=\"line2d_4\">\r\n      <g>\r\n       <use style=\"stroke:#000000;stroke-width:0.8;\" x=\"147.293571\" xlink:href=\"#m9967433c76\" y=\"224.64\"/>\r\n      </g>\r\n     </g>\r\n     <g id=\"text_4\">\r\n      <!-- 15 -->\r\n      <g transform=\"translate(140.931071 239.238437)scale(0.1 -0.1)\">\r\n       <use xlink:href=\"#DejaVuSans-49\"/>\r\n       <use x=\"63.623047\" xlink:href=\"#DejaVuSans-53\"/>\r\n      </g>\r\n     </g>\r\n    </g>\r\n    <g id=\"xtick_5\">\r\n     <g id=\"line2d_5\">\r\n      <g>\r\n       <use style=\"stroke:#000000;stroke-width:0.8;\" x=\"186.122143\" xlink:href=\"#m9967433c76\" y=\"224.64\"/>\r\n      </g>\r\n     </g>\r\n     <g id=\"text_5\">\r\n      <!-- 20 -->\r\n      <g transform=\"translate(179.759643 239.238437)scale(0.1 -0.1)\">\r\n       <defs>\r\n        <path d=\"M 19.1875 8.296875 \r\nL 53.609375 8.296875 \r\nL 53.609375 0 \r\nL 7.328125 0 \r\nL 7.328125 8.296875 \r\nQ 12.9375 14.109375 22.625 23.890625 \r\nQ 32.328125 33.6875 34.8125 36.53125 \r\nQ 39.546875 41.84375 41.421875 45.53125 \r\nQ 43.3125 49.21875 43.3125 52.78125 \r\nQ 43.3125 58.59375 39.234375 62.25 \r\nQ 35.15625 65.921875 28.609375 65.921875 \r\nQ 23.96875 65.921875 18.8125 64.3125 \r\nQ 13.671875 62.703125 7.8125 59.421875 \r\nL 7.8125 69.390625 \r\nQ 13.765625 71.78125 18.9375 73 \r\nQ 24.125 74.21875 28.421875 74.21875 \r\nQ 39.75 74.21875 46.484375 68.546875 \r\nQ 53.21875 62.890625 53.21875 53.421875 \r\nQ 53.21875 48.921875 51.53125 44.890625 \r\nQ 49.859375 40.875 45.40625 35.40625 \r\nQ 44.1875 33.984375 37.640625 27.21875 \r\nQ 31.109375 20.453125 19.1875 8.296875 \r\nz\r\n\" id=\"DejaVuSans-50\"/>\r\n       </defs>\r\n       <use xlink:href=\"#DejaVuSans-50\"/>\r\n       <use x=\"63.623047\" xlink:href=\"#DejaVuSans-48\"/>\r\n      </g>\r\n     </g>\r\n    </g>\r\n    <g id=\"xtick_6\">\r\n     <g id=\"line2d_6\">\r\n      <g>\r\n       <use style=\"stroke:#000000;stroke-width:0.8;\" x=\"224.950714\" xlink:href=\"#m9967433c76\" y=\"224.64\"/>\r\n      </g>\r\n     </g>\r\n     <g id=\"text_6\">\r\n      <!-- 25 -->\r\n      <g transform=\"translate(218.588214 239.238437)scale(0.1 -0.1)\">\r\n       <use xlink:href=\"#DejaVuSans-50\"/>\r\n       <use x=\"63.623047\" xlink:href=\"#DejaVuSans-53\"/>\r\n      </g>\r\n     </g>\r\n    </g>\r\n   </g>\r\n   <g id=\"matplotlib.axis_2\">\r\n    <g id=\"ytick_1\">\r\n     <g id=\"line2d_7\">\r\n      <defs>\r\n       <path d=\"M 0 0 \r\nL -3.5 0 \r\n\" id=\"mc5157f5705\" style=\"stroke:#000000;stroke-width:0.8;\"/>\r\n      </defs>\r\n      <g>\r\n       <use style=\"stroke:#000000;stroke-width:0.8;\" x=\"26.925\" xlink:href=\"#mc5157f5705\" y=\"11.082857\"/>\r\n      </g>\r\n     </g>\r\n     <g id=\"text_7\">\r\n      <!-- 0 -->\r\n      <g transform=\"translate(13.5625 14.882076)scale(0.1 -0.1)\">\r\n       <use xlink:href=\"#DejaVuSans-48\"/>\r\n      </g>\r\n     </g>\r\n    </g>\r\n    <g id=\"ytick_2\">\r\n     <g id=\"line2d_8\">\r\n      <g>\r\n       <use style=\"stroke:#000000;stroke-width:0.8;\" x=\"26.925\" xlink:href=\"#mc5157f5705\" y=\"49.911429\"/>\r\n      </g>\r\n     </g>\r\n     <g id=\"text_8\">\r\n      <!-- 5 -->\r\n      <g transform=\"translate(13.5625 53.710647)scale(0.1 -0.1)\">\r\n       <use xlink:href=\"#DejaVuSans-53\"/>\r\n      </g>\r\n     </g>\r\n    </g>\r\n    <g id=\"ytick_3\">\r\n     <g id=\"line2d_9\">\r\n      <g>\r\n       <use style=\"stroke:#000000;stroke-width:0.8;\" x=\"26.925\" xlink:href=\"#mc5157f5705\" y=\"88.74\"/>\r\n      </g>\r\n     </g>\r\n     <g id=\"text_9\">\r\n      <!-- 10 -->\r\n      <g transform=\"translate(7.2 92.539219)scale(0.1 -0.1)\">\r\n       <use xlink:href=\"#DejaVuSans-49\"/>\r\n       <use x=\"63.623047\" xlink:href=\"#DejaVuSans-48\"/>\r\n      </g>\r\n     </g>\r\n    </g>\r\n    <g id=\"ytick_4\">\r\n     <g id=\"line2d_10\">\r\n      <g>\r\n       <use style=\"stroke:#000000;stroke-width:0.8;\" x=\"26.925\" xlink:href=\"#mc5157f5705\" y=\"127.568571\"/>\r\n      </g>\r\n     </g>\r\n     <g id=\"text_10\">\r\n      <!-- 15 -->\r\n      <g transform=\"translate(7.2 131.36779)scale(0.1 -0.1)\">\r\n       <use xlink:href=\"#DejaVuSans-49\"/>\r\n       <use x=\"63.623047\" xlink:href=\"#DejaVuSans-53\"/>\r\n      </g>\r\n     </g>\r\n    </g>\r\n    <g id=\"ytick_5\">\r\n     <g id=\"line2d_11\">\r\n      <g>\r\n       <use style=\"stroke:#000000;stroke-width:0.8;\" x=\"26.925\" xlink:href=\"#mc5157f5705\" y=\"166.397143\"/>\r\n      </g>\r\n     </g>\r\n     <g id=\"text_11\">\r\n      <!-- 20 -->\r\n      <g transform=\"translate(7.2 170.196362)scale(0.1 -0.1)\">\r\n       <use xlink:href=\"#DejaVuSans-50\"/>\r\n       <use x=\"63.623047\" xlink:href=\"#DejaVuSans-48\"/>\r\n      </g>\r\n     </g>\r\n    </g>\r\n    <g id=\"ytick_6\">\r\n     <g id=\"line2d_12\">\r\n      <g>\r\n       <use style=\"stroke:#000000;stroke-width:0.8;\" x=\"26.925\" xlink:href=\"#mc5157f5705\" y=\"205.225714\"/>\r\n      </g>\r\n     </g>\r\n     <g id=\"text_12\">\r\n      <!-- 25 -->\r\n      <g transform=\"translate(7.2 209.024933)scale(0.1 -0.1)\">\r\n       <use xlink:href=\"#DejaVuSans-50\"/>\r\n       <use x=\"63.623047\" xlink:href=\"#DejaVuSans-53\"/>\r\n      </g>\r\n     </g>\r\n    </g>\r\n   </g>\r\n   <g id=\"patch_3\">\r\n    <path d=\"M 26.925 224.64 \r\nL 26.925 7.2 \r\n\" style=\"fill:none;stroke:#000000;stroke-linecap:square;stroke-linejoin:miter;stroke-width:0.8;\"/>\r\n   </g>\r\n   <g id=\"patch_4\">\r\n    <path d=\"M 244.365 224.64 \r\nL 244.365 7.2 \r\n\" style=\"fill:none;stroke:#000000;stroke-linecap:square;stroke-linejoin:miter;stroke-width:0.8;\"/>\r\n   </g>\r\n   <g id=\"patch_5\">\r\n    <path d=\"M 26.925 224.64 \r\nL 244.365 224.64 \r\n\" style=\"fill:none;stroke:#000000;stroke-linecap:square;stroke-linejoin:miter;stroke-width:0.8;\"/>\r\n   </g>\r\n   <g id=\"patch_6\">\r\n    <path d=\"M 26.925 7.2 \r\nL 244.365 7.2 \r\n\" style=\"fill:none;stroke:#000000;stroke-linecap:square;stroke-linejoin:miter;stroke-width:0.8;\"/>\r\n   </g>\r\n  </g>\r\n </g>\r\n <defs>\r\n  <clipPath id=\"p9895f519d2\">\r\n   <rect height=\"217.44\" width=\"217.44\" x=\"26.925\" y=\"7.2\"/>\r\n  </clipPath>\r\n </defs>\r\n</svg>\r\n",
      "image/png": "[encoded data removed]"
     },
     "metadata": {
      "needs_background": "light"
     }
    },
    {
     "output_type": "stream",
     "name": "stdout",
     "text": [
      "Label: 8\n"
     ]
    }
   ],
   "metadata": {}
  },
  {
   "cell_type": "code",
   "execution_count": 26,
   "source": [
    "\r\n",
    "from torchvision import datasets\r\n",
    "from torchvision.transforms import ToTensor, Lambda\r\n",
    "\r\n",
    "ds = datasets.FashionMNIST(\r\n",
    "    root=\"data\",\r\n",
    "    train=True,\r\n",
    "    download=True,\r\n",
    "    transform=ToTensor(),\r\n",
    "    target_transform=Lambda(lambda y: torch.zeros(10, dtype=torch.float).scatter_(0, torch.tensor(y), value=1))\r\n",
    ")"
   ],
   "outputs": [],
   "metadata": {}
  },
  {
   "cell_type": "code",
   "execution_count": 27,
   "source": [
    "target_transform = Lambda(lambda y: torch.zeros(\r\n",
    "    10, dtype=torch.float).scatter_(dim=0, index=torch.tensor(y), value=1))"
   ],
   "outputs": [],
   "metadata": {}
  },
  {
   "cell_type": "code",
   "execution_count": 28,
   "source": [
    "torch.version.cuda\r\n",
    "torch.__version__"
   ],
   "outputs": [
    {
     "output_type": "execute_result",
     "data": {
      "text/plain": [
       "'1.9.0'"
      ]
     },
     "metadata": {},
     "execution_count": 28
    }
   ],
   "metadata": {}
  },
  {
   "cell_type": "markdown",
   "source": [
    "# Build a neural network\r\n",
    "\r\n",
    "Neural networks comprise of layers/modules that perform operations on data. \r\n",
    "The [torch.nn](https://pytorch.org/docs/stable/nn.html) namespace provides all the building blocks you need to \r\n",
    "build your own neural network. Every module in PyTorch subclasses the [nn.Module](https://pytorch.org/docs/stable/generated/torch.nn.Module.html). \r\n",
    "A neural network is a module itself that consists of other modules (layers). This nested structure allows for\r\n",
    "building and managing complex architectures easily.\r\n",
    "\r\n",
    "In the following sections, we'll build a neural network to classify images in the FashionMNIST dataset."
   ],
   "metadata": {}
  },
  {
   "cell_type": "code",
   "execution_count": 29,
   "source": [
    "import os\r\n",
    "import torch\r\n",
    "from torch import nn\r\n",
    "from torch.utils.data import DataLoader\r\n",
    "from torchvision import datasets, transforms"
   ],
   "outputs": [],
   "metadata": {}
  },
  {
   "cell_type": "code",
   "execution_count": 30,
   "source": [
    "device = 'cuda' if torch.cuda.is_available() else 'cpu'\r\n",
    "print('Using {} device'.format(device))"
   ],
   "outputs": [
    {
     "output_type": "stream",
     "name": "stdout",
     "text": [
      "Using cpu device\n"
     ]
    }
   ],
   "metadata": {}
  },
  {
   "cell_type": "code",
   "execution_count": 31,
   "source": [
    "?nn.Module"
   ],
   "outputs": [
    {
     "output_type": "stream",
     "name": "stdout",
     "text": [
      "\u001b[1;31mInit signature:\u001b[0m \u001b[0mnn\u001b[0m\u001b[1;33m.\u001b[0m\u001b[0mModule\u001b[0m\u001b[1;33m(\u001b[0m\u001b[1;33m)\u001b[0m\u001b[1;33m\u001b[0m\u001b[1;33m\u001b[0m\u001b[0m\n",
      "\u001b[1;31mDocstring:\u001b[0m     \n",
      "Base class for all neural network modules.\n",
      "\n",
      "Your models should also subclass this class.\n",
      "\n",
      "Modules can also contain other Modules, allowing to nest them in\n",
      "a tree structure. You can assign the submodules as regular attributes::\n",
      "\n",
      "    import torch.nn as nn\n",
      "    import torch.nn.functional as F\n",
      "\n",
      "    class Model(nn.Module):\n",
      "        def __init__(self):\n",
      "            super(Model, self).__init__()\n",
      "            self.conv1 = nn.Conv2d(1, 20, 5)\n",
      "            self.conv2 = nn.Conv2d(20, 20, 5)\n",
      "\n",
      "        def forward(self, x):\n",
      "            x = F.relu(self.conv1(x))\n",
      "            return F.relu(self.conv2(x))\n",
      "\n",
      "Submodules assigned in this way will be registered, and will have their\n",
      "parameters converted too when you call :meth:`to`, etc.\n",
      "\n",
      ":ivar training: Boolean represents whether this module is in training or\n",
      "                evaluation mode.\n",
      ":vartype training: bool\n",
      "\u001b[1;31mInit docstring:\u001b[0m Initializes internal Module state, shared by both nn.Module and ScriptModule.\n",
      "\u001b[1;31mFile:\u001b[0m           c:\\programdata\\anaconda3\\lib\\site-packages\\torch\\nn\\modules\\module.py\n",
      "\u001b[1;31mType:\u001b[0m           type\n",
      "\u001b[1;31mSubclasses:\u001b[0m     Identity, Linear, Bilinear, _ConvNd, Threshold, ReLU, RReLU, Hardtanh, Sigmoid, Hardsigmoid, ...\n"
     ]
    }
   ],
   "metadata": {}
  },
  {
   "cell_type": "code",
   "execution_count": 32,
   "source": [
    "class NeuralNetwork(nn.Module):\r\n",
    "    def __init__(self):\r\n",
    "        super(NeuralNetwork, self).__init__()\r\n",
    "        self.flatten = nn.Flatten()\r\n",
    "        self.linear_relu_stack = nn.Sequential(\r\n",
    "            nn.Linear(28*28, 512),\r\n",
    "            nn.ReLU(),\r\n",
    "            nn.Linear(512, 512),\r\n",
    "            nn.ReLU(),\r\n",
    "            nn.Linear(512, 10),\r\n",
    "            nn.ReLU()\r\n",
    "        )\r\n",
    "\r\n",
    "    def forward(self, x):\r\n",
    "        x = self.flatten(x)\r\n",
    "        logits = self.linear_relu_stack(x)\r\n",
    "        return logits"
   ],
   "outputs": [],
   "metadata": {}
  },
  {
   "cell_type": "code",
   "execution_count": 33,
   "source": [
    "?super"
   ],
   "outputs": [
    {
     "output_type": "stream",
     "name": "stdout",
     "text": [
      "\u001b[1;31mInit signature:\u001b[0m \u001b[0msuper\u001b[0m\u001b[1;33m(\u001b[0m\u001b[0mself\u001b[0m\u001b[1;33m,\u001b[0m \u001b[1;33m/\u001b[0m\u001b[1;33m,\u001b[0m \u001b[1;33m*\u001b[0m\u001b[0margs\u001b[0m\u001b[1;33m,\u001b[0m \u001b[1;33m**\u001b[0m\u001b[0mkwargs\u001b[0m\u001b[1;33m)\u001b[0m\u001b[1;33m\u001b[0m\u001b[1;33m\u001b[0m\u001b[0m\n",
      "\u001b[1;31mDocstring:\u001b[0m     \n",
      "super() -> same as super(__class__, <first argument>)\n",
      "super(type) -> unbound super object\n",
      "super(type, obj) -> bound super object; requires isinstance(obj, type)\n",
      "super(type, type2) -> bound super object; requires issubclass(type2, type)\n",
      "Typical use to call a cooperative superclass method:\n",
      "class C(B):\n",
      "    def meth(self, arg):\n",
      "        super().meth(arg)\n",
      "This works for class methods too:\n",
      "class C(B):\n",
      "    @classmethod\n",
      "    def cmeth(cls, arg):\n",
      "        super().cmeth(arg)\n",
      "\u001b[1;31mType:\u001b[0m           type\n",
      "\u001b[1;31mSubclasses:\u001b[0m     \n"
     ]
    }
   ],
   "metadata": {}
  },
  {
   "cell_type": "code",
   "execution_count": 34,
   "source": [
    "class B():\r\n",
    "    def majid():\r\n",
    "        print(\"hi there!\")\r\n",
    "class C(B):\r\n",
    "    def meth(self, arg):\r\n",
    "        super().meth(arg)\r\n",
    "\r\n",
    "dir(C)\r\n",
    "C.majid()"
   ],
   "outputs": [
    {
     "output_type": "stream",
     "name": "stdout",
     "text": [
      "hi there!\n"
     ]
    }
   ],
   "metadata": {}
  },
  {
   "cell_type": "markdown",
   "source": [
    "### We create an instance of `NeuralNetwork`, and move it to the `device`, and print it's structure."
   ],
   "metadata": {}
  },
  {
   "cell_type": "code",
   "execution_count": 35,
   "source": [
    "model = NeuralNetwork().to(device)\r\n",
    "print(model)"
   ],
   "outputs": [
    {
     "output_type": "stream",
     "name": "stdout",
     "text": [
      "NeuralNetwork(\n",
      "  (flatten): Flatten(start_dim=1, end_dim=-1)\n",
      "  (linear_relu_stack): Sequential(\n",
      "    (0): Linear(in_features=784, out_features=512, bias=True)\n",
      "    (1): ReLU()\n",
      "    (2): Linear(in_features=512, out_features=512, bias=True)\n",
      "    (3): ReLU()\n",
      "    (4): Linear(in_features=512, out_features=10, bias=True)\n",
      "    (5): ReLU()\n",
      "  )\n",
      ")\n"
     ]
    }
   ],
   "metadata": {}
  },
  {
   "cell_type": "markdown",
   "source": [
    "To use the model, we pass it the input data. This executes the model's `forward`,\r\n",
    "along with some [background operations](https://github.com/pytorch/pytorch/blob/270111b7b611d174967ed204776985cefca9c144/torch/nn/modules/module.py#L866). \r\n",
    "Do not call `model.forward()` directly!\r\n",
    "\r\n",
    "Calling the model on the input returns a 10-dimensional tensor with raw predicted values for each class.\r\n",
    "We get the prediction densities by passing it through an instance of the `nn.Softmax` module."
   ],
   "metadata": {}
  },
  {
   "cell_type": "code",
   "execution_count": 36,
   "source": [
    "\r\n",
    "X = torch.rand(1, 28, 28, device=device)\r\n",
    "logits = model(X) \r\n",
    "pred_probab = nn.Softmax(dim=1)(logits)\r\n",
    "y_pred = pred_probab.argmax(1)\r\n",
    "print(f\"Predicted class: {y_pred}\")\r\n"
   ],
   "outputs": [
    {
     "output_type": "stream",
     "name": "stdout",
     "text": [
      "Predicted class: tensor([9])\n"
     ]
    }
   ],
   "metadata": {}
  },
  {
   "cell_type": "markdown",
   "source": [
    "# Model layers"
   ],
   "metadata": {}
  },
  {
   "cell_type": "code",
   "execution_count": 37,
   "source": [
    "\r\n",
    "# we will take a sample minibatch of 3 images of size 28x28 \r\n",
    "\r\n",
    "input_image = torch.rand(3,28,28)\r\n",
    "print(input_image.size())\r\n"
   ],
   "outputs": [
    {
     "output_type": "stream",
     "name": "stdout",
     "text": [
      "torch.Size([3, 28, 28])\n"
     ]
    }
   ],
   "metadata": {}
  },
  {
   "cell_type": "code",
   "execution_count": 38,
   "source": [
    "# We initialize the nn.Flatten layer to convert each 2D 28x28 image \r\n",
    "# into a contiguous array of 784 pixel values\r\n",
    "\r\n",
    "flatten = nn.Flatten()\r\n",
    "flat_image = flatten(input_image)\r\n",
    "print(flat_image.size())\r\n"
   ],
   "outputs": [
    {
     "output_type": "stream",
     "name": "stdout",
     "text": [
      "torch.Size([3, 784])\n"
     ]
    }
   ],
   "metadata": {}
  },
  {
   "cell_type": "code",
   "execution_count": 39,
   "source": [
    "# nn.Linear\r\n",
    "# The linear layer is a module that applies a linear transformation on \r\n",
    "# the input using it's stored weights and biases.\r\n",
    "\r\n",
    "layer1 = nn.Linear(in_features=28*28, out_features=20)\r\n",
    "hidden1 = layer1(flat_image)\r\n",
    "print(hidden1.size())"
   ],
   "outputs": [
    {
     "output_type": "stream",
     "name": "stdout",
     "text": [
      "torch.Size([3, 20])\n"
     ]
    }
   ],
   "metadata": {}
  },
  {
   "cell_type": "code",
   "execution_count": 40,
   "source": [
    "# nn.ReLU\r\n",
    "# Non-linear activations are what create the complex mappings between \r\n",
    "# the model's inputs and outputs. They are applied after linear transformations\r\n",
    "# to introduce nonlinearity, helping neural networks learn a wide variety of phenomena.\r\n",
    "\r\n",
    "print(f\"Before ReLU: {hidden1}\\n\\n\")\r\n",
    "hidden1 = nn.ReLU()(hidden1)\r\n",
    "print(f\"After ReLU: {hidden1}\")"
   ],
   "outputs": [
    {
     "output_type": "stream",
     "name": "stdout",
     "text": [
      "Before ReLU: tensor([[-0.6027,  0.2304,  0.0035,  0.1573,  0.4006, -0.1479, -0.4183, -0.7636,\n",
      "          0.2203, -0.3254, -0.2140,  0.5686,  0.2205, -0.1153,  0.4836,  0.1242,\n",
      "         -0.1412,  0.1641, -0.2898, -0.1120],\n",
      "        [-0.3871, -0.0064, -0.0600,  0.2502,  0.5786, -0.4915, -0.2590, -0.7834,\n",
      "          0.0903, -0.2652, -0.4692,  0.1803,  0.4340,  0.1719,  0.5616, -0.0272,\n",
      "          0.1389, -0.0586, -0.3203, -0.2966],\n",
      "        [-0.1960, -0.2226,  0.1804, -0.2325,  0.3433, -0.4998, -0.7268, -0.8595,\n",
      "          0.7433, -0.2108,  0.0477,  0.1505,  0.3418,  0.0339,  0.2740,  0.0538,\n",
      "          0.1842, -0.3120, -0.1393, -0.3004]], grad_fn=<AddmmBackward>)\n",
      "\n",
      "\n",
      "After ReLU: tensor([[0.0000, 0.2304, 0.0035, 0.1573, 0.4006, 0.0000, 0.0000, 0.0000, 0.2203,\n",
      "         0.0000, 0.0000, 0.5686, 0.2205, 0.0000, 0.4836, 0.1242, 0.0000, 0.1641,\n",
      "         0.0000, 0.0000],\n",
      "        [0.0000, 0.0000, 0.0000, 0.2502, 0.5786, 0.0000, 0.0000, 0.0000, 0.0903,\n",
      "         0.0000, 0.0000, 0.1803, 0.4340, 0.1719, 0.5616, 0.0000, 0.1389, 0.0000,\n",
      "         0.0000, 0.0000],\n",
      "        [0.0000, 0.0000, 0.1804, 0.0000, 0.3433, 0.0000, 0.0000, 0.0000, 0.7433,\n",
      "         0.0000, 0.0477, 0.1505, 0.3418, 0.0339, 0.2740, 0.0538, 0.1842, 0.0000,\n",
      "         0.0000, 0.0000]], grad_fn=<ReluBackward0>)\n"
     ]
    }
   ],
   "metadata": {}
  },
  {
   "cell_type": "markdown",
   "source": [
    "### nn.Sequential\r\n",
    "\r\n",
    "[nn.Sequential](https://pytorch.org/docs/stable/generated/torch.nn.Sequential.html) is an ordered \r\n",
    "container of modules. The data is passed through all the modules in the same order as defined. You can use\r\n",
    "sequential containers to put together a quick network like `seq_modules`.\r\n",
    "\r\n"
   ],
   "metadata": {}
  },
  {
   "cell_type": "code",
   "execution_count": 41,
   "source": [
    "seq_modules = nn.Sequential(\r\n",
    "    flatten,\r\n",
    "    layer1,\r\n",
    "    nn.ReLU(),\r\n",
    "    nn.Linear(20, 10)\r\n",
    ")\r\n",
    "input_image = torch.rand(3,28,28)\r\n",
    "logits = seq_modules(input_image)\r\n",
    "logits"
   ],
   "outputs": [
    {
     "output_type": "execute_result",
     "data": {
      "text/plain": [
       "tensor([[ 0.0292, -0.0638, -0.0293, -0.1038, -0.0921, -0.0912,  0.0823,  0.1637,\n",
       "         -0.0562, -0.1580],\n",
       "        [ 0.1045, -0.0278, -0.0077, -0.1545, -0.1104, -0.0888, -0.0164,  0.2265,\n",
       "         -0.1850, -0.0692],\n",
       "        [ 0.1351, -0.0173, -0.0136, -0.1676, -0.1368, -0.0245,  0.0167,  0.2188,\n",
       "         -0.1464, -0.0890]], grad_fn=<AddmmBackward>)"
      ]
     },
     "metadata": {},
     "execution_count": 41
    }
   ],
   "metadata": {}
  },
  {
   "cell_type": "markdown",
   "source": [
    "### nn.Softmax\r\n",
    "\r\n",
    "The last linear layer of the neural network returns `logits` - raw values in \\[`-infty`, `infty`] - which are passed to the\r\n",
    "[nn.Softmax](https://pytorch.org/docs/stable/generated/torch.nn.Softmax.html) module. The logits are scaled to values \\[0, 1\\] representing the model's predicted densities for each class. `dim` parameter indicates the dimension along which the values must sum to 1."
   ],
   "metadata": {}
  },
  {
   "cell_type": "code",
   "execution_count": 42,
   "source": [
    "softmax = nn.Softmax(dim=1)\r\n",
    "pred_probab = softmax(logits)\r\n",
    "pred_probab"
   ],
   "outputs": [
    {
     "output_type": "execute_result",
     "data": {
      "text/plain": [
       "tensor([[0.1058, 0.0964, 0.0998, 0.0927, 0.0938, 0.0938, 0.1116, 0.1211, 0.0972,\n",
       "         0.0878],\n",
       "        [0.1139, 0.0998, 0.1018, 0.0879, 0.0919, 0.0939, 0.1009, 0.1287, 0.0853,\n",
       "         0.0958],\n",
       "        [0.1162, 0.0998, 0.1002, 0.0859, 0.0886, 0.0991, 0.1033, 0.1264, 0.0877,\n",
       "         0.0929]], grad_fn=<SoftmaxBackward>)"
      ]
     },
     "metadata": {},
     "execution_count": 42
    }
   ],
   "metadata": {}
  },
  {
   "cell_type": "code",
   "execution_count": 43,
   "source": [
    "# model parameters \r\n",
    "\r\n",
    "print(\"Model structure: \", model, \"\\n\\n\")\r\n",
    "\r\n",
    "for name, param in model.named_parameters():\r\n",
    "    print(f\"Layer: {name} | Size: {param.size()} | Values : {param[:2]} \\n\")"
   ],
   "outputs": [
    {
     "output_type": "stream",
     "name": "stdout",
     "text": [
      "Model structure:  NeuralNetwork(\n",
      "  (flatten): Flatten(start_dim=1, end_dim=-1)\n",
      "  (linear_relu_stack): Sequential(\n",
      "    (0): Linear(in_features=784, out_features=512, bias=True)\n",
      "    (1): ReLU()\n",
      "    (2): Linear(in_features=512, out_features=512, bias=True)\n",
      "    (3): ReLU()\n",
      "    (4): Linear(in_features=512, out_features=10, bias=True)\n",
      "    (5): ReLU()\n",
      "  )\n",
      ") \n",
      "\n",
      "\n",
      "Layer: linear_relu_stack.0.weight | Size: torch.Size([512, 784]) | Values : tensor([[-0.0076, -0.0342, -0.0021,  ...,  0.0120,  0.0031,  0.0229],\n",
      "        [-0.0246, -0.0196,  0.0293,  ..., -0.0045,  0.0285,  0.0079]],\n",
      "       grad_fn=<SliceBackward>) \n",
      "\n",
      "Layer: linear_relu_stack.0.bias | Size: torch.Size([512]) | Values : tensor([ 0.0095, -0.0212], grad_fn=<SliceBackward>) \n",
      "\n",
      "Layer: linear_relu_stack.2.weight | Size: torch.Size([512, 512]) | Values : tensor([[ 0.0040, -0.0395, -0.0016,  ...,  0.0033, -0.0133,  0.0337],\n",
      "        [-0.0067,  0.0187, -0.0281,  ..., -0.0136,  0.0075,  0.0011]],\n",
      "       grad_fn=<SliceBackward>) \n",
      "\n",
      "Layer: linear_relu_stack.2.bias | Size: torch.Size([512]) | Values : tensor([0.0424, 0.0186], grad_fn=<SliceBackward>) \n",
      "\n",
      "Layer: linear_relu_stack.4.weight | Size: torch.Size([10, 512]) | Values : tensor([[-0.0057, -0.0418,  0.0390,  ..., -0.0313, -0.0303, -0.0151],\n",
      "        [-0.0104,  0.0169,  0.0205,  ..., -0.0434,  0.0312,  0.0214]],\n",
      "       grad_fn=<SliceBackward>) \n",
      "\n",
      "Layer: linear_relu_stack.4.bias | Size: torch.Size([10]) | Values : tensor([-0.0392, -0.0195], grad_fn=<SliceBackward>) \n",
      "\n"
     ]
    }
   ],
   "metadata": {}
  },
  {
   "cell_type": "markdown",
   "source": [
    "## Automatic differentiation with ``torch.autograd``\r\n",
    "\r\n",
    "When training neural networks, the most frequently used algorithm is\r\n",
    "**back propagation**. In this algorithm, parameters (model weights) are\r\n",
    "adjusted according to the **gradient** of the loss function with respect\r\n",
    "to the given parameter.\r\n",
    "\r\n",
    "To compute those gradients, PyTorch has a built-in differentiation engine\r\n",
    "called `torch.autograd`. It supports automatic computation of gradient for any\r\n",
    "computational graph.\r\n",
    "\r\n",
    "Consider the simplest one-layer neural network, with input `x`,\r\n",
    "parameters `w` and `b`, and some loss function. It can be defined in\r\n",
    "PyTorch in the following manner:"
   ],
   "metadata": {}
  },
  {
   "cell_type": "code",
   "execution_count": 47,
   "source": [
    "# ....\r\n",
    "\r\n",
    "inp = torch.eye(5, requires_grad=True)\r\n",
    "out = (inp+1).pow(2)\r\n",
    "out.backward(torch.ones_like(inp), retain_graph=True)\r\n",
    "print(\"First call\\n\", inp.grad)"
   ],
   "outputs": [
    {
     "output_type": "stream",
     "name": "stdout",
     "text": [
      "First call\n",
      " tensor([[4., 2., 2., 2., 2.],\n",
      "        [2., 4., 2., 2., 2.],\n",
      "        [2., 2., 4., 2., 2.],\n",
      "        [2., 2., 2., 4., 2.],\n",
      "        [2., 2., 2., 2., 4.]])\n"
     ]
    }
   ],
   "metadata": {}
  }
 ],
 "metadata": {
  "orig_nbformat": 4,
  "language_info": {
   "name": "python",
   "version": "3.8.5",
   "mimetype": "text/x-python",
   "codemirror_mode": {
    "name": "ipython",
    "version": 3
   },
   "pygments_lexer": "ipython3",
   "nbconvert_exporter": "python",
   "file_extension": ".py"
  },
  "kernelspec": {
   "name": "python3",
   "display_name": "Python 3.8.5 64-bit (conda)"
  },
  "interpreter": {
   "hash": "b3ba2566441a7c06988d0923437866b63cedc61552a5af99d1f4fb67d367b25f"
  }
 },
 "nbformat": 4,
 "nbformat_minor": 2
}