{
 "cells": [
  {
   "cell_type": "code",
   "execution_count": null,
   "source": [],
   "outputs": [],
   "metadata": {}
  },
  {
   "cell_type": "markdown",
   "source": [
    "## To check out all the arithmetic operations \r\n",
    " [see](https://pytorch.org/docs/stable/torch.html \"link here\")"
   ],
   "metadata": {}
  },
  {
   "cell_type": "code",
   "execution_count": 35,
   "source": [
    "# https://docs.microsoft.com/en-us/learn/modules/intro-machine-learning-pytorch/2-tensors\r\n",
    "\r\n",
    "%matplotlib inline"
   ],
   "outputs": [],
   "metadata": {}
  },
  {
   "cell_type": "code",
   "execution_count": 5,
   "source": [
    "import torch\r\n",
    "import numpy as np"
   ],
   "outputs": [],
   "metadata": {}
  },
  {
   "cell_type": "markdown",
   "source": [
    "### Initializing a Tensor"
   ],
   "metadata": {}
  },
  {
   "cell_type": "code",
   "execution_count": 12,
   "source": [
    "# from the data\r\n",
    "\r\n",
    "data = [[1, 2],[3, 4]]\r\n",
    "type(data)\r\n",
    "x_data = torch.tensor(data)\r\n",
    "(x_data)"
   ],
   "outputs": [
    {
     "output_type": "execute_result",
     "data": {
      "text/plain": [
       "tensor([[1, 2],\n",
       "        [3, 4]])"
      ]
     },
     "metadata": {},
     "execution_count": 12
    }
   ],
   "metadata": {}
  },
  {
   "cell_type": "code",
   "execution_count": 11,
   "source": [
    "# from numpy array\r\n",
    "\r\n",
    "np_array = np.array(data)\r\n",
    "np_array\r\n",
    "x_np = torch.from_numpy(np_array)\r\n",
    "x_np"
   ],
   "outputs": [
    {
     "output_type": "execute_result",
     "data": {
      "text/plain": [
       "tensor([[1, 2],\n",
       "        [3, 4]], dtype=torch.int32)"
      ]
     },
     "metadata": {},
     "execution_count": 11
    }
   ],
   "metadata": {}
  },
  {
   "cell_type": "code",
   "execution_count": 25,
   "source": [
    "# from another tensor\r\n",
    "\r\n",
    "x_ones = torch.ones_like(x_data) # retains the properties of x_data\r\n",
    "print(f\"Ones Tensor: \\n {x_ones} \\n\")\r\n",
    "\r\n",
    "x_rand = torch.rand_like(x_data, dtype=torch.float) # overrides the datatype of x_data\r\n",
    "print(f\"Random Tensor: \\n {x_rand} \\n\")\r\n"
   ],
   "outputs": [
    {
     "output_type": "stream",
     "name": "stdout",
     "text": [
      "Ones Tensor: \n",
      " tensor([[1, 1],\n",
      "        [1, 1]]) \n",
      "\n",
      "Random Tensor: \n",
      " tensor([[0.2409, 0.2927],\n",
      "        [0.9519, 0.5774]]) \n",
      "\n"
     ]
    }
   ],
   "metadata": {}
  },
  {
   "cell_type": "code",
   "execution_count": 23,
   "source": [
    "# With random or constant values\r\n",
    "\r\n",
    "shape = (2,3,)\r\n",
    "rand_tensor = torch.rand(shape)\r\n",
    "ones_tensor = torch.ones(shape)\r\n",
    "zeros_tensor = torch.zeros(shape)\r\n",
    "\r\n",
    "print(f\"Random Tensor: \\n {rand_tensor} \\n\")\r\n",
    "print(f\"Ones Tensor: \\n {ones_tensor} \\n\")\r\n",
    "print(f\"Zeros Tensor: \\n {zeros_tensor}\")"
   ],
   "outputs": [
    {
     "output_type": "stream",
     "name": "stdout",
     "text": [
      "Random Tensor: \n",
      " tensor([[0.5045, 0.8211, 0.8717],\n",
      "        [0.3420, 0.9049, 0.0538]]) \n",
      "\n",
      "Ones Tensor: \n",
      " tensor([[1., 1., 1.],\n",
      "        [1., 1., 1.]]) \n",
      "\n",
      "Zeros Tensor: \n",
      " tensor([[0., 0., 0.],\n",
      "        [0., 0., 0.]])\n"
     ]
    }
   ],
   "metadata": {}
  },
  {
   "cell_type": "code",
   "execution_count": 27,
   "source": [
    "# Tensor attributes\r\n",
    "tensor = torch.rand(3,4)\r\n",
    "# print(dir(tensor))"
   ],
   "outputs": [],
   "metadata": {}
  },
  {
   "cell_type": "code",
   "execution_count": 88,
   "source": [
    "torch.cuda.is_available()"
   ],
   "outputs": [
    {
     "output_type": "execute_result",
     "data": {
      "text/plain": [
       "False"
      ]
     },
     "metadata": {},
     "execution_count": 88
    }
   ],
   "metadata": {}
  },
  {
   "cell_type": "code",
   "execution_count": 43,
   "source": [
    "torch.cuda.is_initialized()"
   ],
   "outputs": [
    {
     "output_type": "execute_result",
     "data": {
      "text/plain": [
       "False"
      ]
     },
     "metadata": {},
     "execution_count": 43
    }
   ],
   "metadata": {}
  },
  {
   "cell_type": "code",
   "execution_count": 46,
   "source": [
    "torch.__version__\r\n",
    "torch.cuda.device_count()"
   ],
   "outputs": [
    {
     "output_type": "execute_result",
     "data": {
      "text/plain": [
       "0"
      ]
     },
     "metadata": {},
     "execution_count": 46
    }
   ],
   "metadata": {}
  },
  {
   "cell_type": "code",
   "execution_count": 48,
   "source": [
    "tensor = torch.ones(4, 4)\r\n",
    "print('First row: ',tensor[0])\r\n",
    "print('First column: ', tensor[:, 0])\r\n",
    "print('Last column:', tensor[..., -1])\r\n",
    "tensor[:,1] = 0\r\n",
    "print(tensor)"
   ],
   "outputs": [
    {
     "output_type": "stream",
     "name": "stdout",
     "text": [
      "First row:  tensor([1., 1., 1., 1.])\n",
      "First column:  tensor([1., 1., 1., 1.])\n",
      "Last column: tensor([1., 1., 1., 1.])\n",
      "tensor([[1., 0., 1., 1.],\n",
      "        [1., 0., 1., 1.],\n",
      "        [1., 0., 1., 1.],\n",
      "        [1., 0., 1., 1.]])\n"
     ]
    }
   ],
   "metadata": {}
  },
  {
   "cell_type": "code",
   "execution_count": 50,
   "source": [
    "# joining tensors\r\n",
    "\r\n",
    "t1 = torch.cat([tensor, tensor, tensor], dim=1)\r\n",
    "print(t1)"
   ],
   "outputs": [
    {
     "output_type": "stream",
     "name": "stdout",
     "text": [
      "tensor([[1., 0., 1., 1., 1., 0., 1., 1., 1., 0., 1., 1.],\n",
      "        [1., 0., 1., 1., 1., 0., 1., 1., 1., 0., 1., 1.],\n",
      "        [1., 0., 1., 1., 1., 0., 1., 1., 1., 0., 1., 1.],\n",
      "        [1., 0., 1., 1., 1., 0., 1., 1., 1., 0., 1., 1.]])\n"
     ]
    }
   ],
   "metadata": {}
  },
  {
   "cell_type": "code",
   "execution_count": null,
   "source": [],
   "outputs": [],
   "metadata": {}
  },
  {
   "cell_type": "code",
   "execution_count": 51,
   "source": [
    "# This computes the matrix multiplication between two tensors. y1, y2, y3 will have the same value\r\n",
    "y1 = tensor @ tensor.T\r\n",
    "y2 = tensor.matmul(tensor.T)\r\n",
    "\r\n",
    "y3 = torch.rand_like(tensor)\r\n",
    "torch.matmul(tensor, tensor.T, out=y3)\r\n",
    "\r\n",
    "\r\n",
    "# This computes the element-wise product. z1, z2, z3 will have the same value\r\n",
    "z1 = tensor * tensor\r\n",
    "z2 = tensor.mul(tensor)\r\n",
    "\r\n",
    "z3 = torch.rand_like(tensor)\r\n",
    "torch.mul(tensor, tensor, out=z3)"
   ],
   "outputs": [
    {
     "output_type": "execute_result",
     "data": {
      "text/plain": [
       "tensor([[1., 0., 1., 1.],\n",
       "        [1., 0., 1., 1.],\n",
       "        [1., 0., 1., 1.],\n",
       "        [1., 0., 1., 1.]])"
      ]
     },
     "metadata": {},
     "execution_count": 51
    }
   ],
   "metadata": {}
  },
  {
   "cell_type": "code",
   "execution_count": 71,
   "source": [
    "# Single-element tensors\r\n",
    "\r\n",
    "agg = tensor.sum()\r\n",
    "agg_item = agg.item()  \r\n",
    "print(agg_item, type(agg_item))\r\n"
   ],
   "outputs": [
    {
     "output_type": "stream",
     "name": "stdout",
     "text": [
      "12.0 <class 'float'>\n"
     ]
    },
    {
     "output_type": "execute_result",
     "data": {
      "text/plain": [
       "12.0"
      ]
     },
     "metadata": {},
     "execution_count": 71
    }
   ],
   "metadata": {}
  },
  {
   "cell_type": "code",
   "execution_count": 72,
   "source": [
    "# not recommended use of in-place operation\r\n",
    "\r\n",
    "print(tensor, \"\\n\")\r\n",
    "tensor.add_(5)\r\n",
    "print(tensor)"
   ],
   "outputs": [
    {
     "output_type": "stream",
     "name": "stdout",
     "text": [
      "tensor([[1., 0., 1., 1.],\n",
      "        [1., 0., 1., 1.],\n",
      "        [1., 0., 1., 1.],\n",
      "        [1., 0., 1., 1.]]) \n",
      "\n",
      "tensor([[6., 5., 6., 6.],\n",
      "        [6., 5., 6., 6.],\n",
      "        [6., 5., 6., 6.],\n",
      "        [6., 5., 6., 6.]])\n"
     ]
    }
   ],
   "metadata": {}
  },
  {
   "cell_type": "code",
   "execution_count": 79,
   "source": [
    "# tensor to numpy\r\n",
    "\r\n",
    "t = torch.ones(5)\r\n",
    "print(f\"t: {t}\")\r\n",
    "n = t.numpy()\r\n",
    "print(f\"n: {n}\")\r\n",
    "\r\n",
    "print(\"A change in tensor will reflect in numpy.\")\r\n",
    "t.add_(1)\r\n",
    "print(f\"t: {t}\")\r\n",
    "print(f\"n: {n}\")"
   ],
   "outputs": [
    {
     "output_type": "stream",
     "name": "stdout",
     "text": [
      "t: tensor([1., 1., 1., 1., 1.])\n",
      "n: [1. 1. 1. 1. 1.]\n",
      "A change in tensor will reflect in numpy.\n",
      "t: tensor([2., 2., 2., 2., 2.])\n",
      "n: [2. 2. 2. 2. 2.]\n"
     ]
    }
   ],
   "metadata": {}
  },
  {
   "cell_type": "code",
   "execution_count": 85,
   "source": [
    "np.add(1,n, out=n)\r\n",
    "n"
   ],
   "outputs": [
    {
     "output_type": "execute_result",
     "data": {
      "text/plain": [
       "array([6., 6., 6., 6., 6.], dtype=float32)"
      ]
     },
     "metadata": {},
     "execution_count": 85
    }
   ],
   "metadata": {}
  },
  {
   "cell_type": "code",
   "execution_count": 87,
   "source": [
    "dtype = torch.float\r\n",
    "device = torch.device(\"cpu\")\r\n",
    "device = torch.device(\"cuda:0\")  # Uncomment this to run on GPU\r\n"
   ],
   "outputs": [],
   "metadata": {}
  }
 ],
 "metadata": {
  "orig_nbformat": 4,
  "language_info": {
   "name": "python",
   "version": "3.8.5",
   "mimetype": "text/x-python",
   "codemirror_mode": {
    "name": "ipython",
    "version": 3
   },
   "pygments_lexer": "ipython3",
   "nbconvert_exporter": "python",
   "file_extension": ".py"
  },
  "kernelspec": {
   "name": "python3",
   "display_name": "Python 3.8.5 64-bit (conda)"
  },
  "interpreter": {
   "hash": "b3ba2566441a7c06988d0923437866b63cedc61552a5af99d1f4fb67d367b25f"
  }
 },
 "nbformat": 4,
 "nbformat_minor": 2
}