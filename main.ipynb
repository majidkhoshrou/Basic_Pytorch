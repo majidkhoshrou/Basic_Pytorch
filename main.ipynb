{
 "cells": [
  {
   "cell_type": "code",
   "execution_count": 4,
   "source": [
    "import torch\r\n",
    "\r\n",
    "torch.__version__\r\n",
    "\r\n",
    "# torch.cuda.set_device(0)\r\n",
    "torch.cuda.is_available()"
   ],
   "outputs": [
    {
     "output_type": "execute_result",
     "data": {
      "text/plain": [
       "False"
      ]
     },
     "metadata": {},
     "execution_count": 4
    }
   ],
   "metadata": {}
  },
  {
   "cell_type": "markdown",
   "source": [
    "## To check out all the arithmetic operations \r\n",
    " [see](https://pytorch.org/docs/stable/torch.html \"link here\")"
   ],
   "metadata": {}
  },
  {
   "cell_type": "code",
   "execution_count": 5,
   "source": [
    "# https://docs.microsoft.com/en-us/learn/modules/intro-machine-learning-pytorch/2-tensors\r\n",
    "\r\n",
    "%matplotlib inline"
   ],
   "outputs": [],
   "metadata": {}
  },
  {
   "cell_type": "code",
   "execution_count": 6,
   "source": [
    "import torch\r\n",
    "import numpy as np"
   ],
   "outputs": [],
   "metadata": {}
  },
  {
   "cell_type": "markdown",
   "source": [
    "### Initializing a Tensor"
   ],
   "metadata": {}
  },
  {
   "cell_type": "code",
   "execution_count": 7,
   "source": [
    "# from the data\r\n",
    "\r\n",
    "data = [[1, 2],[3, 4]]\r\n",
    "type(data)\r\n",
    "x_data = torch.tensor(data)\r\n",
    "(x_data)"
   ],
   "outputs": [
    {
     "output_type": "execute_result",
     "data": {
      "text/plain": [
       "tensor([[1, 2],\n",
       "        [3, 4]])"
      ]
     },
     "metadata": {},
     "execution_count": 7
    }
   ],
   "metadata": {}
  },
  {
   "cell_type": "code",
   "execution_count": 8,
   "source": [
    "# from numpy array\r\n",
    "\r\n",
    "np_array = np.array(data)\r\n",
    "np_array\r\n",
    "x_np = torch.from_numpy(np_array)\r\n",
    "x_np"
   ],
   "outputs": [
    {
     "output_type": "execute_result",
     "data": {
      "text/plain": [
       "tensor([[1, 2],\n",
       "        [3, 4]], dtype=torch.int32)"
      ]
     },
     "metadata": {},
     "execution_count": 8
    }
   ],
   "metadata": {}
  },
  {
   "cell_type": "code",
   "execution_count": 9,
   "source": [
    "# from another tensor\r\n",
    "\r\n",
    "x_ones = torch.ones_like(x_data) # retains the properties of x_data\r\n",
    "print(f\"Ones Tensor: \\n {x_ones} \\n\")\r\n",
    "\r\n",
    "x_rand = torch.rand_like(x_data, dtype=torch.float) # overrides the datatype of x_data\r\n",
    "print(f\"Random Tensor: \\n {x_rand} \\n\")\r\n"
   ],
   "outputs": [
    {
     "output_type": "stream",
     "name": "stdout",
     "text": [
      "Ones Tensor: \n",
      " tensor([[1, 1],\n",
      "        [1, 1]]) \n",
      "\n",
      "Random Tensor: \n",
      " tensor([[0.4016, 0.4476],\n",
      "        [0.1607, 0.3987]]) \n",
      "\n"
     ]
    }
   ],
   "metadata": {}
  },
  {
   "cell_type": "code",
   "execution_count": 10,
   "source": [
    "# With random or constant values\r\n",
    "\r\n",
    "shape = (2,3,)\r\n",
    "rand_tensor = torch.rand(shape)\r\n",
    "ones_tensor = torch.ones(shape)\r\n",
    "zeros_tensor = torch.zeros(shape)\r\n",
    "\r\n",
    "print(f\"Random Tensor: \\n {rand_tensor} \\n\")\r\n",
    "print(f\"Ones Tensor: \\n {ones_tensor} \\n\")\r\n",
    "print(f\"Zeros Tensor: \\n {zeros_tensor}\")"
   ],
   "outputs": [
    {
     "output_type": "stream",
     "name": "stdout",
     "text": [
      "Random Tensor: \n",
      " tensor([[0.0039, 0.9061, 0.0921],\n",
      "        [0.3670, 0.9354, 0.3368]]) \n",
      "\n",
      "Ones Tensor: \n",
      " tensor([[1., 1., 1.],\n",
      "        [1., 1., 1.]]) \n",
      "\n",
      "Zeros Tensor: \n",
      " tensor([[0., 0., 0.],\n",
      "        [0., 0., 0.]])\n"
     ]
    }
   ],
   "metadata": {}
  },
  {
   "cell_type": "code",
   "execution_count": 11,
   "source": [
    "# Tensor attributes\r\n",
    "tensor = torch.rand(3,4)\r\n",
    "# print(dir(tensor))"
   ],
   "outputs": [],
   "metadata": {}
  },
  {
   "cell_type": "code",
   "execution_count": 12,
   "source": [
    "torch.cuda.is_available()"
   ],
   "outputs": [
    {
     "output_type": "execute_result",
     "data": {
      "text/plain": [
       "False"
      ]
     },
     "metadata": {},
     "execution_count": 12
    }
   ],
   "metadata": {}
  },
  {
   "cell_type": "code",
   "execution_count": 13,
   "source": [
    "torch.cuda.is_initialized()"
   ],
   "outputs": [
    {
     "output_type": "execute_result",
     "data": {
      "text/plain": [
       "False"
      ]
     },
     "metadata": {},
     "execution_count": 13
    }
   ],
   "metadata": {}
  },
  {
   "cell_type": "code",
   "execution_count": 14,
   "source": [
    "torch.__version__\r\n",
    "torch.cuda.device_count()"
   ],
   "outputs": [
    {
     "output_type": "execute_result",
     "data": {
      "text/plain": [
       "0"
      ]
     },
     "metadata": {},
     "execution_count": 14
    }
   ],
   "metadata": {}
  },
  {
   "cell_type": "code",
   "execution_count": 15,
   "source": [
    "tensor = torch.ones(4, 4)\r\n",
    "print('First row: ',tensor[0])\r\n",
    "print('First column: ', tensor[:, 0])\r\n",
    "print('Last column:', tensor[..., -1])\r\n",
    "tensor[:,1] = 0\r\n",
    "print(tensor)"
   ],
   "outputs": [
    {
     "output_type": "stream",
     "name": "stdout",
     "text": [
      "First row:  tensor([1., 1., 1., 1.])\n",
      "First column:  tensor([1., 1., 1., 1.])\n",
      "Last column: tensor([1., 1., 1., 1.])\n",
      "tensor([[1., 0., 1., 1.],\n",
      "        [1., 0., 1., 1.],\n",
      "        [1., 0., 1., 1.],\n",
      "        [1., 0., 1., 1.]])\n"
     ]
    }
   ],
   "metadata": {}
  },
  {
   "cell_type": "code",
   "execution_count": 16,
   "source": [
    "# joining tensors\r\n",
    "\r\n",
    "t1 = torch.cat([tensor, tensor, tensor], dim=1)\r\n",
    "print(t1)"
   ],
   "outputs": [
    {
     "output_type": "stream",
     "name": "stdout",
     "text": [
      "tensor([[1., 0., 1., 1., 1., 0., 1., 1., 1., 0., 1., 1.],\n",
      "        [1., 0., 1., 1., 1., 0., 1., 1., 1., 0., 1., 1.],\n",
      "        [1., 0., 1., 1., 1., 0., 1., 1., 1., 0., 1., 1.],\n",
      "        [1., 0., 1., 1., 1., 0., 1., 1., 1., 0., 1., 1.]])\n"
     ]
    }
   ],
   "metadata": {}
  },
  {
   "cell_type": "code",
   "execution_count": null,
   "source": [],
   "outputs": [],
   "metadata": {}
  },
  {
   "cell_type": "code",
   "execution_count": 17,
   "source": [
    "# This computes the matrix multiplication between two tensors. y1, y2, y3 will have the same value\r\n",
    "y1 = tensor @ tensor.T\r\n",
    "y2 = tensor.matmul(tensor.T)\r\n",
    "\r\n",
    "y3 = torch.rand_like(tensor)\r\n",
    "torch.matmul(tensor, tensor.T, out=y3)\r\n",
    "\r\n",
    "\r\n",
    "# This computes the element-wise product. z1, z2, z3 will have the same value\r\n",
    "z1 = tensor * tensor\r\n",
    "z2 = tensor.mul(tensor)\r\n",
    "\r\n",
    "z3 = torch.rand_like(tensor)\r\n",
    "torch.mul(tensor, tensor, out=z3)"
   ],
   "outputs": [
    {
     "output_type": "execute_result",
     "data": {
      "text/plain": [
       "tensor([[1., 0., 1., 1.],\n",
       "        [1., 0., 1., 1.],\n",
       "        [1., 0., 1., 1.],\n",
       "        [1., 0., 1., 1.]])"
      ]
     },
     "metadata": {},
     "execution_count": 17
    }
   ],
   "metadata": {}
  },
  {
   "cell_type": "code",
   "execution_count": 18,
   "source": [
    "# Single-element tensors\r\n",
    "\r\n",
    "agg = tensor.sum()\r\n",
    "agg_item = agg.item()  \r\n",
    "print(agg_item, type(agg_item))\r\n"
   ],
   "outputs": [
    {
     "output_type": "stream",
     "name": "stdout",
     "text": [
      "12.0 <class 'float'>\n"
     ]
    }
   ],
   "metadata": {}
  },
  {
   "cell_type": "code",
   "execution_count": 19,
   "source": [
    "# not recommended use of in-place operation\r\n",
    "\r\n",
    "print(tensor, \"\\n\")\r\n",
    "tensor.add_(5)\r\n",
    "print(tensor)"
   ],
   "outputs": [
    {
     "output_type": "stream",
     "name": "stdout",
     "text": [
      "tensor([[1., 0., 1., 1.],\n",
      "        [1., 0., 1., 1.],\n",
      "        [1., 0., 1., 1.],\n",
      "        [1., 0., 1., 1.]]) \n",
      "\n",
      "tensor([[6., 5., 6., 6.],\n",
      "        [6., 5., 6., 6.],\n",
      "        [6., 5., 6., 6.],\n",
      "        [6., 5., 6., 6.]])\n"
     ]
    }
   ],
   "metadata": {}
  },
  {
   "cell_type": "code",
   "execution_count": 20,
   "source": [
    "# tensor to numpy\r\n",
    "\r\n",
    "t = torch.ones(5)\r\n",
    "print(f\"t: {t}\")\r\n",
    "n = t.numpy()\r\n",
    "print(f\"n: {n}\")\r\n",
    "\r\n",
    "print(\"A change in tensor will reflect in numpy.\")\r\n",
    "t.add_(1)\r\n",
    "print(f\"t: {t}\")\r\n",
    "print(f\"n: {n}\")"
   ],
   "outputs": [
    {
     "output_type": "stream",
     "name": "stdout",
     "text": [
      "t: tensor([1., 1., 1., 1., 1.])\n",
      "n: [1. 1. 1. 1. 1.]\n",
      "A change in tensor will reflect in numpy.\n",
      "t: tensor([2., 2., 2., 2., 2.])\n",
      "n: [2. 2. 2. 2. 2.]\n"
     ]
    }
   ],
   "metadata": {}
  },
  {
   "cell_type": "code",
   "execution_count": 21,
   "source": [
    "np.add(1,n, out=n)\r\n",
    "n"
   ],
   "outputs": [
    {
     "output_type": "execute_result",
     "data": {
      "text/plain": [
       "array([3., 3., 3., 3., 3.], dtype=float32)"
      ]
     },
     "metadata": {},
     "execution_count": 21
    }
   ],
   "metadata": {}
  },
  {
   "cell_type": "code",
   "execution_count": 22,
   "source": [
    "dtype = torch.float\r\n",
    "device = torch.device(\"cpu\")\r\n",
    "device = torch.device(\"cuda:0\")  # Uncomment this to run on GPU\r\n"
   ],
   "outputs": [],
   "metadata": {}
  },
  {
   "cell_type": "code",
   "execution_count": 23,
   "source": [
    "# Load data with pytorch datasets and Dataloaders\r\n",
    "# data source: https://pytorch.org/vision/stable/datasets.html#fashion-mnist\r\n",
    "\r\n",
    "import torch\r\n",
    "from torch.utils.data import Dataset\r\n",
    "from torchvision import datasets\r\n",
    "from torchvision.transforms import ToTensor, Lambda\r\n",
    "import matplotlib.pyplot as plt\r\n",
    "\r\n",
    "training_data = datasets.FashionMNIST(\r\n",
    "    root=\"data\",\r\n",
    "    train=True,\r\n",
    "    download=True,\r\n",
    "    transform=ToTensor()\r\n",
    ")\r\n",
    "\r\n",
    "test_data = datasets.FashionMNIST(\r\n",
    "    root=\"data\",\r\n",
    "    train=False,\r\n",
    "    download=True,\r\n",
    "    transform=ToTensor()\r\n",
    ")\r\n"
   ],
   "outputs": [
    {
     "output_type": "stream",
     "name": "stderr",
     "text": [
      "C:\\ProgramData\\Anaconda3\\lib\\site-packages\\torchvision\\datasets\\mnist.py:498: UserWarning: The given NumPy array is not writeable, and PyTorch does not support non-writeable tensors. This means you can write to the underlying (supposedly non-writeable) NumPy array using the tensor. You may want to copy the array to protect its data or make it writeable before converting it to a tensor. This type of warning will be suppressed for the rest of this program. (Triggered internally at  ..\\torch\\csrc\\utils\\tensor_numpy.cpp:180.)\n",
      "  return torch.from_numpy(parsed.astype(m[2], copy=False)).view(*s)\n"
     ]
    }
   ],
   "metadata": {}
  },
  {
   "cell_type": "code",
   "execution_count": 24,
   "source": [
    "# Iterating and visualizing the dataset\r\n",
    "\r\n",
    "labels_map = {\r\n",
    "    0: \"T-Shirt\",\r\n",
    "    1: \"Trouser\",\r\n",
    "    2: \"Pullover\",\r\n",
    "    3: \"Dress\",\r\n",
    "    4: \"Coat\",\r\n",
    "    5: \"Sandal\",\r\n",
    "    6: \"Shirt\",\r\n",
    "    7: \"Sneaker\",\r\n",
    "    8: \"Bag\",\r\n",
    "    9: \"Ankle Boot\",\r\n",
    "}\r\n",
    "figure = plt.figure(figsize=(8, 8))\r\n",
    "cols, rows = 3, 3\r\n",
    "for i in range(1, cols * rows + 1):\r\n",
    "    sample_idx = torch.randint(len(training_data), size=(1,)).item()\r\n",
    "    img, label = training_data[sample_idx]\r\n",
    "    figure.add_subplot(rows, cols, i)\r\n",
    "    plt.title(labels_map[label])\r\n",
    "    plt.axis(\"off\")\r\n",
    "    plt.imshow(img.squeeze(), cmap=\"gray\")\r\n",
    "plt.show()"
   ],
   "outputs": [
    {
     "output_type": "display_data",
     "data": {
      "text/plain": [
       "<Figure size 576x576 with 9 Axes>"
      ],
      "image/svg+xml": "<?xml version=\"1.0\" encoding=\"utf-8\" standalone=\"no\"?>\r\n<!DOCTYPE svg PUBLIC \"-//W3C//DTD SVG 1.1//EN\"\r\n  \"http://www.w3.org/Graphics/SVG/1.1/DTD/svg11.dtd\">\r\n<!-- Created with matplotlib (https://matplotlib.org/) -->\r\n<svg height=\"464.398125pt\" version=\"1.1\" viewBox=\"0 0 457.411765 464.398125\" width=\"457.411765pt\" xmlns=\"http://www.w3.org/2000/svg\" xmlns:xlink=\"http://www.w3.org/1999/xlink\">\r\n <metadata>\r\n  <rdf:RDF xmlns:cc=\"http://creativecommons.org/ns#\" xmlns:dc=\"http://purl.org/dc/elements/1.1/\" xmlns:rdf=\"http://www.w3.org/1999/02/22-rdf-syntax-ns#\">\r\n   <cc:Work>\r\n    <dc:type rdf:resource=\"http://purl.org/dc/dcmitype/StillImage\"/>\r\n    <dc:date>2021-08-25T09:37:47.471794</dc:date>\r\n    <dc:format>image/svg+xml</dc:format>\r\n    <dc:creator>\r\n     <cc:Agent>\r\n      <dc:title>Matplotlib v3.3.2, https://matplotlib.org/</dc:title>\r\n     </cc:Agent>\r\n    </dc:creator>\r\n   </cc:Work>\r\n  </rdf:RDF>\r\n </metadata>\r\n <defs>\r\n  <style type=\"text/css\">*{stroke-linecap:butt;stroke-linejoin:round;}</style>\r\n </defs>\r\n <g id=\"figure_1\">\r\n  <g id=\"patch_1\">\r\n   <path d=\"M 0 464.398125 \r\nL 457.411765 464.398125 \r\nL 457.411765 0 \r\nL 0 0 \r\nz\r\n\" style=\"fill:none;\"/>\r\n  </g>\r\n  <g id=\"axes_1\">\r\n   <g clip-path=\"url(#p947f37b88f)\">\r\n    <image height=\"128\" id=\"imagecbbc593f86\" transform=\"scale(1 -1)translate(0 -128)\" width=\"128\" x=\"7.2\" xlink:href=\"data:image/png;base64,\r\niVBORw0KGgoAAAANSUhEUgAAAIAAAACACAYAAADDPmHLAAAIRklEQVR4nO2dSWyOXxTGT81aippn7aKGmtIFYigWIhZVLWnTpIN5QyUW2FgIFqIJkVqIqSRCTBGbloREWCAEEY0p5qFiCKqqZutznpP/96b/732/Juf8ds/J035fmyf3vbn3vucmEdFfauUkJSXF9Pz9G78/Y86cOUxnZmaCZ8eOHTF/T8eOHZn+/v37//tiIdAm0V/ASSweAON4AIzjATBOu0R/gbZt28b0/P79Oy6fNX78eKhVVlZCbcyYMUy3b98ePHKCt3XrVvC0xkmfxEcA43gAjOMBME6kc4A2bTBvLX2+jxgxgunVq1eDp6SkhOlv374F+vyPHz8y/fPnT/CsX7+e6eTkZPBs2LABahLtf/Lnz5+YPxcvfAQwjgfAOB4A43gAjBPqJFBOcIJObsrKyphetGgReEaPHs20tmP4/v17phsbG8GjTQLl79Imj+/evWO6oqICPM3NzUxv2bIFPNr/pKX/t5bgI4BxPADG8QAYJ4kSfCLo3LlzUJs5cybTz58/B498Lnfo0AE8P378YFp73o8aNQpqK1asYDorKws8RUVFTDc0NICne/fuTGt/x/Lly6F2/fp1qIWFjwDG8QAYxwNgHA+AcSLdDezcuTPUBg0aBLVjx44xvXbtWvCsXLmS6XHjxoGnU6dOTE+aNAk8ixcvhtrBgwehJpHfOzs7Gzxv3779z58hCnYiKkx8BDCOB8A4HgDjRDoH0DZVbt68CbXq6mqm9+7dCx650aKd2hk5ciTTL1++BE9VVRXU5GbQgQMHwJOWlhbz8+Wmzps3b8Bz9epVqEWJjwDG8QAYxwNgHA+AcULdDZSTKe0dfm2Rp7S0lGn5GhYR0ZUrV5jWXvs6dOgQ0+Xl5eC5ffs21OTijDyCTkQ0YMAApuvr68GTmprK9LNnz8CTk5MDtSjxEcA4HgDjeACM4wEwTqTHwrUjWa9evYJat27dmP706RN4Bg4cyLSclBHhSmBTUxN4Tp48CbUTJ04wrR3l+vr1K9PaBFdOgmtra8GjEWTyHC98BDCOB8A4HgDjhLoQJBdUtDlAjx49oHbq1Cmmtee73H3T+vjIE0jt2uGUp1evXlCTvQaWLl0KHu3zYn3H3Nxc8Lx48QJq/mqYExkeAON4AIzjATBOqJPAlk5mJk+ezPT+/fvBIyeY2qRMvhuoNW7UdhrlItPnz5/B8+XLF6a1Zk9dunRhun///uDRCDJ5jhc+AhjHA2AcD4BxQt0MaukCRkZGBtPakWtZ0zzyWSrf1yfSN4hev37NtNZ/SG7QaK94tbRZtDeKdCLDA2AcD4BxPADGSfiNIRoLFy5kOiUlBTxPnjxhWnt/r7CwkGnt/XxtN1BODOWCEhH2HtB2NW/cuAG1IIR5AkjiI4BxPADG8QAYJ9I5gLbxoi2WnD9/nunhw4eD5+jRo0xfunQJPLJZ9JIlS8Cj9RaSN4Zoz3K50SPnBER6c2hJkEWmMPERwDgeAON4AIzjATBOpJNAbcKjIZspac2d5O5fz549wTN27Fim5S0fRER5eXlQu3z5MtOzZ88Gz7p166AmefjwYUyPTwKdhOIBMI4HwDgeAONEOgkMOrn58OED09q1LnK1TnbmJiLavHkz01pDqjNnzkBNHsk6fPgweOS9xPIoORFebff06VPw+N3BTkLxABjHA2CcSOcAv379CuSTiyNaM8fHjx8zvWDBAvDIZ/f27dvBs2fPHqjV1NQwLfsVEOHfor2+FeSVrigXfTR8BDCOB8A4HgDjeACM0yoXguQx7GHDhoFn586dTGt3B8vmUlqjRm2RqaCggGltN1Bef6P1EBg6dCjUWhs+AhjHA2AcD4BxWuUcYMiQIUxr/X/k79Je35I3dGgbNtpVdnKRZ/DgweCRDay1RZ/p06czvWvXLvCE2f8nCD4CGMcDYBwPgHE8AMZJ+LVxGnfv3o35c/LGDq0TuLx5RJvwaZOwvn37Mn3//n3wbNq0ielZs2aBZ82aNUwHPRYfJT4CGMcDYBwPgHFCXQgK8szft28f1OTGTmNjY0yP9tqXfOZq/QnkXIIIT+qePXsWPBcvXmR66tSp4JGngB88eACeuXPnQu3evXtQCwsfAYzjATCOB8A4HgDjhLoQJJHXuBERnT59GmpyIaa+vh48srmTNlFraGhgOisrCzzZ2dlQk70HtFe1ZHdwbRIqJ6ryuDkR0e7du6F2584dqIWFjwDG8QAYxwNgHA+AcSI9ElZWVgY1rYP3o0ePmM7PzwePPN5VVVUFnilTpjDd3NwMHu2dwmvXrjFdXV0NngkTJjCtHUmTK4/yOjwiolWrVkEtSnwEMI4HwDgeAOOEOgcoKipietmyZeDRrluTCyFdu3YFT79+/ZjWFmLkVa2ywzeRvsgzceJEprXePtOmTYOaRB4v1z6rsrISavKVMnnzSTzxEcA4HgDjeACM4wEwTqi7gTNmzGBaXgdHRNS7d2+o9enTh2nt2Jbs1i2bRhERbdu2jWm5O0hElJycDDV5xFxbwJHH1LS7i+WROK2juVx0IsJFpvT0dPDECx8BjOMBMI4HwDihLgRduHCB6fnz54MnJycHarLfjna8vLy8nGntOS03iG7dugUebXFo3rx5TGsLOFpPIolcnNq4cSN4UlNToSYX0MLERwDjeACM4wEwjgfAOJGeCKqoqICadlRbNm9MS0sDj7yNQzaEIiJqampiWrunWOsrUFdXx/SRI0fAk5uby3RxcTF4ZO+BlJQU8MheCFHjI4BxPADG8QAYJ9JXw4Iib+SSJ3SI8DUrrRF0lGgnnuUG0fHjx8ET9BaVsPARwDgeAON4AIzjATDOP0c3mPYOaSgJAAAAAElFTkSuQmCC\" y=\"-22.224007\"/>\r\n   </g>\r\n   <g id=\"text_1\">\r\n    <!-- T-Shirt -->\r\n    <g transform=\"translate(51.773879 16.318125)scale(0.12 -0.12)\">\r\n     <defs>\r\n      <path d=\"M -0.296875 72.90625 \r\nL 61.375 72.90625 \r\nL 61.375 64.59375 \r\nL 35.5 64.59375 \r\nL 35.5 0 \r\nL 25.59375 0 \r\nL 25.59375 64.59375 \r\nL -0.296875 64.59375 \r\nz\r\n\" id=\"DejaVuSans-84\"/>\r\n      <path d=\"M 4.890625 31.390625 \r\nL 31.203125 31.390625 \r\nL 31.203125 23.390625 \r\nL 4.890625 23.390625 \r\nz\r\n\" id=\"DejaVuSans-45\"/>\r\n      <path d=\"M 53.515625 70.515625 \r\nL 53.515625 60.890625 \r\nQ 47.90625 63.578125 42.921875 64.890625 \r\nQ 37.9375 66.21875 33.296875 66.21875 \r\nQ 25.25 66.21875 20.875 63.09375 \r\nQ 16.5 59.96875 16.5 54.203125 \r\nQ 16.5 49.359375 19.40625 46.890625 \r\nQ 22.3125 44.4375 30.421875 42.921875 \r\nL 36.375 41.703125 \r\nQ 47.40625 39.59375 52.65625 34.296875 \r\nQ 57.90625 29 57.90625 20.125 \r\nQ 57.90625 9.515625 50.796875 4.046875 \r\nQ 43.703125 -1.421875 29.984375 -1.421875 \r\nQ 24.8125 -1.421875 18.96875 -0.25 \r\nQ 13.140625 0.921875 6.890625 3.21875 \r\nL 6.890625 13.375 \r\nQ 12.890625 10.015625 18.65625 8.296875 \r\nQ 24.421875 6.59375 29.984375 6.59375 \r\nQ 38.421875 6.59375 43.015625 9.90625 \r\nQ 47.609375 13.234375 47.609375 19.390625 \r\nQ 47.609375 24.75 44.3125 27.78125 \r\nQ 41.015625 30.8125 33.5 32.328125 \r\nL 27.484375 33.5 \r\nQ 16.453125 35.6875 11.515625 40.375 \r\nQ 6.59375 45.0625 6.59375 53.421875 \r\nQ 6.59375 63.09375 13.40625 68.65625 \r\nQ 20.21875 74.21875 32.171875 74.21875 \r\nQ 37.3125 74.21875 42.625 73.28125 \r\nQ 47.953125 72.359375 53.515625 70.515625 \r\nz\r\n\" id=\"DejaVuSans-83\"/>\r\n      <path d=\"M 54.890625 33.015625 \r\nL 54.890625 0 \r\nL 45.90625 0 \r\nL 45.90625 32.71875 \r\nQ 45.90625 40.484375 42.875 44.328125 \r\nQ 39.84375 48.1875 33.796875 48.1875 \r\nQ 26.515625 48.1875 22.3125 43.546875 \r\nQ 18.109375 38.921875 18.109375 30.90625 \r\nL 18.109375 0 \r\nL 9.078125 0 \r\nL 9.078125 75.984375 \r\nL 18.109375 75.984375 \r\nL 18.109375 46.1875 \r\nQ 21.34375 51.125 25.703125 53.5625 \r\nQ 30.078125 56 35.796875 56 \r\nQ 45.21875 56 50.046875 50.171875 \r\nQ 54.890625 44.34375 54.890625 33.015625 \r\nz\r\n\" id=\"DejaVuSans-104\"/>\r\n      <path d=\"M 9.421875 54.6875 \r\nL 18.40625 54.6875 \r\nL 18.40625 0 \r\nL 9.421875 0 \r\nz\r\nM 9.421875 75.984375 \r\nL 18.40625 75.984375 \r\nL 18.40625 64.59375 \r\nL 9.421875 64.59375 \r\nz\r\n\" id=\"DejaVuSans-105\"/>\r\n      <path d=\"M 41.109375 46.296875 \r\nQ 39.59375 47.171875 37.8125 47.578125 \r\nQ 36.03125 48 33.890625 48 \r\nQ 26.265625 48 22.1875 43.046875 \r\nQ 18.109375 38.09375 18.109375 28.8125 \r\nL 18.109375 0 \r\nL 9.078125 0 \r\nL 9.078125 54.6875 \r\nL 18.109375 54.6875 \r\nL 18.109375 46.1875 \r\nQ 20.953125 51.171875 25.484375 53.578125 \r\nQ 30.03125 56 36.53125 56 \r\nQ 37.453125 56 38.578125 55.875 \r\nQ 39.703125 55.765625 41.0625 55.515625 \r\nz\r\n\" id=\"DejaVuSans-114\"/>\r\n      <path d=\"M 18.3125 70.21875 \r\nL 18.3125 54.6875 \r\nL 36.8125 54.6875 \r\nL 36.8125 47.703125 \r\nL 18.3125 47.703125 \r\nL 18.3125 18.015625 \r\nQ 18.3125 11.328125 20.140625 9.421875 \r\nQ 21.96875 7.515625 27.59375 7.515625 \r\nL 36.8125 7.515625 \r\nL 36.8125 0 \r\nL 27.59375 0 \r\nQ 17.1875 0 13.234375 3.875 \r\nQ 9.28125 7.765625 9.28125 18.015625 \r\nL 9.28125 47.703125 \r\nL 2.6875 47.703125 \r\nL 2.6875 54.6875 \r\nL 9.28125 54.6875 \r\nL 9.28125 70.21875 \r\nz\r\n\" id=\"DejaVuSans-116\"/>\r\n     </defs>\r\n     <use xlink:href=\"#DejaVuSans-84\"/>\r\n     <use x=\"51.958984\" xlink:href=\"#DejaVuSans-45\"/>\r\n     <use x=\"88.042969\" xlink:href=\"#DejaVuSans-83\"/>\r\n     <use x=\"151.519531\" xlink:href=\"#DejaVuSans-104\"/>\r\n     <use x=\"214.898438\" xlink:href=\"#DejaVuSans-105\"/>\r\n     <use x=\"242.681641\" xlink:href=\"#DejaVuSans-114\"/>\r\n     <use x=\"283.794922\" xlink:href=\"#DejaVuSans-116\"/>\r\n    </g>\r\n   </g>\r\n  </g>\r\n  <g id=\"axes_2\">\r\n   <g clip-path=\"url(#p0f1f3683e7)\">\r\n    <image height=\"128\" id=\"image26624195f3\" transform=\"scale(1 -1)translate(0 -128)\" width=\"128\" x=\"164.752941\" xlink:href=\"data:image/png;base64,\r\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\" y=\"-22.224007\"/>\r\n   </g>\r\n   <g id=\"text_2\">\r\n    <!-- Sandal -->\r\n    <g transform=\"translate(208.264632 16.318125)scale(0.12 -0.12)\">\r\n     <defs>\r\n      <path d=\"M 34.28125 27.484375 \r\nQ 23.390625 27.484375 19.1875 25 \r\nQ 14.984375 22.515625 14.984375 16.5 \r\nQ 14.984375 11.71875 18.140625 8.90625 \r\nQ 21.296875 6.109375 26.703125 6.109375 \r\nQ 34.1875 6.109375 38.703125 11.40625 \r\nQ 43.21875 16.703125 43.21875 25.484375 \r\nL 43.21875 27.484375 \r\nz\r\nM 52.203125 31.203125 \r\nL 52.203125 0 \r\nL 43.21875 0 \r\nL 43.21875 8.296875 \r\nQ 40.140625 3.328125 35.546875 0.953125 \r\nQ 30.953125 -1.421875 24.3125 -1.421875 \r\nQ 15.921875 -1.421875 10.953125 3.296875 \r\nQ 6 8.015625 6 15.921875 \r\nQ 6 25.140625 12.171875 29.828125 \r\nQ 18.359375 34.515625 30.609375 34.515625 \r\nL 43.21875 34.515625 \r\nL 43.21875 35.40625 \r\nQ 43.21875 41.609375 39.140625 45 \r\nQ 35.0625 48.390625 27.6875 48.390625 \r\nQ 23 48.390625 18.546875 47.265625 \r\nQ 14.109375 46.140625 10.015625 43.890625 \r\nL 10.015625 52.203125 \r\nQ 14.9375 54.109375 19.578125 55.046875 \r\nQ 24.21875 56 28.609375 56 \r\nQ 40.484375 56 46.34375 49.84375 \r\nQ 52.203125 43.703125 52.203125 31.203125 \r\nz\r\n\" id=\"DejaVuSans-97\"/>\r\n      <path d=\"M 54.890625 33.015625 \r\nL 54.890625 0 \r\nL 45.90625 0 \r\nL 45.90625 32.71875 \r\nQ 45.90625 40.484375 42.875 44.328125 \r\nQ 39.84375 48.1875 33.796875 48.1875 \r\nQ 26.515625 48.1875 22.3125 43.546875 \r\nQ 18.109375 38.921875 18.109375 30.90625 \r\nL 18.109375 0 \r\nL 9.078125 0 \r\nL 9.078125 54.6875 \r\nL 18.109375 54.6875 \r\nL 18.109375 46.1875 \r\nQ 21.34375 51.125 25.703125 53.5625 \r\nQ 30.078125 56 35.796875 56 \r\nQ 45.21875 56 50.046875 50.171875 \r\nQ 54.890625 44.34375 54.890625 33.015625 \r\nz\r\n\" id=\"DejaVuSans-110\"/>\r\n      <path d=\"M 45.40625 46.390625 \r\nL 45.40625 75.984375 \r\nL 54.390625 75.984375 \r\nL 54.390625 0 \r\nL 45.40625 0 \r\nL 45.40625 8.203125 \r\nQ 42.578125 3.328125 38.25 0.953125 \r\nQ 33.9375 -1.421875 27.875 -1.421875 \r\nQ 17.96875 -1.421875 11.734375 6.484375 \r\nQ 5.515625 14.40625 5.515625 27.296875 \r\nQ 5.515625 40.1875 11.734375 48.09375 \r\nQ 17.96875 56 27.875 56 \r\nQ 33.9375 56 38.25 53.625 \r\nQ 42.578125 51.265625 45.40625 46.390625 \r\nz\r\nM 14.796875 27.296875 \r\nQ 14.796875 17.390625 18.875 11.75 \r\nQ 22.953125 6.109375 30.078125 6.109375 \r\nQ 37.203125 6.109375 41.296875 11.75 \r\nQ 45.40625 17.390625 45.40625 27.296875 \r\nQ 45.40625 37.203125 41.296875 42.84375 \r\nQ 37.203125 48.484375 30.078125 48.484375 \r\nQ 22.953125 48.484375 18.875 42.84375 \r\nQ 14.796875 37.203125 14.796875 27.296875 \r\nz\r\n\" id=\"DejaVuSans-100\"/>\r\n      <path d=\"M 9.421875 75.984375 \r\nL 18.40625 75.984375 \r\nL 18.40625 0 \r\nL 9.421875 0 \r\nz\r\n\" id=\"DejaVuSans-108\"/>\r\n     </defs>\r\n     <use xlink:href=\"#DejaVuSans-83\"/>\r\n     <use x=\"63.476562\" xlink:href=\"#DejaVuSans-97\"/>\r\n     <use x=\"124.755859\" xlink:href=\"#DejaVuSans-110\"/>\r\n     <use x=\"188.134766\" xlink:href=\"#DejaVuSans-100\"/>\r\n     <use x=\"251.611328\" xlink:href=\"#DejaVuSans-97\"/>\r\n     <use x=\"312.890625\" xlink:href=\"#DejaVuSans-108\"/>\r\n    </g>\r\n   </g>\r\n  </g>\r\n  <g id=\"axes_3\">\r\n   <g clip-path=\"url(#pfb1c08b3a5)\">\r\n    <image height=\"128\" id=\"image6094985c1e\" transform=\"scale(1 -1)translate(0 -128)\" width=\"128\" x=\"322.305882\" xlink:href=\"data:image/png;base64,\r\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\" y=\"-22.224007\"/>\r\n   </g>\r\n   <g id=\"text_3\">\r\n    <!-- Ankle Boot -->\r\n    <g transform=\"translate(353.800699 16.318125)scale(0.12 -0.12)\">\r\n     <defs>\r\n      <path d=\"M 34.1875 63.1875 \r\nL 20.796875 26.90625 \r\nL 47.609375 26.90625 \r\nz\r\nM 28.609375 72.90625 \r\nL 39.796875 72.90625 \r\nL 67.578125 0 \r\nL 57.328125 0 \r\nL 50.6875 18.703125 \r\nL 17.828125 18.703125 \r\nL 11.1875 0 \r\nL 0.78125 0 \r\nz\r\n\" id=\"DejaVuSans-65\"/>\r\n      <path d=\"M 9.078125 75.984375 \r\nL 18.109375 75.984375 \r\nL 18.109375 31.109375 \r\nL 44.921875 54.6875 \r\nL 56.390625 54.6875 \r\nL 27.390625 29.109375 \r\nL 57.625 0 \r\nL 45.90625 0 \r\nL 18.109375 26.703125 \r\nL 18.109375 0 \r\nL 9.078125 0 \r\nz\r\n\" id=\"DejaVuSans-107\"/>\r\n      <path d=\"M 56.203125 29.59375 \r\nL 56.203125 25.203125 \r\nL 14.890625 25.203125 \r\nQ 15.484375 15.921875 20.484375 11.0625 \r\nQ 25.484375 6.203125 34.421875 6.203125 \r\nQ 39.59375 6.203125 44.453125 7.46875 \r\nQ 49.3125 8.734375 54.109375 11.28125 \r\nL 54.109375 2.78125 \r\nQ 49.265625 0.734375 44.1875 -0.34375 \r\nQ 39.109375 -1.421875 33.890625 -1.421875 \r\nQ 20.796875 -1.421875 13.15625 6.1875 \r\nQ 5.515625 13.8125 5.515625 26.8125 \r\nQ 5.515625 40.234375 12.765625 48.109375 \r\nQ 20.015625 56 32.328125 56 \r\nQ 43.359375 56 49.78125 48.890625 \r\nQ 56.203125 41.796875 56.203125 29.59375 \r\nz\r\nM 47.21875 32.234375 \r\nQ 47.125 39.59375 43.09375 43.984375 \r\nQ 39.0625 48.390625 32.421875 48.390625 \r\nQ 24.90625 48.390625 20.390625 44.140625 \r\nQ 15.875 39.890625 15.1875 32.171875 \r\nz\r\n\" id=\"DejaVuSans-101\"/>\r\n      <path id=\"DejaVuSans-32\"/>\r\n      <path d=\"M 19.671875 34.8125 \r\nL 19.671875 8.109375 \r\nL 35.5 8.109375 \r\nQ 43.453125 8.109375 47.28125 11.40625 \r\nQ 51.125 14.703125 51.125 21.484375 \r\nQ 51.125 28.328125 47.28125 31.5625 \r\nQ 43.453125 34.8125 35.5 34.8125 \r\nz\r\nM 19.671875 64.796875 \r\nL 19.671875 42.828125 \r\nL 34.28125 42.828125 \r\nQ 41.5 42.828125 45.03125 45.53125 \r\nQ 48.578125 48.25 48.578125 53.8125 \r\nQ 48.578125 59.328125 45.03125 62.0625 \r\nQ 41.5 64.796875 34.28125 64.796875 \r\nz\r\nM 9.8125 72.90625 \r\nL 35.015625 72.90625 \r\nQ 46.296875 72.90625 52.390625 68.21875 \r\nQ 58.5 63.53125 58.5 54.890625 \r\nQ 58.5 48.1875 55.375 44.234375 \r\nQ 52.25 40.28125 46.1875 39.3125 \r\nQ 53.46875 37.75 57.5 32.78125 \r\nQ 61.53125 27.828125 61.53125 20.40625 \r\nQ 61.53125 10.640625 54.890625 5.3125 \r\nQ 48.25 0 35.984375 0 \r\nL 9.8125 0 \r\nz\r\n\" id=\"DejaVuSans-66\"/>\r\n      <path d=\"M 30.609375 48.390625 \r\nQ 23.390625 48.390625 19.1875 42.75 \r\nQ 14.984375 37.109375 14.984375 27.296875 \r\nQ 14.984375 17.484375 19.15625 11.84375 \r\nQ 23.34375 6.203125 30.609375 6.203125 \r\nQ 37.796875 6.203125 41.984375 11.859375 \r\nQ 46.1875 17.53125 46.1875 27.296875 \r\nQ 46.1875 37.015625 41.984375 42.703125 \r\nQ 37.796875 48.390625 30.609375 48.390625 \r\nz\r\nM 30.609375 56 \r\nQ 42.328125 56 49.015625 48.375 \r\nQ 55.71875 40.765625 55.71875 27.296875 \r\nQ 55.71875 13.875 49.015625 6.21875 \r\nQ 42.328125 -1.421875 30.609375 -1.421875 \r\nQ 18.84375 -1.421875 12.171875 6.21875 \r\nQ 5.515625 13.875 5.515625 27.296875 \r\nQ 5.515625 40.765625 12.171875 48.375 \r\nQ 18.84375 56 30.609375 56 \r\nz\r\n\" id=\"DejaVuSans-111\"/>\r\n     </defs>\r\n     <use xlink:href=\"#DejaVuSans-65\"/>\r\n     <use x=\"68.408203\" xlink:href=\"#DejaVuSans-110\"/>\r\n     <use x=\"131.787109\" xlink:href=\"#DejaVuSans-107\"/>\r\n     <use x=\"189.697266\" xlink:href=\"#DejaVuSans-108\"/>\r\n     <use x=\"217.480469\" xlink:href=\"#DejaVuSans-101\"/>\r\n     <use x=\"279.003906\" xlink:href=\"#DejaVuSans-32\"/>\r\n     <use x=\"310.791016\" xlink:href=\"#DejaVuSans-66\"/>\r\n     <use x=\"379.394531\" xlink:href=\"#DejaVuSans-111\"/>\r\n     <use x=\"440.576172\" xlink:href=\"#DejaVuSans-111\"/>\r\n     <use x=\"501.757812\" xlink:href=\"#DejaVuSans-116\"/>\r\n    </g>\r\n   </g>\r\n  </g>\r\n  <g id=\"axes_4\">\r\n   <g clip-path=\"url(#pb6b8e75d74)\">\r\n    <image height=\"128\" id=\"image2ffa032a0b\" transform=\"scale(1 -1)translate(0 -128)\" width=\"128\" x=\"7.2\" xlink:href=\"data:image/png;base64,\r\niVBORw0KGgoAAAANSUhEUgAAAIAAAACACAYAAADDPmHLAAAGUUlEQVR4nO2dTUhVbxDG5+pN0z7ECkT7wEWERbgoU1ciiOEmDEFX7SQ3QpsgxLUrt0agLaIWgYXoQmjlKkJ3ShCW4Fel+S1qqZVp63dm6J7/wX9iz/PbzfDcc+69PL53mHfOa0JE9oTAknbQb4AcLDQAODQAODQAODQAODQAODQAODQAODQAODQAODQAODQAODQAODQAODQAODQAODQAODQAODQAODQAODQAODQAODQAODQAODQAODQAOMm/ebOjR4+aXHFxscnl5eUF8ZkzZ4xmbm4uiF+9epXy/olEwuT29vbnyTjv2mlp4d/Xr1+/jObIkSMm19jYGMQrKytGs7W1FcS5ublG8/bt2yAeGRmx79FkCBQ0ADg0ADg0ADgJiXk+wO3bt4P4zp07RnPlypUgPnfunNFkZWWZ3O7ubhBPTU0ZzaVLl4K4v7/faG7dumVymmTS1sE7OzspX7dfdHV1mdzZs2eDeHNz02h0Qam/axGR169fB3Fzc7PRcAUAhwYAhwYAhwYAx+0EdnZ2BnFpaanReN05zbdv34L4/fv3RuN1x7Kzs4N4fX3daD5+/PjH14iIvHjxIogbGhoi3V93LH/+/Gk0uoOoC1cR2+XzrjM/P29y379/D2L9PXr3m5ycNJqlpSWT03AFAIcGAIcGACd59epVk6ysrAxirzGid+OOHTtmNJmZmSnfgNcI0r95x48fN5oTJ0788TUiIqdPnw5ir+nS1NRkctvb20HsfQ5dO3i7it5vvsarAS5fvhzEs7OzRqPrFG9XMUpDiysAODQAODQAODQAOMmMjAyTXFtbC+J3794ZjW4EXbt2zWh0YbKxsWE0uqEjInL+/Pkg9oqp/Pz8IO7r6zOaDx8+BHFHR4fReA2t+vr6INaNmaikp6cHsdd0+vHjh8npwthrMumRME/j7XRquAKAQwOAQwOAkxweHjbJe/fuBfHQ0FBKTWFhodHozYjR0VGj0b/lIrbxocfERezGkt7AEhH58uVLEA8MDBjN48ePTe7z589B/PTpU6NpaWkxOY33m6/x6gv9eT99+mQ0unbw7uWNqmu4AoBDA4BDA4BDA4ATeyxc70Y9f/7caHQjxBvv9poVeqfP29XS13r48KHReM/UReHu3btB3NraajSnTp0K4sHBQaPp7u4O4idPnhiNt9P45s2bIPaKZ71D6o2O6+LRK1y5AoBDA4BDA4CTSE9PNzWAbiB4TQY9AZOTk2M0erLFmz7yNpF0DeBNBD179iyIe3t7jSZKIyTK+QDeddrb24PY+xx6akpPGon4E0FVVVVB7E0EabyNNn3/Bw8eGA1XAHBoAHBoAHBoAHASiUTCVEFRCiN9AJI3kRLxDZhcQUFBEHvNounp6f987biHREXR6Gf6RUR6enqCeHx83Gi83dDr168HsTc1paetlpeXjUbv4t6/f99ouAKAQwOAQwOAQwOAk4xSGOmCz72QU6jpwtC7l1c8zszMpLyfvpZXqOmc3p0U2b8DobxnHPXIuTeCfvHixZTXrqioMDl9ZoMuHEVEbt68GcQlJSVGwxUAHBoAHBoAHLcRFIe4u2qRRpedGiTKyHXck8D1tE9ZWZnR6DH42tpao9FnJnj1hm4WifjTTXHQzSlvx5ArADg0ADg0ADg0ADixx8L/Jvs12uWdHu6dYK4LOm8s+8KFC0FcVFRkNPqAS+8gK+99V1dXm5xGF8ZRGmHudVIqyD8NDQAODQDOX/23cXGJ22TSr/OexfcmcvSZRAsLC0ajR9xPnjxpNPpxLe9RNe99v3z5Moj1mUUidhPN2+jSdYJ31hJXAHBoAHBoAHBoAHAORSPII8pEkEY/cycicuPGDZPThaHXLNKHVOn/0ytii7m6ujqj8f6V29evX4N4bGzMaNra2oJ4dXXVaKJ8R1wBwKEBwKEBwPlnaoCoE8dx8JpF+hDKuNTU1Jic3gzyfrsfPXoUxBMTE0YT5fE9rgDg0ADg0ADg0ADgHIoiMO5z/QdNnGaViEh5eXkQLy4uGo0+ayDud8QVABwaABwaABwaAJxDUQSS/w+uAODQAODQAODQAODQAODQAODQAODQAODQAODQAODQAODQAODQAODQAODQAODQAODQAODQAODQAODQAODQAODQAODQAODQAODQAODQAOD8Brla9z/+lQTlAAAAAElFTkSuQmCC\" y=\"-175.711066\"/>\r\n   </g>\r\n   <g id=\"text_4\">\r\n    <!-- Sandal -->\r\n    <g transform=\"translate(50.711691 169.805184)scale(0.12 -0.12)\">\r\n     <use xlink:href=\"#DejaVuSans-83\"/>\r\n     <use x=\"63.476562\" xlink:href=\"#DejaVuSans-97\"/>\r\n     <use x=\"124.755859\" xlink:href=\"#DejaVuSans-110\"/>\r\n     <use x=\"188.134766\" xlink:href=\"#DejaVuSans-100\"/>\r\n     <use x=\"251.611328\" xlink:href=\"#DejaVuSans-97\"/>\r\n     <use x=\"312.890625\" xlink:href=\"#DejaVuSans-108\"/>\r\n    </g>\r\n   </g>\r\n  </g>\r\n  <g id=\"axes_5\">\r\n   <g clip-path=\"url(#p71da5eb1ca)\">\r\n    <image height=\"128\" id=\"imagea0e3ce8ca2\" transform=\"scale(1 -1)translate(0 -128)\" width=\"128\" x=\"164.752941\" xlink:href=\"data:image/png;base64,\r\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\" y=\"-175.711066\"/>\r\n   </g>\r\n   <g id=\"text_5\">\r\n    <!-- Pullover -->\r\n    <g transform=\"translate(204.675882 169.805184)scale(0.12 -0.12)\">\r\n     <defs>\r\n      <path d=\"M 19.671875 64.796875 \r\nL 19.671875 37.40625 \r\nL 32.078125 37.40625 \r\nQ 38.96875 37.40625 42.71875 40.96875 \r\nQ 46.484375 44.53125 46.484375 51.125 \r\nQ 46.484375 57.671875 42.71875 61.234375 \r\nQ 38.96875 64.796875 32.078125 64.796875 \r\nz\r\nM 9.8125 72.90625 \r\nL 32.078125 72.90625 \r\nQ 44.34375 72.90625 50.609375 67.359375 \r\nQ 56.890625 61.8125 56.890625 51.125 \r\nQ 56.890625 40.328125 50.609375 34.8125 \r\nQ 44.34375 29.296875 32.078125 29.296875 \r\nL 19.671875 29.296875 \r\nL 19.671875 0 \r\nL 9.8125 0 \r\nz\r\n\" id=\"DejaVuSans-80\"/>\r\n      <path d=\"M 8.5 21.578125 \r\nL 8.5 54.6875 \r\nL 17.484375 54.6875 \r\nL 17.484375 21.921875 \r\nQ 17.484375 14.15625 20.5 10.265625 \r\nQ 23.53125 6.390625 29.59375 6.390625 \r\nQ 36.859375 6.390625 41.078125 11.03125 \r\nQ 45.3125 15.671875 45.3125 23.6875 \r\nL 45.3125 54.6875 \r\nL 54.296875 54.6875 \r\nL 54.296875 0 \r\nL 45.3125 0 \r\nL 45.3125 8.40625 \r\nQ 42.046875 3.421875 37.71875 1 \r\nQ 33.40625 -1.421875 27.6875 -1.421875 \r\nQ 18.265625 -1.421875 13.375 4.4375 \r\nQ 8.5 10.296875 8.5 21.578125 \r\nz\r\nM 31.109375 56 \r\nz\r\n\" id=\"DejaVuSans-117\"/>\r\n      <path d=\"M 2.984375 54.6875 \r\nL 12.5 54.6875 \r\nL 29.59375 8.796875 \r\nL 46.6875 54.6875 \r\nL 56.203125 54.6875 \r\nL 35.6875 0 \r\nL 23.484375 0 \r\nz\r\n\" id=\"DejaVuSans-118\"/>\r\n     </defs>\r\n     <use xlink:href=\"#DejaVuSans-80\"/>\r\n     <use x=\"58.552734\" xlink:href=\"#DejaVuSans-117\"/>\r\n     <use x=\"121.931641\" xlink:href=\"#DejaVuSans-108\"/>\r\n     <use x=\"149.714844\" xlink:href=\"#DejaVuSans-108\"/>\r\n     <use x=\"177.498047\" xlink:href=\"#DejaVuSans-111\"/>\r\n     <use x=\"238.679688\" xlink:href=\"#DejaVuSans-118\"/>\r\n     <use x=\"297.859375\" xlink:href=\"#DejaVuSans-101\"/>\r\n     <use x=\"359.382812\" xlink:href=\"#DejaVuSans-114\"/>\r\n    </g>\r\n   </g>\r\n  </g>\r\n  <g id=\"axes_6\">\r\n   <g clip-path=\"url(#pc4b8e3d8b4)\">\r\n    <image height=\"128\" id=\"image25ff3112a4\" transform=\"scale(1 -1)translate(0 -128)\" width=\"128\" x=\"322.305882\" xlink:href=\"data:image/png;base64,\r\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\" y=\"-175.711066\"/>\r\n   </g>\r\n   <g id=\"text_6\">\r\n    <!-- Ankle Boot -->\r\n    <g transform=\"translate(353.800699 169.805184)scale(0.12 -0.12)\">\r\n     <use xlink:href=\"#DejaVuSans-65\"/>\r\n     <use x=\"68.408203\" xlink:href=\"#DejaVuSans-110\"/>\r\n     <use x=\"131.787109\" xlink:href=\"#DejaVuSans-107\"/>\r\n     <use x=\"189.697266\" xlink:href=\"#DejaVuSans-108\"/>\r\n     <use x=\"217.480469\" xlink:href=\"#DejaVuSans-101\"/>\r\n     <use x=\"279.003906\" xlink:href=\"#DejaVuSans-32\"/>\r\n     <use x=\"310.791016\" xlink:href=\"#DejaVuSans-66\"/>\r\n     <use x=\"379.394531\" xlink:href=\"#DejaVuSans-111\"/>\r\n     <use x=\"440.576172\" xlink:href=\"#DejaVuSans-111\"/>\r\n     <use x=\"501.757812\" xlink:href=\"#DejaVuSans-116\"/>\r\n    </g>\r\n   </g>\r\n  </g>\r\n  <g id=\"axes_7\">\r\n   <g clip-path=\"url(#p093db4398c)\">\r\n    <image height=\"128\" id=\"image37342030ff\" transform=\"scale(1 -1)translate(0 -128)\" width=\"128\" x=\"7.2\" xlink:href=\"data:image/png;base64,\r\niVBORw0KGgoAAAANSUhEUgAAAIAAAACACAYAAADDPmHLAAAFh0lEQVR4nO2dyy5sQRSGy/3aaAONbo0IMSAGTSRewyuYGhkbGHkJj+AFeiZCmBi7hFlHxP3aaLczrrXWoc7gnN51/v+brcpSe0v+rP5Ttap2jXPuyyWcmpoaNfb15b/2wsKCylleXvbipaUllbO+vq7G5ufnvXh1dVXlLC4uenGxWFQ58r3lOyeB2mq/AKkuFAA4FAA4FAA49dV+gRBCzFOhUFBjmUzGi+vrw/7d9/d3Lx4YGFA5s7OzXmyZwCSaPgkrADgUADgUADhReIAQRkdH1djz87MXl8vloLnOzs68+PX1VeXkcrk/eLvkwgoADgUADgUADgUAzn9jAru6utTYxcWFF7+8vATNlU6nf8xpa2sLmivpsAKAQwGAQwGAE60HqK2t/TZ2zrm6ujovDv3d7unp+TGnu7s7aK6kwwoADgUADgUADgUATrQmMJ/Pe3FnZ6fKkR1AocZN7izKDqE/mSvpsAKAQwGAQwGAE60HGB8f9+LGxsYf/8bq7rWQHb9WR1Bzc7MXp1IplfPw8BD0vGrCCgAOBQAOBQAOBQBOtCZwZmbGi63FGnk0q6OjI2juvr4+L/78/FQ50nRms1mVc3BwEPS8asIKAA4FAA4FAA4FAE60JnB4eNiLQ1q+Q1fmKpWKF1sGU45ZbekxwAoADgUADgUATrQeQP4Gv729qRy5ELSzsxM09+npqRdb3T/y2Jm8UyAWWAHAoQDAoQDAoQDAidYESqNmLdbI27ofHx+D5r6+vv52Hivn6uoqaO6kwQoADgUADgUATrQeoFQqebG10SM7gGQruXPObW1tqTF5j4DcHLKeJ+8iiAVWAHAoAHAoAHAoAHCiNYF3d3debC3yyIujZCu5c86tra2pMXlJlLx13DltAq0LqG5vb9VY0mAFAIcCAIcCACdaD9De3u7F1u+0PMPf398fNHdDQ8OPObLbqKWlJWjupMEKAA4FAA4FAA4FAE60JlAaOusMvyT0fgB59l+aSef0xZQjIyMq5/j4OOh51YQVABwKABwKABwKAJxoTeD09LQXNzU1qRxp5kJuE3VOt4FbK4Ny929qakrlFIvFoOdVE1YAcCgAcCgAcKL1APLm7/Pzc5Ujd+xk/Dtki7d1NEx6DmshKAZYAcChAMChAMChAMCJwgROTEyoMWvhRyLNW+j5Pes7xBL5STprp1GO3d/fBz3/X8IKAA4FAA4FAE4UHmByclKNhXQAydbx0M0g2QFkPUv6hHQ6rXLke29vbwc9/1/CCgAOBQAOBQAOBQBOtCZQLqpYizfym7+hZwNlt4+8i8A5vRBkXVQpdwhpAknioADAoQDAicID9Pb2qjF5WXQqlVI58isilk+Qi0XO6WNf1hfJ5FzyCyLWPEmEFQAcCgAcCgAcCgCcKEyg1c59eHjoxdlsVuXII137+/sqZ2xsTI3JhR9rIUheArmxsaFyQr9QUk1YAcChAMChAMChAMCJwgSWy2U1JncDW1tbVU4+n/fiwcFBlbO7u6vGpHm0Pgknbwu3jOLT05MaSxqsAOBQAOBQAOBE4QFubm7UmFz4yeVyKkfuIlq7etZvt/QTVjt5JpPx4kKhoHLkYlUSYQUAhwIAhwIAhwIAJ1oTODc358XWZY6yJUy2iTtnG0N5NtBaiJKt41bL+d7enhpLGqwA4FAA4FAA4EThAaxOnpWVFS/++PhQOaVSyYutc/6Xl5dqTH4Czmo5l5+XlX7DOdtfJA1WAHAoAHAoAHAoAHCiMIGbm5tq7OjoyIsrlYrKkRdFWt8XttrC5XlByyienJx48dDQkMoJuXCy2iT/DclfhQIAhwIAJwoPYG3GyC+EWOf85cKP7OR1zt6wkd28srvYOe0BrPsBrONiSYMVABwKABwKABwKAJxf/jtttghcrtoAAAAASUVORK5CYII=\" y=\"-329.198125\"/>\r\n   </g>\r\n   <g id=\"text_7\">\r\n    <!-- Trouser -->\r\n    <g transform=\"translate(49.283879 323.292243)scale(0.12 -0.12)\">\r\n     <defs>\r\n      <path d=\"M 44.28125 53.078125 \r\nL 44.28125 44.578125 \r\nQ 40.484375 46.53125 36.375 47.5 \r\nQ 32.28125 48.484375 27.875 48.484375 \r\nQ 21.1875 48.484375 17.84375 46.4375 \r\nQ 14.5 44.390625 14.5 40.28125 \r\nQ 14.5 37.15625 16.890625 35.375 \r\nQ 19.28125 33.59375 26.515625 31.984375 \r\nL 29.59375 31.296875 \r\nQ 39.15625 29.25 43.1875 25.515625 \r\nQ 47.21875 21.78125 47.21875 15.09375 \r\nQ 47.21875 7.46875 41.1875 3.015625 \r\nQ 35.15625 -1.421875 24.609375 -1.421875 \r\nQ 20.21875 -1.421875 15.453125 -0.5625 \r\nQ 10.6875 0.296875 5.421875 2 \r\nL 5.421875 11.28125 \r\nQ 10.40625 8.6875 15.234375 7.390625 \r\nQ 20.0625 6.109375 24.8125 6.109375 \r\nQ 31.15625 6.109375 34.5625 8.28125 \r\nQ 37.984375 10.453125 37.984375 14.40625 \r\nQ 37.984375 18.0625 35.515625 20.015625 \r\nQ 33.0625 21.96875 24.703125 23.78125 \r\nL 21.578125 24.515625 \r\nQ 13.234375 26.265625 9.515625 29.90625 \r\nQ 5.8125 33.546875 5.8125 39.890625 \r\nQ 5.8125 47.609375 11.28125 51.796875 \r\nQ 16.75 56 26.8125 56 \r\nQ 31.78125 56 36.171875 55.265625 \r\nQ 40.578125 54.546875 44.28125 53.078125 \r\nz\r\n\" id=\"DejaVuSans-115\"/>\r\n     </defs>\r\n     <use xlink:href=\"#DejaVuSans-84\"/>\r\n     <use x=\"46.333984\" xlink:href=\"#DejaVuSans-114\"/>\r\n     <use x=\"85.197266\" xlink:href=\"#DejaVuSans-111\"/>\r\n     <use x=\"146.378906\" xlink:href=\"#DejaVuSans-117\"/>\r\n     <use x=\"209.757812\" xlink:href=\"#DejaVuSans-115\"/>\r\n     <use x=\"261.857422\" xlink:href=\"#DejaVuSans-101\"/>\r\n     <use x=\"323.380859\" xlink:href=\"#DejaVuSans-114\"/>\r\n    </g>\r\n   </g>\r\n  </g>\r\n  <g id=\"axes_8\">\r\n   <g clip-path=\"url(#p3bc3391a25)\">\r\n    <image height=\"128\" id=\"image0ed47bb39d\" transform=\"scale(1 -1)translate(0 -128)\" width=\"128\" x=\"164.752941\" xlink:href=\"data:image/png;base64,\r\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\" y=\"-329.198125\"/>\r\n   </g>\r\n   <g id=\"text_8\">\r\n    <!-- Sandal -->\r\n    <g transform=\"translate(208.264632 323.292243)scale(0.12 -0.12)\">\r\n     <use xlink:href=\"#DejaVuSans-83\"/>\r\n     <use x=\"63.476562\" xlink:href=\"#DejaVuSans-97\"/>\r\n     <use x=\"124.755859\" xlink:href=\"#DejaVuSans-110\"/>\r\n     <use x=\"188.134766\" xlink:href=\"#DejaVuSans-100\"/>\r\n     <use x=\"251.611328\" xlink:href=\"#DejaVuSans-97\"/>\r\n     <use x=\"312.890625\" xlink:href=\"#DejaVuSans-108\"/>\r\n    </g>\r\n   </g>\r\n  </g>\r\n  <g id=\"axes_9\">\r\n   <g clip-path=\"url(#p67869a8510)\">\r\n    <image height=\"128\" id=\"imagef8f4e1c500\" transform=\"scale(1 -1)translate(0 -128)\" width=\"128\" x=\"322.305882\" xlink:href=\"data:image/png;base64,\r\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\" y=\"-329.198125\"/>\r\n   </g>\r\n   <g id=\"text_9\">\r\n    <!-- Dress -->\r\n    <g transform=\"translate(369.364136 323.292243)scale(0.12 -0.12)\">\r\n     <defs>\r\n      <path d=\"M 19.671875 64.796875 \r\nL 19.671875 8.109375 \r\nL 31.59375 8.109375 \r\nQ 46.6875 8.109375 53.6875 14.9375 \r\nQ 60.6875 21.78125 60.6875 36.53125 \r\nQ 60.6875 51.171875 53.6875 57.984375 \r\nQ 46.6875 64.796875 31.59375 64.796875 \r\nz\r\nM 9.8125 72.90625 \r\nL 30.078125 72.90625 \r\nQ 51.265625 72.90625 61.171875 64.09375 \r\nQ 71.09375 55.28125 71.09375 36.53125 \r\nQ 71.09375 17.671875 61.125 8.828125 \r\nQ 51.171875 0 30.078125 0 \r\nL 9.8125 0 \r\nz\r\n\" id=\"DejaVuSans-68\"/>\r\n     </defs>\r\n     <use xlink:href=\"#DejaVuSans-68\"/>\r\n     <use x=\"77.001953\" xlink:href=\"#DejaVuSans-114\"/>\r\n     <use x=\"115.865234\" xlink:href=\"#DejaVuSans-101\"/>\r\n     <use x=\"177.388672\" xlink:href=\"#DejaVuSans-115\"/>\r\n     <use x=\"229.488281\" xlink:href=\"#DejaVuSans-115\"/>\r\n    </g>\r\n   </g>\r\n  </g>\r\n </g>\r\n <defs>\r\n  <clipPath id=\"p947f37b88f\">\r\n   <rect height=\"127.905882\" width=\"127.905882\" x=\"7.2\" y=\"22.318125\"/>\r\n  </clipPath>\r\n  <clipPath id=\"p0f1f3683e7\">\r\n   <rect height=\"127.905882\" width=\"127.905882\" x=\"164.752941\" y=\"22.318125\"/>\r\n  </clipPath>\r\n  <clipPath id=\"pfb1c08b3a5\">\r\n   <rect height=\"127.905882\" width=\"127.905882\" x=\"322.305882\" y=\"22.318125\"/>\r\n  </clipPath>\r\n  <clipPath id=\"pb6b8e75d74\">\r\n   <rect height=\"127.905882\" width=\"127.905882\" x=\"7.2\" y=\"175.805184\"/>\r\n  </clipPath>\r\n  <clipPath id=\"p71da5eb1ca\">\r\n   <rect height=\"127.905882\" width=\"127.905882\" x=\"164.752941\" y=\"175.805184\"/>\r\n  </clipPath>\r\n  <clipPath id=\"pc4b8e3d8b4\">\r\n   <rect height=\"127.905882\" width=\"127.905882\" x=\"322.305882\" y=\"175.805184\"/>\r\n  </clipPath>\r\n  <clipPath id=\"p093db4398c\">\r\n   <rect height=\"127.905882\" width=\"127.905882\" x=\"7.2\" y=\"329.292243\"/>\r\n  </clipPath>\r\n  <clipPath id=\"p3bc3391a25\">\r\n   <rect height=\"127.905882\" width=\"127.905882\" x=\"164.752941\" y=\"329.292243\"/>\r\n  </clipPath>\r\n  <clipPath id=\"p67869a8510\">\r\n   <rect height=\"127.905882\" width=\"127.905882\" x=\"322.305882\" y=\"329.292243\"/>\r\n  </clipPath>\r\n </defs>\r\n</svg>\r\n",
      "image/png": "[encoded data removed]"
     },
     "metadata": {
      "needs_background": "light"
     }
    }
   ],
   "metadata": {}
  },
  {
   "cell_type": "code",
   "execution_count": 25,
   "source": [
    "#\r\n",
    "\r\n",
    "import os\r\n",
    "import pandas as pd\r\n",
    "import torchvision.io as tvio\r\n",
    "\r\n",
    "class CustomImageDataset(Dataset):\r\n",
    "    def __init__(self, annotations_file, img_dir, transform=None, target_transform=None):\r\n",
    "        self.img_labels = pd.read_csv(annotations_file)\r\n",
    "        self.img_dir = img_dir\r\n",
    "        self.transform = transform\r\n",
    "        self.target_transform = target_transform\r\n",
    "\r\n",
    "    def __len__(self):\r\n",
    "        return len(self.img_labels)\r\n",
    "\r\n",
    "    def __getitem__(self, idx):\r\n",
    "        img_path = os.path.join(self.img_dir, self.img_labels.iloc[idx, 0])\r\n",
    "        image = tvio.read_image(img_path)\r\n",
    "        label = self.img_labels.iloc[idx, 1]\r\n",
    "        if self.transform:\r\n",
    "            image = self.transform(image)\r\n",
    "        if self.target_transform:\r\n",
    "            label = self.target_transform(label)\r\n",
    "        sample = {\"image\": image, \"label\": label}\r\n",
    "        return sample "
   ],
   "outputs": [],
   "metadata": {}
  },
  {
   "cell_type": "code",
   "execution_count": 26,
   "source": [
    "from torch.utils.data import DataLoader\r\n",
    "\r\n",
    "train_dataloader = DataLoader(training_data, batch_size=64, shuffle=True)\r\n",
    "test_dataloader = DataLoader(test_data, batch_size=64, shuffle=True)"
   ],
   "outputs": [],
   "metadata": {}
  },
  {
   "cell_type": "code",
   "execution_count": 36,
   "source": [
    "# Display image and label.\r\n",
    "train_features, train_labels = next(iter(train_dataloader))\r\n",
    "print(f\"Feature batch shape: {train_features.size()}\")\r\n",
    "print(f\"Labels batch shape: {train_labels.size()}\")\r\n",
    "img = train_features[0].squeeze()\r\n",
    "label = train_labels[0]\r\n",
    "plt.imshow(img, cmap=\"gray\")\r\n",
    "plt.show()\r\n",
    "print(f\"Label: {label}\")"
   ],
   "outputs": [
    {
     "output_type": "stream",
     "name": "stdout",
     "text": [
      "Feature batch shape: torch.Size([64, 1, 28, 28])\n",
      "Labels batch shape: torch.Size([64])\n"
     ]
    },
    {
     "output_type": "display_data",
     "data": {
      "text/plain": [
       "<Figure size 432x288 with 1 Axes>"
      ],
      "image/svg+xml": "<?xml version=\"1.0\" encoding=\"utf-8\" standalone=\"no\"?>\r\n<!DOCTYPE svg PUBLIC \"-//W3C//DTD SVG 1.1//EN\"\r\n  \"http://www.w3.org/Graphics/SVG/1.1/DTD/svg11.dtd\">\r\n<!-- Created with matplotlib (https://matplotlib.org/) -->\r\n<svg height=\"248.518125pt\" version=\"1.1\" viewBox=\"0 0 251.565 248.518125\" width=\"251.565pt\" xmlns=\"http://www.w3.org/2000/svg\" xmlns:xlink=\"http://www.w3.org/1999/xlink\">\r\n <metadata>\r\n  <rdf:RDF xmlns:cc=\"http://creativecommons.org/ns#\" xmlns:dc=\"http://purl.org/dc/elements/1.1/\" xmlns:rdf=\"http://www.w3.org/1999/02/22-rdf-syntax-ns#\">\r\n   <cc:Work>\r\n    <dc:type rdf:resource=\"http://purl.org/dc/dcmitype/StillImage\"/>\r\n    <dc:date>2021-08-25T13:46:52.848864</dc:date>\r\n    <dc:format>image/svg+xml</dc:format>\r\n    <dc:creator>\r\n     <cc:Agent>\r\n      <dc:title>Matplotlib v3.3.2, https://matplotlib.org/</dc:title>\r\n     </cc:Agent>\r\n    </dc:creator>\r\n   </cc:Work>\r\n  </rdf:RDF>\r\n </metadata>\r\n <defs>\r\n  <style type=\"text/css\">*{stroke-linecap:butt;stroke-linejoin:round;}</style>\r\n </defs>\r\n <g id=\"figure_1\">\r\n  <g id=\"patch_1\">\r\n   <path d=\"M 0 248.518125 \r\nL 251.565 248.518125 \r\nL 251.565 0 \r\nL 0 0 \r\nz\r\n\" style=\"fill:none;\"/>\r\n  </g>\r\n  <g id=\"axes_1\">\r\n   <g id=\"patch_2\">\r\n    <path d=\"M 26.925 224.64 \r\nL 244.365 224.64 \r\nL 244.365 7.2 \r\nL 26.925 7.2 \r\nz\r\n\" style=\"fill:#ffffff;\"/>\r\n   </g>\r\n   <g clip-path=\"url(#p8ee8f651b4)\">\r\n    <image height=\"218\" id=\"imagebc33ff2677\" transform=\"scale(1 -1)translate(0 -218)\" width=\"218\" x=\"26.925\" xlink:href=\"data:image/png;base64,\r\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\" y=\"-6.64\"/>\r\n   </g>\r\n   <g id=\"matplotlib.axis_1\">\r\n    <g id=\"xtick_1\">\r\n     <g id=\"line2d_1\">\r\n      <defs>\r\n       <path d=\"M 0 0 \r\nL 0 3.5 \r\n\" id=\"mac898612ff\" style=\"stroke:#000000;stroke-width:0.8;\"/>\r\n      </defs>\r\n      <g>\r\n       <use style=\"stroke:#000000;stroke-width:0.8;\" x=\"30.807857\" xlink:href=\"#mac898612ff\" y=\"224.64\"/>\r\n      </g>\r\n     </g>\r\n     <g id=\"text_1\">\r\n      <!-- 0 -->\r\n      <g transform=\"translate(27.626607 239.238437)scale(0.1 -0.1)\">\r\n       <defs>\r\n        <path d=\"M 31.78125 66.40625 \r\nQ 24.171875 66.40625 20.328125 58.90625 \r\nQ 16.5 51.421875 16.5 36.375 \r\nQ 16.5 21.390625 20.328125 13.890625 \r\nQ 24.171875 6.390625 31.78125 6.390625 \r\nQ 39.453125 6.390625 43.28125 13.890625 \r\nQ 47.125 21.390625 47.125 36.375 \r\nQ 47.125 51.421875 43.28125 58.90625 \r\nQ 39.453125 66.40625 31.78125 66.40625 \r\nz\r\nM 31.78125 74.21875 \r\nQ 44.046875 74.21875 50.515625 64.515625 \r\nQ 56.984375 54.828125 56.984375 36.375 \r\nQ 56.984375 17.96875 50.515625 8.265625 \r\nQ 44.046875 -1.421875 31.78125 -1.421875 \r\nQ 19.53125 -1.421875 13.0625 8.265625 \r\nQ 6.59375 17.96875 6.59375 36.375 \r\nQ 6.59375 54.828125 13.0625 64.515625 \r\nQ 19.53125 74.21875 31.78125 74.21875 \r\nz\r\n\" id=\"DejaVuSans-48\"/>\r\n       </defs>\r\n       <use xlink:href=\"#DejaVuSans-48\"/>\r\n      </g>\r\n     </g>\r\n    </g>\r\n    <g id=\"xtick_2\">\r\n     <g id=\"line2d_2\">\r\n      <g>\r\n       <use style=\"stroke:#000000;stroke-width:0.8;\" x=\"69.636429\" xlink:href=\"#mac898612ff\" y=\"224.64\"/>\r\n      </g>\r\n     </g>\r\n     <g id=\"text_2\">\r\n      <!-- 5 -->\r\n      <g transform=\"translate(66.455179 239.238437)scale(0.1 -0.1)\">\r\n       <defs>\r\n        <path d=\"M 10.796875 72.90625 \r\nL 49.515625 72.90625 \r\nL 49.515625 64.59375 \r\nL 19.828125 64.59375 \r\nL 19.828125 46.734375 \r\nQ 21.96875 47.46875 24.109375 47.828125 \r\nQ 26.265625 48.1875 28.421875 48.1875 \r\nQ 40.625 48.1875 47.75 41.5 \r\nQ 54.890625 34.8125 54.890625 23.390625 \r\nQ 54.890625 11.625 47.5625 5.09375 \r\nQ 40.234375 -1.421875 26.90625 -1.421875 \r\nQ 22.3125 -1.421875 17.546875 -0.640625 \r\nQ 12.796875 0.140625 7.71875 1.703125 \r\nL 7.71875 11.625 \r\nQ 12.109375 9.234375 16.796875 8.0625 \r\nQ 21.484375 6.890625 26.703125 6.890625 \r\nQ 35.15625 6.890625 40.078125 11.328125 \r\nQ 45.015625 15.765625 45.015625 23.390625 \r\nQ 45.015625 31 40.078125 35.4375 \r\nQ 35.15625 39.890625 26.703125 39.890625 \r\nQ 22.75 39.890625 18.8125 39.015625 \r\nQ 14.890625 38.140625 10.796875 36.28125 \r\nz\r\n\" id=\"DejaVuSans-53\"/>\r\n       </defs>\r\n       <use xlink:href=\"#DejaVuSans-53\"/>\r\n      </g>\r\n     </g>\r\n    </g>\r\n    <g id=\"xtick_3\">\r\n     <g id=\"line2d_3\">\r\n      <g>\r\n       <use style=\"stroke:#000000;stroke-width:0.8;\" x=\"108.465\" xlink:href=\"#mac898612ff\" y=\"224.64\"/>\r\n      </g>\r\n     </g>\r\n     <g id=\"text_3\">\r\n      <!-- 10 -->\r\n      <g transform=\"translate(102.1025 239.238437)scale(0.1 -0.1)\">\r\n       <defs>\r\n        <path d=\"M 12.40625 8.296875 \r\nL 28.515625 8.296875 \r\nL 28.515625 63.921875 \r\nL 10.984375 60.40625 \r\nL 10.984375 69.390625 \r\nL 28.421875 72.90625 \r\nL 38.28125 72.90625 \r\nL 38.28125 8.296875 \r\nL 54.390625 8.296875 \r\nL 54.390625 0 \r\nL 12.40625 0 \r\nz\r\n\" id=\"DejaVuSans-49\"/>\r\n       </defs>\r\n       <use xlink:href=\"#DejaVuSans-49\"/>\r\n       <use x=\"63.623047\" xlink:href=\"#DejaVuSans-48\"/>\r\n      </g>\r\n     </g>\r\n    </g>\r\n    <g id=\"xtick_4\">\r\n     <g id=\"line2d_4\">\r\n      <g>\r\n       <use style=\"stroke:#000000;stroke-width:0.8;\" x=\"147.293571\" xlink:href=\"#mac898612ff\" y=\"224.64\"/>\r\n      </g>\r\n     </g>\r\n     <g id=\"text_4\">\r\n      <!-- 15 -->\r\n      <g transform=\"translate(140.931071 239.238437)scale(0.1 -0.1)\">\r\n       <use xlink:href=\"#DejaVuSans-49\"/>\r\n       <use x=\"63.623047\" xlink:href=\"#DejaVuSans-53\"/>\r\n      </g>\r\n     </g>\r\n    </g>\r\n    <g id=\"xtick_5\">\r\n     <g id=\"line2d_5\">\r\n      <g>\r\n       <use style=\"stroke:#000000;stroke-width:0.8;\" x=\"186.122143\" xlink:href=\"#mac898612ff\" y=\"224.64\"/>\r\n      </g>\r\n     </g>\r\n     <g id=\"text_5\">\r\n      <!-- 20 -->\r\n      <g transform=\"translate(179.759643 239.238437)scale(0.1 -0.1)\">\r\n       <defs>\r\n        <path d=\"M 19.1875 8.296875 \r\nL 53.609375 8.296875 \r\nL 53.609375 0 \r\nL 7.328125 0 \r\nL 7.328125 8.296875 \r\nQ 12.9375 14.109375 22.625 23.890625 \r\nQ 32.328125 33.6875 34.8125 36.53125 \r\nQ 39.546875 41.84375 41.421875 45.53125 \r\nQ 43.3125 49.21875 43.3125 52.78125 \r\nQ 43.3125 58.59375 39.234375 62.25 \r\nQ 35.15625 65.921875 28.609375 65.921875 \r\nQ 23.96875 65.921875 18.8125 64.3125 \r\nQ 13.671875 62.703125 7.8125 59.421875 \r\nL 7.8125 69.390625 \r\nQ 13.765625 71.78125 18.9375 73 \r\nQ 24.125 74.21875 28.421875 74.21875 \r\nQ 39.75 74.21875 46.484375 68.546875 \r\nQ 53.21875 62.890625 53.21875 53.421875 \r\nQ 53.21875 48.921875 51.53125 44.890625 \r\nQ 49.859375 40.875 45.40625 35.40625 \r\nQ 44.1875 33.984375 37.640625 27.21875 \r\nQ 31.109375 20.453125 19.1875 8.296875 \r\nz\r\n\" id=\"DejaVuSans-50\"/>\r\n       </defs>\r\n       <use xlink:href=\"#DejaVuSans-50\"/>\r\n       <use x=\"63.623047\" xlink:href=\"#DejaVuSans-48\"/>\r\n      </g>\r\n     </g>\r\n    </g>\r\n    <g id=\"xtick_6\">\r\n     <g id=\"line2d_6\">\r\n      <g>\r\n       <use style=\"stroke:#000000;stroke-width:0.8;\" x=\"224.950714\" xlink:href=\"#mac898612ff\" y=\"224.64\"/>\r\n      </g>\r\n     </g>\r\n     <g id=\"text_6\">\r\n      <!-- 25 -->\r\n      <g transform=\"translate(218.588214 239.238437)scale(0.1 -0.1)\">\r\n       <use xlink:href=\"#DejaVuSans-50\"/>\r\n       <use x=\"63.623047\" xlink:href=\"#DejaVuSans-53\"/>\r\n      </g>\r\n     </g>\r\n    </g>\r\n   </g>\r\n   <g id=\"matplotlib.axis_2\">\r\n    <g id=\"ytick_1\">\r\n     <g id=\"line2d_7\">\r\n      <defs>\r\n       <path d=\"M 0 0 \r\nL -3.5 0 \r\n\" id=\"md87a76ec20\" style=\"stroke:#000000;stroke-width:0.8;\"/>\r\n      </defs>\r\n      <g>\r\n       <use style=\"stroke:#000000;stroke-width:0.8;\" x=\"26.925\" xlink:href=\"#md87a76ec20\" y=\"11.082857\"/>\r\n      </g>\r\n     </g>\r\n     <g id=\"text_7\">\r\n      <!-- 0 -->\r\n      <g transform=\"translate(13.5625 14.882076)scale(0.1 -0.1)\">\r\n       <use xlink:href=\"#DejaVuSans-48\"/>\r\n      </g>\r\n     </g>\r\n    </g>\r\n    <g id=\"ytick_2\">\r\n     <g id=\"line2d_8\">\r\n      <g>\r\n       <use style=\"stroke:#000000;stroke-width:0.8;\" x=\"26.925\" xlink:href=\"#md87a76ec20\" y=\"49.911429\"/>\r\n      </g>\r\n     </g>\r\n     <g id=\"text_8\">\r\n      <!-- 5 -->\r\n      <g transform=\"translate(13.5625 53.710647)scale(0.1 -0.1)\">\r\n       <use xlink:href=\"#DejaVuSans-53\"/>\r\n      </g>\r\n     </g>\r\n    </g>\r\n    <g id=\"ytick_3\">\r\n     <g id=\"line2d_9\">\r\n      <g>\r\n       <use style=\"stroke:#000000;stroke-width:0.8;\" x=\"26.925\" xlink:href=\"#md87a76ec20\" y=\"88.74\"/>\r\n      </g>\r\n     </g>\r\n     <g id=\"text_9\">\r\n      <!-- 10 -->\r\n      <g transform=\"translate(7.2 92.539219)scale(0.1 -0.1)\">\r\n       <use xlink:href=\"#DejaVuSans-49\"/>\r\n       <use x=\"63.623047\" xlink:href=\"#DejaVuSans-48\"/>\r\n      </g>\r\n     </g>\r\n    </g>\r\n    <g id=\"ytick_4\">\r\n     <g id=\"line2d_10\">\r\n      <g>\r\n       <use style=\"stroke:#000000;stroke-width:0.8;\" x=\"26.925\" xlink:href=\"#md87a76ec20\" y=\"127.568571\"/>\r\n      </g>\r\n     </g>\r\n     <g id=\"text_10\">\r\n      <!-- 15 -->\r\n      <g transform=\"translate(7.2 131.36779)scale(0.1 -0.1)\">\r\n       <use xlink:href=\"#DejaVuSans-49\"/>\r\n       <use x=\"63.623047\" xlink:href=\"#DejaVuSans-53\"/>\r\n      </g>\r\n     </g>\r\n    </g>\r\n    <g id=\"ytick_5\">\r\n     <g id=\"line2d_11\">\r\n      <g>\r\n       <use style=\"stroke:#000000;stroke-width:0.8;\" x=\"26.925\" xlink:href=\"#md87a76ec20\" y=\"166.397143\"/>\r\n      </g>\r\n     </g>\r\n     <g id=\"text_11\">\r\n      <!-- 20 -->\r\n      <g transform=\"translate(7.2 170.196362)scale(0.1 -0.1)\">\r\n       <use xlink:href=\"#DejaVuSans-50\"/>\r\n       <use x=\"63.623047\" xlink:href=\"#DejaVuSans-48\"/>\r\n      </g>\r\n     </g>\r\n    </g>\r\n    <g id=\"ytick_6\">\r\n     <g id=\"line2d_12\">\r\n      <g>\r\n       <use style=\"stroke:#000000;stroke-width:0.8;\" x=\"26.925\" xlink:href=\"#md87a76ec20\" y=\"205.225714\"/>\r\n      </g>\r\n     </g>\r\n     <g id=\"text_12\">\r\n      <!-- 25 -->\r\n      <g transform=\"translate(7.2 209.024933)scale(0.1 -0.1)\">\r\n       <use xlink:href=\"#DejaVuSans-50\"/>\r\n       <use x=\"63.623047\" xlink:href=\"#DejaVuSans-53\"/>\r\n      </g>\r\n     </g>\r\n    </g>\r\n   </g>\r\n   <g id=\"patch_3\">\r\n    <path d=\"M 26.925 224.64 \r\nL 26.925 7.2 \r\n\" style=\"fill:none;stroke:#000000;stroke-linecap:square;stroke-linejoin:miter;stroke-width:0.8;\"/>\r\n   </g>\r\n   <g id=\"patch_4\">\r\n    <path d=\"M 244.365 224.64 \r\nL 244.365 7.2 \r\n\" style=\"fill:none;stroke:#000000;stroke-linecap:square;stroke-linejoin:miter;stroke-width:0.8;\"/>\r\n   </g>\r\n   <g id=\"patch_5\">\r\n    <path d=\"M 26.925 224.64 \r\nL 244.365 224.64 \r\n\" style=\"fill:none;stroke:#000000;stroke-linecap:square;stroke-linejoin:miter;stroke-width:0.8;\"/>\r\n   </g>\r\n   <g id=\"patch_6\">\r\n    <path d=\"M 26.925 7.2 \r\nL 244.365 7.2 \r\n\" style=\"fill:none;stroke:#000000;stroke-linecap:square;stroke-linejoin:miter;stroke-width:0.8;\"/>\r\n   </g>\r\n  </g>\r\n </g>\r\n <defs>\r\n  <clipPath id=\"p8ee8f651b4\">\r\n   <rect height=\"217.44\" width=\"217.44\" x=\"26.925\" y=\"7.2\"/>\r\n  </clipPath>\r\n </defs>\r\n</svg>\r\n",
      "image/png": "[encoded data removed]"
     },
     "metadata": {
      "needs_background": "light"
     }
    },
    {
     "output_type": "stream",
     "name": "stdout",
     "text": [
      "Label: 8\n"
     ]
    }
   ],
   "metadata": {}
  },
  {
   "cell_type": "code",
   "execution_count": 40,
   "source": [
    "\r\n",
    "from torchvision import datasets\r\n",
    "from torchvision.transforms import ToTensor, Lambda\r\n",
    "\r\n",
    "ds = datasets.FashionMNIST(\r\n",
    "    root=\"data\",\r\n",
    "    train=True,\r\n",
    "    download=True,\r\n",
    "    transform=ToTensor(),\r\n",
    "    target_transform=Lambda(lambda y: torch.zeros(10, dtype=torch.float).scatter_(0, torch.tensor(y), value=1))\r\n",
    ")"
   ],
   "outputs": [],
   "metadata": {}
  },
  {
   "cell_type": "code",
   "execution_count": 41,
   "source": [
    "target_transform = Lambda(lambda y: torch.zeros(\r\n",
    "    10, dtype=torch.float).scatter_(dim=0, index=torch.tensor(y), value=1))"
   ],
   "outputs": [],
   "metadata": {}
  },
  {
   "cell_type": "code",
   "execution_count": 48,
   "source": [
    "torch.version.cuda\r\n",
    "torch.__version__"
   ],
   "outputs": [
    {
     "output_type": "execute_result",
     "data": {
      "text/plain": [
       "'1.9.0'"
      ]
     },
     "metadata": {},
     "execution_count": 48
    }
   ],
   "metadata": {}
  },
  {
   "cell_type": "markdown",
   "source": [
    "# Build a neural network\r\n",
    "\r\n",
    "Neural networks comprise of layers/modules that perform operations on data. \r\n",
    "The [torch.nn](https://pytorch.org/docs/stable/nn.html) namespace provides all the building blocks you need to \r\n",
    "build your own neural network. Every module in PyTorch subclasses the [nn.Module](https://pytorch.org/docs/stable/generated/torch.nn.Module.html). \r\n",
    "A neural network is a module itself that consists of other modules (layers). This nested structure allows for\r\n",
    "building and managing complex architectures easily.\r\n",
    "\r\n",
    "In the following sections, we'll build a neural network to classify images in the FashionMNIST dataset."
   ],
   "metadata": {}
  },
  {
   "cell_type": "code",
   "execution_count": 49,
   "source": [
    "import os\r\n",
    "import torch\r\n",
    "from torch import nn\r\n",
    "from torch.utils.data import DataLoader\r\n",
    "from torchvision import datasets, transforms"
   ],
   "outputs": [],
   "metadata": {}
  },
  {
   "cell_type": "code",
   "execution_count": 50,
   "source": [
    "device = 'cuda' if torch.cuda.is_available() else 'cpu'\r\n",
    "print('Using {} device'.format(device))"
   ],
   "outputs": [
    {
     "output_type": "stream",
     "name": "stdout",
     "text": [
      "Using cpu device\n"
     ]
    }
   ],
   "metadata": {}
  },
  {
   "cell_type": "code",
   "execution_count": 52,
   "source": [
    "?nn.Module"
   ],
   "outputs": [
    {
     "output_type": "stream",
     "name": "stdout",
     "text": [
      "\u001b[1;31mInit signature:\u001b[0m \u001b[0mnn\u001b[0m\u001b[1;33m.\u001b[0m\u001b[0mModule\u001b[0m\u001b[1;33m(\u001b[0m\u001b[1;33m)\u001b[0m\u001b[1;33m\u001b[0m\u001b[1;33m\u001b[0m\u001b[0m\n",
      "\u001b[1;31mDocstring:\u001b[0m     \n",
      "Base class for all neural network modules.\n",
      "\n",
      "Your models should also subclass this class.\n",
      "\n",
      "Modules can also contain other Modules, allowing to nest them in\n",
      "a tree structure. You can assign the submodules as regular attributes::\n",
      "\n",
      "    import torch.nn as nn\n",
      "    import torch.nn.functional as F\n",
      "\n",
      "    class Model(nn.Module):\n",
      "        def __init__(self):\n",
      "            super(Model, self).__init__()\n",
      "            self.conv1 = nn.Conv2d(1, 20, 5)\n",
      "            self.conv2 = nn.Conv2d(20, 20, 5)\n",
      "\n",
      "        def forward(self, x):\n",
      "            x = F.relu(self.conv1(x))\n",
      "            return F.relu(self.conv2(x))\n",
      "\n",
      "Submodules assigned in this way will be registered, and will have their\n",
      "parameters converted too when you call :meth:`to`, etc.\n",
      "\n",
      ":ivar training: Boolean represents whether this module is in training or\n",
      "                evaluation mode.\n",
      ":vartype training: bool\n",
      "\u001b[1;31mInit docstring:\u001b[0m Initializes internal Module state, shared by both nn.Module and ScriptModule.\n",
      "\u001b[1;31mFile:\u001b[0m           c:\\programdata\\anaconda3\\lib\\site-packages\\torch\\nn\\modules\\module.py\n",
      "\u001b[1;31mType:\u001b[0m           type\n",
      "\u001b[1;31mSubclasses:\u001b[0m     Identity, Linear, Bilinear, _ConvNd, Threshold, ReLU, RReLU, Hardtanh, Sigmoid, Hardsigmoid, ...\n"
     ]
    }
   ],
   "metadata": {}
  },
  {
   "cell_type": "code",
   "execution_count": 53,
   "source": [
    "class NeuralNetwork(nn.Module):\r\n",
    "    def __init__(self):\r\n",
    "        super(NeuralNetwork, self).__init__()\r\n",
    "        self.flatten = nn.Flatten()\r\n",
    "        self.linear_relu_stack = nn.Sequential(\r\n",
    "            nn.Linear(28*28, 512),\r\n",
    "            nn.ReLU(),\r\n",
    "            nn.Linear(512, 512),\r\n",
    "            nn.ReLU(),\r\n",
    "            nn.Linear(512, 10),\r\n",
    "            nn.ReLU()\r\n",
    "        )\r\n",
    "\r\n",
    "    def forward(self, x):\r\n",
    "        x = self.flatten(x)\r\n",
    "        logits = self.linear_relu_stack(x)\r\n",
    "        return logits"
   ],
   "outputs": [],
   "metadata": {}
  },
  {
   "cell_type": "code",
   "execution_count": 55,
   "source": [
    "?super"
   ],
   "outputs": [
    {
     "output_type": "stream",
     "name": "stdout",
     "text": [
      "\u001b[1;31mInit signature:\u001b[0m \u001b[0msuper\u001b[0m\u001b[1;33m(\u001b[0m\u001b[0mself\u001b[0m\u001b[1;33m,\u001b[0m \u001b[1;33m/\u001b[0m\u001b[1;33m,\u001b[0m \u001b[1;33m*\u001b[0m\u001b[0margs\u001b[0m\u001b[1;33m,\u001b[0m \u001b[1;33m**\u001b[0m\u001b[0mkwargs\u001b[0m\u001b[1;33m)\u001b[0m\u001b[1;33m\u001b[0m\u001b[1;33m\u001b[0m\u001b[0m\n",
      "\u001b[1;31mDocstring:\u001b[0m     \n",
      "super() -> same as super(__class__, <first argument>)\n",
      "super(type) -> unbound super object\n",
      "super(type, obj) -> bound super object; requires isinstance(obj, type)\n",
      "super(type, type2) -> bound super object; requires issubclass(type2, type)\n",
      "Typical use to call a cooperative superclass method:\n",
      "class C(B):\n",
      "    def meth(self, arg):\n",
      "        super().meth(arg)\n",
      "This works for class methods too:\n",
      "class C(B):\n",
      "    @classmethod\n",
      "    def cmeth(cls, arg):\n",
      "        super().cmeth(arg)\n",
      "\u001b[1;31mType:\u001b[0m           type\n",
      "\u001b[1;31mSubclasses:\u001b[0m     \n"
     ]
    }
   ],
   "metadata": {}
  },
  {
   "cell_type": "code",
   "execution_count": 67,
   "source": [
    "class B():\r\n",
    "    def majid():\r\n",
    "        print(\"hi there!\")\r\n",
    "class C(B):\r\n",
    "    def meth(self, arg):\r\n",
    "        super().meth(arg)\r\n",
    "\r\n",
    "dir(C)\r\n",
    "C.majid()"
   ],
   "outputs": [
    {
     "output_type": "stream",
     "name": "stdout",
     "text": [
      "hi there!\n"
     ]
    }
   ],
   "metadata": {}
  },
  {
   "cell_type": "markdown",
   "source": [
    "### We create an instance of `NeuralNetwork`, and move it to the `device`, and print it's structure."
   ],
   "metadata": {}
  },
  {
   "cell_type": "code",
   "execution_count": 72,
   "source": [
    "model = NeuralNetwork().to(device)\r\n",
    "print(model)"
   ],
   "outputs": [
    {
     "output_type": "stream",
     "name": "stdout",
     "text": [
      "NeuralNetwork(\n",
      "  (flatten): Flatten(start_dim=1, end_dim=-1)\n",
      "  (linear_relu_stack): Sequential(\n",
      "    (0): Linear(in_features=784, out_features=512, bias=True)\n",
      "    (1): ReLU()\n",
      "    (2): Linear(in_features=512, out_features=512, bias=True)\n",
      "    (3): ReLU()\n",
      "    (4): Linear(in_features=512, out_features=10, bias=True)\n",
      "    (5): ReLU()\n",
      "  )\n",
      ")\n"
     ]
    }
   ],
   "metadata": {}
  },
  {
   "cell_type": "markdown",
   "source": [
    "To use the model, we pass it the input data. This executes the model's `forward`,\r\n",
    "along with some [background operations](https://github.com/pytorch/pytorch/blob/270111b7b611d174967ed204776985cefca9c144/torch/nn/modules/module.py#L866). \r\n",
    "Do not call `model.forward()` directly!\r\n",
    "\r\n",
    "Calling the model on the input returns a 10-dimensional tensor with raw predicted values for each class.\r\n",
    "We get the prediction densities by passing it through an instance of the `nn.Softmax` module."
   ],
   "metadata": {}
  },
  {
   "cell_type": "code",
   "execution_count": 83,
   "source": [
    "\r\n",
    "X = torch.rand(1, 28, 28, device=device)\r\n",
    "logits = model(X) \r\n",
    "pred_probab = nn.Softmax(dim=1)(logits)\r\n",
    "y_pred = pred_probab.argmax(1)\r\n",
    "print(f\"Predicted class: {y_pred}\")\r\n"
   ],
   "outputs": [
    {
     "output_type": "stream",
     "name": "stdout",
     "text": [
      "Predicted class: tensor([9])\n"
     ]
    }
   ],
   "metadata": {}
  },
  {
   "cell_type": "markdown",
   "source": [
    "# Model layers"
   ],
   "metadata": {}
  },
  {
   "cell_type": "code",
   "execution_count": 86,
   "source": [
    "\r\n",
    "# we will take a sample minibatch of 3 images of size 28x28 \r\n",
    "\r\n",
    "input_image = torch.rand(3,28,28)\r\n",
    "print(input_image.size())\r\n"
   ],
   "outputs": [
    {
     "output_type": "stream",
     "name": "stdout",
     "text": [
      "torch.Size([3, 28, 28])\n"
     ]
    }
   ],
   "metadata": {}
  },
  {
   "cell_type": "code",
   "execution_count": 88,
   "source": [
    "# We initialize the nn.Flatten layer to convert each 2D 28x28 image \r\n",
    "# into a contiguous array of 784 pixel values\r\n",
    "\r\n",
    "flatten = nn.Flatten()\r\n",
    "flat_image = flatten(input_image)\r\n",
    "print(flat_image.size())\r\n"
   ],
   "outputs": [
    {
     "output_type": "stream",
     "name": "stdout",
     "text": [
      "torch.Size([3, 784])\n"
     ]
    }
   ],
   "metadata": {}
  },
  {
   "cell_type": "code",
   "execution_count": 96,
   "source": [
    "# nn.Linear\r\n",
    "# The linear layer is a module that applies a linear transformation on \r\n",
    "# the input using it's stored weights and biases.\r\n",
    "\r\n",
    "layer1 = nn.Linear(in_features=28*28, out_features=20)\r\n",
    "hidden1 = layer1(flat_image)\r\n",
    "print(hidden1.size())"
   ],
   "outputs": [
    {
     "output_type": "stream",
     "name": "stdout",
     "text": [
      "torch.Size([3, 20])\n"
     ]
    }
   ],
   "metadata": {}
  },
  {
   "cell_type": "code",
   "execution_count": 97,
   "source": [
    "# nn.ReLU\r\n",
    "# Non-linear activations are what create the complex mappings between \r\n",
    "# the model's inputs and outputs. They are applied after linear transformations\r\n",
    "# to introduce nonlinearity, helping neural networks learn a wide variety of phenomena.\r\n",
    "\r\n",
    "print(f\"Before ReLU: {hidden1}\\n\\n\")\r\n",
    "hidden1 = nn.ReLU()(hidden1)\r\n",
    "print(f\"After ReLU: {hidden1}\")"
   ],
   "outputs": [
    {
     "output_type": "stream",
     "name": "stdout",
     "text": [
      "Before ReLU: tensor([[ 3.8501e-01, -3.3355e-01, -3.7830e-02,  4.4990e-02, -3.2397e-01,\n",
      "         -3.8141e-01,  1.1265e-02,  1.9798e-01, -1.5710e-01, -7.0600e-02,\n",
      "          7.6189e-02, -3.2096e-01, -3.3638e-01, -5.1823e-01, -4.4312e-01,\n",
      "          6.9224e-01,  3.0445e-01, -1.8482e-01, -4.0993e-01, -3.9287e-01],\n",
      "        [ 3.3666e-01, -3.6540e-01,  3.9680e-01, -1.7356e-01, -3.2376e-01,\n",
      "         -3.3196e-01, -1.4659e-01,  1.0838e-01,  1.7612e-01,  2.7989e-01,\n",
      "         -5.1084e-02,  5.2136e-02,  1.5525e-01, -4.3174e-01, -6.7560e-01,\n",
      "          2.8822e-01,  1.5087e-01, -2.0024e-01, -4.0359e-01,  1.4058e-04],\n",
      "        [ 3.8662e-01, -4.8456e-01,  3.8124e-01, -3.4268e-01, -2.0448e-01,\n",
      "         -1.4164e-01,  2.9786e-01,  1.7695e-01,  1.3110e-01, -6.6017e-02,\n",
      "          1.2636e-01, -1.9632e-01, -2.1053e-01, -1.9311e-01, -4.2010e-01,\n",
      "          2.8669e-01,  6.3609e-01, -1.5324e-01, -2.9551e-01, -2.1557e-01]],\n",
      "       grad_fn=<AddmmBackward>)\n",
      "\n",
      "\n",
      "After ReLU: tensor([[3.8501e-01, 0.0000e+00, 0.0000e+00, 4.4990e-02, 0.0000e+00, 0.0000e+00,\n",
      "         1.1265e-02, 1.9798e-01, 0.0000e+00, 0.0000e+00, 7.6189e-02, 0.0000e+00,\n",
      "         0.0000e+00, 0.0000e+00, 0.0000e+00, 6.9224e-01, 3.0445e-01, 0.0000e+00,\n",
      "         0.0000e+00, 0.0000e+00],\n",
      "        [3.3666e-01, 0.0000e+00, 3.9680e-01, 0.0000e+00, 0.0000e+00, 0.0000e+00,\n",
      "         0.0000e+00, 1.0838e-01, 1.7612e-01, 2.7989e-01, 0.0000e+00, 5.2136e-02,\n",
      "         1.5525e-01, 0.0000e+00, 0.0000e+00, 2.8822e-01, 1.5087e-01, 0.0000e+00,\n",
      "         0.0000e+00, 1.4058e-04],\n",
      "        [3.8662e-01, 0.0000e+00, 3.8124e-01, 0.0000e+00, 0.0000e+00, 0.0000e+00,\n",
      "         2.9786e-01, 1.7695e-01, 1.3110e-01, 0.0000e+00, 1.2636e-01, 0.0000e+00,\n",
      "         0.0000e+00, 0.0000e+00, 0.0000e+00, 2.8669e-01, 6.3609e-01, 0.0000e+00,\n",
      "         0.0000e+00, 0.0000e+00]], grad_fn=<ReluBackward0>)\n"
     ]
    }
   ],
   "metadata": {}
  },
  {
   "cell_type": "markdown",
   "source": [
    "### nn.Sequential\r\n",
    "\r\n",
    "[nn.Sequential](https://pytorch.org/docs/stable/generated/torch.nn.Sequential.html) is an ordered \r\n",
    "container of modules. The data is passed through all the modules in the same order as defined. You can use\r\n",
    "sequential containers to put together a quick network like `seq_modules`.\r\n",
    "\r\n"
   ],
   "metadata": {}
  },
  {
   "cell_type": "code",
   "execution_count": 104,
   "source": [
    "seq_modules = nn.Sequential(\r\n",
    "    flatten,\r\n",
    "    layer1,\r\n",
    "    nn.ReLU(),\r\n",
    "    nn.Linear(20, 10)\r\n",
    ")\r\n",
    "input_image = torch.rand(3,28,28)\r\n",
    "logits = seq_modules(input_image)\r\n",
    "logits"
   ],
   "outputs": [
    {
     "output_type": "execute_result",
     "data": {
      "text/plain": [
       "tensor([[-0.0109,  0.0710, -0.3522, -0.0655, -0.1857,  0.1030, -0.1556,  0.0048,\n",
       "         -0.0123,  0.1587],\n",
       "        [-0.1281,  0.1170, -0.3526, -0.0302, -0.1630,  0.0336, -0.0521,  0.0610,\n",
       "          0.1026,  0.3190],\n",
       "        [-0.1087,  0.0519, -0.3391,  0.0683, -0.1937,  0.0080, -0.1234, -0.1473,\n",
       "          0.0633,  0.2339]], grad_fn=<AddmmBackward>)"
      ]
     },
     "metadata": {},
     "execution_count": 104
    }
   ],
   "metadata": {}
  }
 ],
 "metadata": {
  "orig_nbformat": 4,
  "language_info": {
   "name": "python",
   "version": "3.8.5",
   "mimetype": "text/x-python",
   "codemirror_mode": {
    "name": "ipython",
    "version": 3
   },
   "pygments_lexer": "ipython3",
   "nbconvert_exporter": "python",
   "file_extension": ".py"
  },
  "kernelspec": {
   "name": "python3",
   "display_name": "Python 3.8.5 64-bit (conda)"
  },
  "interpreter": {
   "hash": "b3ba2566441a7c06988d0923437866b63cedc61552a5af99d1f4fb67d367b25f"
  }
 },
 "nbformat": 4,
 "nbformat_minor": 2
}